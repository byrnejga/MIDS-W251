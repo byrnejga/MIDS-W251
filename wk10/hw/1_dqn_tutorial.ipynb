{
 "cells": [
  {
   "cell_type": "markdown",
   "metadata": {
    "colab_type": "text",
    "id": "klGNgWREsvQv"
   },
   "source": [
    "##### Copyright 2018 The TF-Agents Authors."
   ]
  },
  {
   "cell_type": "code",
   "execution_count": 1,
   "metadata": {
    "cellView": "form",
    "colab": {},
    "colab_type": "code",
    "id": "nQnmcm0oI1Q-"
   },
   "outputs": [],
   "source": [
    "#@title Licensed under the Apache License, Version 2.0 (the \"License\");\n",
    "# you may not use this file except in compliance with the License.\n",
    "# You may obtain a copy of the License at\n",
    "#\n",
    "# https://www.apache.org/licenses/LICENSE-2.0\n",
    "#\n",
    "# Unless required by applicable law or agreed to in writing, software\n",
    "# distributed under the License is distributed on an \"AS IS\" BASIS,\n",
    "# WITHOUT WARRANTIES OR CONDITIONS OF ANY KIND, either express or implied.\n",
    "# See the License for the specific language governing permissions and\n",
    "# limitations under the License."
   ]
  },
  {
   "cell_type": "markdown",
   "metadata": {
    "colab_type": "text",
    "id": "pmDI-h7cI0tI"
   },
   "source": [
    "# Train a Deep Q Network with TF-Agents\n",
    "\n",
    "<table class=\"tfo-notebook-buttons\" align=\"left\">\n",
    "  <td>\n",
    "    <a target=\"_blank\" href=\"https://www.tensorflow.org/agents/tutorials/1_dqn_tutorial\">\n",
    "    <img src=\"https://www.tensorflow.org/images/tf_logo_32px.png\" />\n",
    "    View on TensorFlow.org</a>\n",
    "  </td>\n",
    "  <td>\n",
    "    <a target=\"_blank\" href=\"https://colab.research.google.com/github/tensorflow/agents/blob/master/docs/tutorials/1_dqn_tutorial.ipynb\">\n",
    "    <img src=\"https://www.tensorflow.org/images/colab_logo_32px.png\" />\n",
    "    Run in Google Colab</a>\n",
    "  </td>\n",
    "  <td>\n",
    "    <a target=\"_blank\" href=\"https://github.com/tensorflow/agents/blob/master/docs/tutorials/1_dqn_tutorial.ipynb\">\n",
    "    <img src=\"https://www.tensorflow.org/images/GitHub-Mark-32px.png\" />\n",
    "    View source on GitHub</a>\n",
    "  </td>\n",
    "  <td>\n",
    "    <a href=\"https://storage.googleapis.com/tensorflow_docs/agents/docs/tutorials/1_dqn_tutorial.ipynb\"><img src=\"https://www.tensorflow.org/images/download_logo_32px.png\" />Download notebook</a>\n",
    "  </td>\n",
    "</table>"
   ]
  },
  {
   "cell_type": "markdown",
   "metadata": {
    "colab_type": "text",
    "id": "lsaQlK8fFQqH"
   },
   "source": [
    "## Introduction\n"
   ]
  },
  {
   "cell_type": "markdown",
   "metadata": {
    "colab_type": "text",
    "id": "cKOCZlhUgXVK"
   },
   "source": [
    "This example shows how to train a [DQN (Deep Q Networks)](https://storage.googleapis.com/deepmind-media/dqn/DQNNaturePaper.pdf)  agent on the Cartpole environment using the TF-Agents library.\n",
    "\n",
    "![Cartpole environment](https://raw.githubusercontent.com/tensorflow/agents/master/docs/tutorials/images/cartpole.png)\n",
    "\n",
    "It will walk you through all the components in a Reinforcement Learning (RL) pipeline for training, evaluation and data collection.\n",
    "\n",
    "\n",
    "To run this code live, click the 'Run in Google Colab' link above.\n"
   ]
  },
  {
   "cell_type": "markdown",
   "metadata": {
    "colab_type": "text",
    "id": "1u9QVVsShC9X"
   },
   "source": [
    "## Setup"
   ]
  },
  {
   "cell_type": "markdown",
   "metadata": {
    "colab_type": "text",
    "id": "kNrNXKI7bINP"
   },
   "source": [
    "If you haven't installed the following dependencies, run:"
   ]
  },
  {
   "cell_type": "code",
   "execution_count": 2,
   "metadata": {
    "colab": {},
    "colab_type": "code",
    "id": "KEHR2Ui-lo8O"
   },
   "outputs": [
    {
     "name": "stdout",
     "output_type": "stream",
     "text": [
      "\u001b[33mWARNING: You are using pip version 20.1; however, version 20.1.1 is available.\n",
      "You should consider upgrading via the '/usr/bin/python3 -m pip install --upgrade pip' command.\u001b[0m\n",
      "\u001b[33mWARNING: You are using pip version 20.1; however, version 20.1.1 is available.\n",
      "You should consider upgrading via the '/usr/bin/python3 -m pip install --upgrade pip' command.\u001b[0m\n",
      "\u001b[33mWARNING: You are using pip version 20.1; however, version 20.1.1 is available.\n",
      "You should consider upgrading via the '/usr/bin/python3 -m pip install --upgrade pip' command.\u001b[0m\n",
      "\u001b[33mWARNING: You are using pip version 20.1; however, version 20.1.1 is available.\n",
      "You should consider upgrading via the '/usr/bin/python3 -m pip install --upgrade pip' command.\u001b[0m\n",
      "\u001b[33mWARNING: You are using pip version 20.1; however, version 20.1.1 is available.\n",
      "You should consider upgrading via the '/usr/bin/python3 -m pip install --upgrade pip' command.\u001b[0m\n"
     ]
    }
   ],
   "source": [
    "# !sudo apt-get install -y xvfb ffmpeg\n",
    "!pip install -q 'gym==0.10.11'\n",
    "!pip install -q 'imageio==2.4.0'\n",
    "!pip install -q PILLOW\n",
    "!pip install -q 'pyglet==1.3.2'\n",
    "!pip install -q tf-agents"
   ]
  },
  {
   "cell_type": "code",
   "execution_count": 3,
   "metadata": {
    "colab": {},
    "colab_type": "code",
    "id": "sMitx5qSgJk1"
   },
   "outputs": [],
   "source": [
    "from __future__ import absolute_import, division, print_function\n",
    "\n",
    "import base64\n",
    "import imageio\n",
    "import IPython\n",
    "import matplotlib\n",
    "import matplotlib.pyplot as plt\n",
    "import numpy as np\n",
    "import PIL.Image\n",
    "import pyvirtualdisplay\n",
    "\n",
    "import tensorflow as tf\n",
    "\n",
    "from tf_agents.agents.dqn import dqn_agent\n",
    "from tf_agents.drivers import dynamic_step_driver\n",
    "from tf_agents.environments import suite_gym\n",
    "from tf_agents.environments import tf_py_environment\n",
    "from tf_agents.eval import metric_utils\n",
    "from tf_agents.metrics import tf_metrics\n",
    "from tf_agents.networks import q_network\n",
    "from tf_agents.policies import random_tf_policy\n",
    "from tf_agents.replay_buffers import tf_uniform_replay_buffer\n",
    "from tf_agents.trajectories import trajectory\n",
    "from tf_agents.utils import common"
   ]
  },
  {
   "cell_type": "code",
   "execution_count": 4,
   "metadata": {
    "colab": {},
    "colab_type": "code",
    "id": "J6HsdS5GbSjd"
   },
   "outputs": [],
   "source": [
    "tf.compat.v1.enable_v2_behavior()\n",
    "\n",
    "# Set up a virtual display for rendering OpenAI gym environments.\n",
    "display = pyvirtualdisplay.Display(visible=0, size=(1400, 900)).start()"
   ]
  },
  {
   "cell_type": "code",
   "execution_count": 5,
   "metadata": {
    "colab": {},
    "colab_type": "code",
    "id": "NspmzG4nP3b9"
   },
   "outputs": [
    {
     "data": {
      "text/plain": [
       "'2.2.0'"
      ]
     },
     "execution_count": 5,
     "metadata": {},
     "output_type": "execute_result"
    }
   ],
   "source": [
    "tf.version.VERSION"
   ]
  },
  {
   "cell_type": "markdown",
   "metadata": {
    "colab_type": "text",
    "id": "LmC0NDhdLIKY"
   },
   "source": [
    "## Hyperparameters"
   ]
  },
  {
   "cell_type": "code",
   "execution_count": 6,
   "metadata": {
    "colab": {},
    "colab_type": "code",
    "id": "HC1kNrOsLSIZ"
   },
   "outputs": [],
   "source": [
    "num_iterations = 20000 # @param {type:\"integer\"}\n",
    "\n",
    "initial_collect_steps = 1000  # @param {type:\"integer\"} \n",
    "collect_steps_per_iteration = 1  # @param {type:\"integer\"}\n",
    "replay_buffer_max_length = 100000  # @param {type:\"integer\"}\n",
    "\n",
    "batch_size = 64  # @param {type:\"integer\"}\n",
    "learning_rate = 1e-3  # @param {type:\"number\"}\n",
    "log_interval = 200  # @param {type:\"integer\"}\n",
    "\n",
    "num_eval_episodes = 10  # @param {type:\"integer\"}\n",
    "eval_interval = 1000  # @param {type:\"integer\"}"
   ]
  },
  {
   "cell_type": "markdown",
   "metadata": {
    "colab_type": "text",
    "id": "VMsJC3DEgI0x"
   },
   "source": [
    "## Environment\n",
    "\n",
    "In Reinforcement Learning (RL), an environment represents the task or problem to be solved. Standard environments can be created in TF-Agents using `tf_agents.environments` suites. TF-Agents has suites for loading environments from sources such as the OpenAI Gym, Atari, and DM Control.\n",
    "\n",
    "Load the CartPole environment from the OpenAI Gym suite. "
   ]
  },
  {
   "cell_type": "code",
   "execution_count": 7,
   "metadata": {
    "colab": {},
    "colab_type": "code",
    "id": "pYEz-S9gEv2-"
   },
   "outputs": [],
   "source": [
    "env_name = 'CartPole-v0'\n",
    "env = suite_gym.load(env_name)"
   ]
  },
  {
   "cell_type": "markdown",
   "metadata": {
    "colab_type": "text",
    "id": "IIHYVBkuvPNw"
   },
   "source": [
    "You can render this environment to see how it looks. A free-swinging pole is attached to a cart.  The goal is to move the cart right or left in order to keep the pole pointing up."
   ]
  },
  {
   "cell_type": "code",
   "execution_count": 8,
   "metadata": {
    "colab": {},
    "colab_type": "code",
    "id": "RlO7WIQHu_7D"
   },
   "outputs": [
    {
     "data": {
      "image/png": "[encoded data removed]",
      "text/plain": [
       "<PIL.Image.Image image mode=RGB size=600x400 at 0x7F4452DA1CC0>"
      ]
     },
     "execution_count": 8,
     "metadata": {},
     "output_type": "execute_result"
    }
   ],
   "source": [
    "#@test {\"skip\": true}\n",
    "env.reset()\n",
    "PIL.Image.fromarray(env.render())"
   ]
  },
  {
   "cell_type": "markdown",
   "metadata": {
    "colab_type": "text",
    "id": "B9_lskPOey18"
   },
   "source": [
    "The `environment.step` method takes an `action` in the environment and returns a `TimeStep` tuple containing the next observation of the environment and the reward for the action.\n",
    "\n",
    "The `time_step_spec()` method returns the specification for the `TimeStep` tuple. Its `observation` attribute shows the shape of observations, the data types, and the ranges of allowed values. The `reward` attribute shows the same details for the reward.\n"
   ]
  },
  {
   "cell_type": "code",
   "execution_count": 9,
   "metadata": {
    "colab": {},
    "colab_type": "code",
    "id": "exDv57iHfwQV"
   },
   "outputs": [
    {
     "name": "stdout",
     "output_type": "stream",
     "text": [
      "Observation Spec:\n",
      "BoundedArraySpec(shape=(4,), dtype=dtype('float32'), name='observation', minimum=[-4.8000002e+00 -3.4028235e+38 -4.1887903e-01 -3.4028235e+38], maximum=[4.8000002e+00 3.4028235e+38 4.1887903e-01 3.4028235e+38])\n"
     ]
    }
   ],
   "source": [
    "print('Observation Spec:')\n",
    "print(env.time_step_spec().observation)"
   ]
  },
  {
   "cell_type": "code",
   "execution_count": 10,
   "metadata": {
    "colab": {},
    "colab_type": "code",
    "id": "UxiSyCbBUQPi"
   },
   "outputs": [
    {
     "name": "stdout",
     "output_type": "stream",
     "text": [
      "Reward Spec:\n",
      "ArraySpec(shape=(), dtype=dtype('float32'), name='reward')\n"
     ]
    }
   ],
   "source": [
    "print('Reward Spec:')\n",
    "print(env.time_step_spec().reward)"
   ]
  },
  {
   "cell_type": "markdown",
   "metadata": {
    "colab_type": "text",
    "id": "b_lHcIcqUaqB"
   },
   "source": [
    "The `action_spec()` method returns the shape, data types, and allowed values of valid actions."
   ]
  },
  {
   "cell_type": "code",
   "execution_count": 11,
   "metadata": {
    "colab": {},
    "colab_type": "code",
    "id": "bttJ4uxZUQBr"
   },
   "outputs": [
    {
     "name": "stdout",
     "output_type": "stream",
     "text": [
      "Action Spec:\n",
      "BoundedArraySpec(shape=(), dtype=dtype('int64'), name='action', minimum=0, maximum=1)\n"
     ]
    }
   ],
   "source": [
    "print('Action Spec:')\n",
    "print(env.action_spec())"
   ]
  },
  {
   "cell_type": "markdown",
   "metadata": {
    "colab_type": "text",
    "id": "eJCgJnx3g0yY"
   },
   "source": [
    "In the Cartpole environment:\n",
    "\n",
    "-   `observation` is an array of 4 floats: \n",
    "    -   the position and velocity of the cart\n",
    "    -   the angular position and velocity of the pole \n",
    "-   `reward` is a scalar float value\n",
    "-   `action` is a scalar integer with only two possible values:\n",
    "    -   `0` — \"move left\"\n",
    "    -   `1` — \"move right\"\n"
   ]
  },
  {
   "cell_type": "code",
   "execution_count": 12,
   "metadata": {
    "colab": {},
    "colab_type": "code",
    "id": "V2UGR5t_iZX-"
   },
   "outputs": [
    {
     "name": "stdout",
     "output_type": "stream",
     "text": [
      "Time step:\n",
      "TimeStep(step_type=array(0, dtype=int32), reward=array(0., dtype=float32), discount=array(1., dtype=float32), observation=array([ 0.02612752, -0.02558219, -0.00200458, -0.03704479], dtype=float32))\n",
      "Next time step:\n",
      "TimeStep(step_type=array(1, dtype=int32), reward=array(1., dtype=float32), discount=array(1., dtype=float32), observation=array([ 0.02561587,  0.16956845, -0.00274547, -0.33035952], dtype=float32))\n"
     ]
    }
   ],
   "source": [
    "time_step = env.reset()\n",
    "print('Time step:')\n",
    "print(time_step)\n",
    "\n",
    "action = np.array(1, dtype=np.int32)\n",
    "\n",
    "next_time_step = env.step(action)\n",
    "print('Next time step:')\n",
    "print(next_time_step)"
   ]
  },
  {
   "cell_type": "markdown",
   "metadata": {
    "colab_type": "text",
    "id": "4JSc9GviWUBK"
   },
   "source": [
    "Usually two environments are instantiated: one for training and one for evaluation. "
   ]
  },
  {
   "cell_type": "code",
   "execution_count": 13,
   "metadata": {
    "colab": {},
    "colab_type": "code",
    "id": "N7brXNIGWXjC"
   },
   "outputs": [],
   "source": [
    "train_py_env = suite_gym.load(env_name)\n",
    "eval_py_env = suite_gym.load(env_name)"
   ]
  },
  {
   "cell_type": "markdown",
   "metadata": {
    "colab_type": "text",
    "id": "zuUqXAVmecTU"
   },
   "source": [
    "The Cartpole environment, like most environments, is written in pure Python. This is converted to TensorFlow using the `TFPyEnvironment` wrapper.\n",
    "\n",
    "The original environment's API uses Numpy arrays. The `TFPyEnvironment` converts these to `Tensors` to make it compatible with Tensorflow agents and policies.\n"
   ]
  },
  {
   "cell_type": "code",
   "execution_count": 14,
   "metadata": {
    "colab": {},
    "colab_type": "code",
    "id": "Xp-Y4mD6eDhF"
   },
   "outputs": [],
   "source": [
    "train_env = tf_py_environment.TFPyEnvironment(train_py_env)\n",
    "eval_env = tf_py_environment.TFPyEnvironment(eval_py_env)"
   ]
  },
  {
   "cell_type": "markdown",
   "metadata": {
    "colab_type": "text",
    "id": "E9lW_OZYFR8A"
   },
   "source": [
    "## Agent\n",
    "\n",
    "The algorithm used to solve an RL problem is represented by an `Agent`. TF-Agents provides standard implementations of a variety of `Agents`, including:\n",
    "\n",
    "-   [DQN](https://storage.googleapis.com/deepmind-media/dqn/DQNNaturePaper.pdf) (used in this tutorial)\n",
    "-   [REINFORCE](http://www-anw.cs.umass.edu/~barto/courses/cs687/williams92simple.pdf)\n",
    "-   [DDPG](https://arxiv.org/pdf/1509.02971.pdf)\n",
    "-   [TD3](https://arxiv.org/pdf/1802.09477.pdf)\n",
    "-   [PPO](https://arxiv.org/abs/1707.06347)\n",
    "-   [SAC](https://arxiv.org/abs/1801.01290).\n",
    "\n",
    "The DQN agent can be used in any environment which has a discrete action space.\n",
    "\n",
    "At the heart of a DQN Agent is a `QNetwork`, a neural network model that can learn to predict `QValues` (expected returns) for all actions, given an observation from the environment.\n",
    "\n",
    "Use `tf_agents.networks.q_network` to create a `QNetwork`, passing in the `observation_spec`, `action_spec`, and a tuple describing the number and size of the model's hidden layers.\n"
   ]
  },
  {
   "cell_type": "code",
   "execution_count": 15,
   "metadata": {
    "colab": {},
    "colab_type": "code",
    "id": "TgkdEPg_muzV"
   },
   "outputs": [],
   "source": [
    "fc_layer_params = (100,)\n",
    "\n",
    "q_net = q_network.QNetwork(\n",
    "    train_env.observation_spec(),\n",
    "    train_env.action_spec(),\n",
    "    fc_layer_params=fc_layer_params)"
   ]
  },
  {
   "cell_type": "markdown",
   "metadata": {
    "colab_type": "text",
    "id": "z62u55hSmviJ"
   },
   "source": [
    "Now use `tf_agents.agents.dqn.dqn_agent` to instantiate a `DqnAgent`. In addition to the `time_step_spec`, `action_spec` and the QNetwork, the agent constructor also requires an optimizer (in this case, `AdamOptimizer`), a loss function, and an integer step counter."
   ]
  },
  {
   "cell_type": "code",
   "execution_count": 16,
   "metadata": {
    "colab": {},
    "colab_type": "code",
    "id": "jbY4yrjTEyc9"
   },
   "outputs": [],
   "source": [
    "optimizer = tf.compat.v1.train.AdamOptimizer(learning_rate=learning_rate)\n",
    "\n",
    "train_step_counter = tf.Variable(0)\n",
    "\n",
    "agent = dqn_agent.DqnAgent(\n",
    "    train_env.time_step_spec(),\n",
    "    train_env.action_spec(),\n",
    "    q_network=q_net,\n",
    "    optimizer=optimizer,\n",
    "    td_errors_loss_fn=common.element_wise_squared_loss,\n",
    "    train_step_counter=train_step_counter)\n",
    "\n",
    "agent.initialize()"
   ]
  },
  {
   "cell_type": "markdown",
   "metadata": {
    "colab_type": "text",
    "id": "I0KLrEPwkn5x"
   },
   "source": [
    "## Policies\n",
    "\n",
    "A policy defines the way an agent acts in an environment. Typically, the goal of reinforcement learning is to train the underlying model until the policy produces the desired outcome.\n",
    "\n",
    "In this tutorial:\n",
    "\n",
    "-   The desired outcome is keeping the pole balanced upright over the cart.\n",
    "-   The policy returns an action (left or right) for each `time_step` observation.\n",
    "\n",
    "Agents contain two policies: \n",
    "\n",
    "-   `agent.policy` — The main policy that is used for evaluation and deployment.\n",
    "-   `agent.collect_policy` — A second policy that is used for data collection.\n"
   ]
  },
  {
   "cell_type": "code",
   "execution_count": 17,
   "metadata": {
    "colab": {},
    "colab_type": "code",
    "id": "BwY7StuMkuV4"
   },
   "outputs": [],
   "source": [
    "eval_policy = agent.policy\n",
    "collect_policy = agent.collect_policy"
   ]
  },
  {
   "cell_type": "markdown",
   "metadata": {
    "colab_type": "text",
    "id": "2Qs1Fl3dV0ae"
   },
   "source": [
    "Policies can be created independently of agents. For example, use `tf_agents.policies.random_tf_policy` to create a policy which will randomly select an action for each `time_step`."
   ]
  },
  {
   "cell_type": "code",
   "execution_count": 18,
   "metadata": {
    "colab": {},
    "colab_type": "code",
    "id": "HE37-UCIrE69"
   },
   "outputs": [],
   "source": [
    "random_policy = random_tf_policy.RandomTFPolicy(train_env.time_step_spec(),\n",
    "                                                train_env.action_spec())"
   ]
  },
  {
   "cell_type": "markdown",
   "metadata": {
    "colab_type": "text",
    "id": "dOlnlRRsUbxP"
   },
   "source": [
    "To get an action from a policy, call the `policy.action(time_step)` method. The `time_step` contains the observation from the environment. This method returns a `PolicyStep`, which is a named tuple with three components:\n",
    "\n",
    "-   `action` — the action to be taken (in this case, `0` or `1`)\n",
    "-   `state` — used for stateful (that is, RNN-based) policies\n",
    "-   `info` — auxiliary data, such as log probabilities of actions"
   ]
  },
  {
   "cell_type": "code",
   "execution_count": 19,
   "metadata": {
    "colab": {},
    "colab_type": "code",
    "id": "5gCcpXswVAxk"
   },
   "outputs": [],
   "source": [
    "example_environment = tf_py_environment.TFPyEnvironment(\n",
    "    suite_gym.load('CartPole-v0'))"
   ]
  },
  {
   "cell_type": "code",
   "execution_count": 20,
   "metadata": {
    "colab": {},
    "colab_type": "code",
    "id": "D4DHZtq3Ndis"
   },
   "outputs": [],
   "source": [
    "time_step = example_environment.reset()"
   ]
  },
  {
   "cell_type": "code",
   "execution_count": 21,
   "metadata": {
    "colab": {},
    "colab_type": "code",
    "id": "PRFqAUzpNaAW"
   },
   "outputs": [
    {
     "data": {
      "text/plain": [
       "PolicyStep(action=<tf.Tensor: shape=(1,), dtype=int64, numpy=array([0])>, state=(), info=())"
      ]
     },
     "execution_count": 21,
     "metadata": {},
     "output_type": "execute_result"
    }
   ],
   "source": [
    "random_policy.action(time_step)"
   ]
  },
  {
   "cell_type": "markdown",
   "metadata": {
    "colab_type": "text",
    "id": "94rCXQtbUbXv"
   },
   "source": [
    "## Metrics and Evaluation\n",
    "\n",
    "The most common metric used to evaluate a policy is the average return. The return is the sum of rewards obtained while running a policy in an environment for an episode. Several episodes are run, creating an average return.\n",
    "\n",
    "The following function computes the average return of a policy, given the policy, environment, and a number of episodes.\n"
   ]
  },
  {
   "cell_type": "code",
   "execution_count": 22,
   "metadata": {
    "colab": {},
    "colab_type": "code",
    "id": "bitzHo5_UbXy"
   },
   "outputs": [],
   "source": [
    "#@test {\"skip\": true}\n",
    "def compute_avg_return(environment, policy, num_episodes=10):\n",
    "\n",
    "  total_return = 0.0\n",
    "  for _ in range(num_episodes):\n",
    "\n",
    "    time_step = environment.reset()\n",
    "    episode_return = 0.0\n",
    "\n",
    "    while not time_step.is_last():\n",
    "      action_step = policy.action(time_step)\n",
    "      time_step = environment.step(action_step.action)\n",
    "      episode_return += time_step.reward\n",
    "    total_return += episode_return\n",
    "\n",
    "  avg_return = total_return / num_episodes\n",
    "  return avg_return.numpy()[0]\n",
    "\n",
    "\n",
    "# See also the metrics module for standard implementations of different metrics.\n",
    "# https://github.com/tensorflow/agents/tree/master/tf_agents/metrics"
   ]
  },
  {
   "cell_type": "markdown",
   "metadata": {
    "colab_type": "text",
    "id": "_snCVvq5Z8lJ"
   },
   "source": [
    "Running this computation on the `random_policy` shows a baseline performance in the environment."
   ]
  },
  {
   "cell_type": "code",
   "execution_count": 23,
   "metadata": {
    "colab": {},
    "colab_type": "code",
    "id": "9bgU6Q6BZ8Bp"
   },
   "outputs": [
    {
     "data": {
      "text/plain": [
       "22.0"
      ]
     },
     "execution_count": 23,
     "metadata": {},
     "output_type": "execute_result"
    }
   ],
   "source": [
    "compute_avg_return(eval_env, random_policy, num_eval_episodes)"
   ]
  },
  {
   "cell_type": "markdown",
   "metadata": {
    "colab_type": "text",
    "id": "NLva6g2jdWgr"
   },
   "source": [
    "## Replay Buffer\n",
    "\n",
    "The replay buffer keeps track of data collected from the environment. This tutorial uses `tf_agents.replay_buffers.tf_uniform_replay_buffer.TFUniformReplayBuffer`, as it is the most common. \n",
    "\n",
    "The constructor requires the specs for the data it will be collecting. This is available from the agent using the `collect_data_spec` method. The batch size and maximum buffer length are also required.\n"
   ]
  },
  {
   "cell_type": "code",
   "execution_count": 24,
   "metadata": {
    "colab": {},
    "colab_type": "code",
    "id": "vX2zGUWJGWAl"
   },
   "outputs": [],
   "source": [
    "replay_buffer = tf_uniform_replay_buffer.TFUniformReplayBuffer(\n",
    "    data_spec=agent.collect_data_spec,\n",
    "    batch_size=train_env.batch_size,\n",
    "    max_length=replay_buffer_max_length)"
   ]
  },
  {
   "cell_type": "markdown",
   "metadata": {
    "colab_type": "text",
    "id": "ZGNTDJpZs4NN"
   },
   "source": [
    "For most agents, `collect_data_spec` is a named tuple called `Trajectory`, containing the specs for observations, actions, rewards, and other items."
   ]
  },
  {
   "cell_type": "code",
   "execution_count": 25,
   "metadata": {
    "colab": {},
    "colab_type": "code",
    "id": "_IZ-3HcqgE1z"
   },
   "outputs": [
    {
     "data": {
      "text/plain": [
       "Trajectory(step_type=TensorSpec(shape=(), dtype=tf.int32, name='step_type'), observation=BoundedTensorSpec(shape=(4,), dtype=tf.float32, name='observation', minimum=array([-4.8000002e+00, -3.4028235e+38, -4.1887903e-01, -3.4028235e+38],\n",
       "      dtype=float32), maximum=array([4.8000002e+00, 3.4028235e+38, 4.1887903e-01, 3.4028235e+38],\n",
       "      dtype=float32)), action=BoundedTensorSpec(shape=(), dtype=tf.int64, name='action', minimum=array(0), maximum=array(1)), policy_info=(), next_step_type=TensorSpec(shape=(), dtype=tf.int32, name='step_type'), reward=TensorSpec(shape=(), dtype=tf.float32, name='reward'), discount=BoundedTensorSpec(shape=(), dtype=tf.float32, name='discount', minimum=array(0., dtype=float32), maximum=array(1., dtype=float32)))"
      ]
     },
     "execution_count": 25,
     "metadata": {},
     "output_type": "execute_result"
    }
   ],
   "source": [
    "agent.collect_data_spec"
   ]
  },
  {
   "cell_type": "code",
   "execution_count": 26,
   "metadata": {
    "colab": {},
    "colab_type": "code",
    "id": "sy6g1tGcfRlw"
   },
   "outputs": [
    {
     "data": {
      "text/plain": [
       "('step_type',\n",
       " 'observation',\n",
       " 'action',\n",
       " 'policy_info',\n",
       " 'next_step_type',\n",
       " 'reward',\n",
       " 'discount')"
      ]
     },
     "execution_count": 26,
     "metadata": {},
     "output_type": "execute_result"
    }
   ],
   "source": [
    "agent.collect_data_spec._fields"
   ]
  },
  {
   "cell_type": "markdown",
   "metadata": {
    "colab_type": "text",
    "id": "rVD5nQ9ZGo8_"
   },
   "source": [
    "## Data Collection\n",
    "\n",
    "Now execute the random policy in the environment for a few steps, recording the data in the replay buffer."
   ]
  },
  {
   "cell_type": "code",
   "execution_count": 27,
   "metadata": {
    "colab": {},
    "colab_type": "code",
    "id": "wr1KSAEGG4h9"
   },
   "outputs": [],
   "source": [
    "#@test {\"skip\": true}\n",
    "def collect_step(environment, policy, buffer):\n",
    "  time_step = environment.current_time_step()\n",
    "  action_step = policy.action(time_step)\n",
    "  next_time_step = environment.step(action_step.action)\n",
    "  traj = trajectory.from_transition(time_step, action_step, next_time_step)\n",
    "\n",
    "  # Add trajectory to the replay buffer\n",
    "  buffer.add_batch(traj)\n",
    "\n",
    "def collect_data(env, policy, buffer, steps):\n",
    "  for _ in range(steps):\n",
    "    collect_step(env, policy, buffer)\n",
    "\n",
    "collect_data(train_env, random_policy, replay_buffer, steps=100)\n",
    "\n",
    "# This loop is so common in RL, that we provide standard implementations. \n",
    "# For more details see the drivers module.\n",
    "# https://www.tensorflow.org/agents/api_docs/python/tf_agents/drivers"
   ]
  },
  {
   "cell_type": "markdown",
   "metadata": {
    "colab_type": "text",
    "id": "84z5pQJdoKxo"
   },
   "source": [
    "The replay buffer is now a collection of Trajectories."
   ]
  },
  {
   "cell_type": "code",
   "execution_count": 28,
   "metadata": {
    "colab": {},
    "colab_type": "code",
    "id": "4wZnLu2ViO4E"
   },
   "outputs": [
    {
     "data": {
      "text/plain": [
       "(Trajectory(step_type=<tf.Tensor: shape=(), dtype=int32, numpy=1>, observation=<tf.Tensor: shape=(4,), dtype=float32, numpy=array([ 0.15283172,  0.79900026, -0.16281258, -1.2905446 ], dtype=float32)>, action=<tf.Tensor: shape=(), dtype=int64, numpy=1>, policy_info=(), next_step_type=<tf.Tensor: shape=(), dtype=int32, numpy=1>, reward=<tf.Tensor: shape=(), dtype=float32, numpy=1.0>, discount=<tf.Tensor: shape=(), dtype=float32, numpy=1.0>),\n",
       " BufferInfo(ids=<tf.Tensor: shape=(), dtype=int64, numpy=25>, probabilities=<tf.Tensor: shape=(), dtype=float32, numpy=0.01>))"
      ]
     },
     "execution_count": 28,
     "metadata": {},
     "output_type": "execute_result"
    }
   ],
   "source": [
    "# For the curious:\n",
    "# Uncomment to peel one of these off and inspect it.\n",
    "iter(replay_buffer.as_dataset()).next()"
   ]
  },
  {
   "cell_type": "markdown",
   "metadata": {
    "colab_type": "text",
    "id": "TujU-PMUsKjS"
   },
   "source": [
    "The agent needs access to the replay buffer. This is provided by creating an iterable `tf.data.Dataset` pipeline which will feed data to the agent.\n",
    "\n",
    "Each row of the replay buffer only stores a single observation step. But since the DQN Agent needs both the current and next observation to compute the loss, the dataset pipeline will sample two adjacent rows for each item in the batch (`num_steps=2`).\n",
    "\n",
    "This dataset is also optimized by running parallel calls and prefetching data."
   ]
  },
  {
   "cell_type": "code",
   "execution_count": 29,
   "metadata": {
    "colab": {},
    "colab_type": "code",
    "id": "ba7bilizt_qW"
   },
   "outputs": [
    {
     "data": {
      "text/plain": [
       "<PrefetchDataset shapes: (Trajectory(step_type=(64, 2), observation=(64, 2, 4), action=(64, 2), policy_info=(), next_step_type=(64, 2), reward=(64, 2), discount=(64, 2)), BufferInfo(ids=(64, 2), probabilities=(64,))), types: (Trajectory(step_type=tf.int32, observation=tf.float32, action=tf.int64, policy_info=(), next_step_type=tf.int32, reward=tf.float32, discount=tf.float32), BufferInfo(ids=tf.int64, probabilities=tf.float32))>"
      ]
     },
     "execution_count": 29,
     "metadata": {},
     "output_type": "execute_result"
    }
   ],
   "source": [
    "# Dataset generates trajectories with shape [Bx2x...]\n",
    "dataset = replay_buffer.as_dataset(\n",
    "    num_parallel_calls=3, \n",
    "    sample_batch_size=batch_size, \n",
    "    num_steps=2).prefetch(3)\n",
    "\n",
    "\n",
    "dataset"
   ]
  },
  {
   "cell_type": "code",
   "execution_count": 30,
   "metadata": {
    "colab": {},
    "colab_type": "code",
    "id": "K13AST-2ppOq"
   },
   "outputs": [
    {
     "name": "stdout",
     "output_type": "stream",
     "text": [
      "<tensorflow.python.data.ops.iterator_ops.OwnedIterator object at 0x7f444b0df9e8>\n"
     ]
    }
   ],
   "source": [
    "iterator = iter(dataset)\n",
    "\n",
    "print(iterator)\n"
   ]
  },
  {
   "cell_type": "code",
   "execution_count": 31,
   "metadata": {
    "colab": {},
    "colab_type": "code",
    "id": "Th5w5Sff0b16",
    "scrolled": true
   },
   "outputs": [
    {
     "data": {
      "text/plain": [
       "(Trajectory(step_type=<tf.Tensor: shape=(64, 2), dtype=int32, numpy=\n",
       " array([[1, 1],\n",
       "        [1, 1],\n",
       "        [1, 1],\n",
       "        [1, 1],\n",
       "        [1, 1],\n",
       "        [1, 1],\n",
       "        [1, 1],\n",
       "        [1, 1],\n",
       "        [1, 1],\n",
       "        [1, 1],\n",
       "        [1, 1],\n",
       "        [0, 1],\n",
       "        [1, 1],\n",
       "        [1, 1],\n",
       "        [1, 1],\n",
       "        [1, 1],\n",
       "        [1, 1],\n",
       "        [1, 1],\n",
       "        [1, 1],\n",
       "        [1, 1],\n",
       "        [1, 1],\n",
       "        [0, 1],\n",
       "        [1, 1],\n",
       "        [1, 1],\n",
       "        [1, 1],\n",
       "        [1, 1],\n",
       "        [1, 1],\n",
       "        [1, 1],\n",
       "        [1, 1],\n",
       "        [0, 1],\n",
       "        [1, 1],\n",
       "        [1, 1],\n",
       "        [1, 2],\n",
       "        [1, 1],\n",
       "        [1, 1],\n",
       "        [1, 1],\n",
       "        [1, 1],\n",
       "        [1, 1],\n",
       "        [1, 1],\n",
       "        [1, 1],\n",
       "        [1, 1],\n",
       "        [1, 1],\n",
       "        [1, 1],\n",
       "        [1, 2],\n",
       "        [1, 1],\n",
       "        [1, 1],\n",
       "        [1, 1],\n",
       "        [1, 1],\n",
       "        [1, 1],\n",
       "        [1, 1],\n",
       "        [1, 1],\n",
       "        [1, 1],\n",
       "        [1, 1],\n",
       "        [1, 1],\n",
       "        [1, 1],\n",
       "        [1, 1],\n",
       "        [1, 1],\n",
       "        [1, 1],\n",
       "        [1, 1],\n",
       "        [1, 1],\n",
       "        [1, 1],\n",
       "        [1, 1],\n",
       "        [1, 1],\n",
       "        [1, 1]], dtype=int32)>, observation=<tf.Tensor: shape=(64, 2, 4), dtype=float32, numpy=\n",
       " array([[[-3.86493802e-02,  1.38385385e-01,  1.16807677e-01,\n",
       "           2.46534854e-01],\n",
       "         [-3.58816721e-02,  3.31662178e-01,  1.21738374e-01,\n",
       "          -7.14135170e-03]],\n",
       " \n",
       "        [[-2.46879067e-02, -2.29934871e-01,  3.71100046e-02,\n",
       "           3.46911967e-01],\n",
       "         [-2.92866044e-02, -4.25564498e-01,  4.40482423e-02,\n",
       "           6.51062191e-01]],\n",
       " \n",
       "        [[-3.86493802e-02,  1.38385385e-01,  1.16807677e-01,\n",
       "           2.46534854e-01],\n",
       "         [-3.58816721e-02,  3.31662178e-01,  1.21738374e-01,\n",
       "          -7.14135170e-03]],\n",
       " \n",
       "        [[ 1.72881439e-01,  9.02787268e-01, -1.61000453e-02,\n",
       "          -5.71138442e-01],\n",
       "         [ 1.90937176e-01,  7.07894802e-01, -2.75228135e-02,\n",
       "          -2.83570737e-01]],\n",
       " \n",
       "        [[ 7.86393285e-02,  1.09940398e+00,  4.82503548e-02,\n",
       "          -8.98252904e-01],\n",
       "         [ 1.00627407e-01,  9.03662443e-01,  3.02852988e-02,\n",
       "          -5.90802133e-01]],\n",
       " \n",
       "        [[-2.17992757e-02,  3.48241717e-01,  9.34980735e-02,\n",
       "          -3.38221729e-01],\n",
       "         [-1.48344403e-02,  5.41917443e-01,  8.67336392e-02,\n",
       "          -6.00018084e-01]],\n",
       " \n",
       "        [[ 7.46929646e-03, -4.23888475e-01,  3.75899263e-02,\n",
       "           6.50105596e-01],\n",
       "         [-1.00847264e-03, -2.29309708e-01,  5.05920388e-02,\n",
       "           3.69492501e-01]],\n",
       " \n",
       "        [[-1.87137611e-02, -3.68037559e-02,  7.96118602e-02,\n",
       "           1.34510279e-01],\n",
       "         [-1.94498375e-02, -2.32970461e-01,  8.23020637e-02,\n",
       "           4.51209515e-01]],\n",
       " \n",
       "        [[-2.40016598e-02, -3.43123674e-02,  3.62496860e-02,\n",
       "           4.30159159e-02],\n",
       "         [-2.46879067e-02, -2.29934871e-01,  3.71100046e-02,\n",
       "           3.46911967e-01]],\n",
       " \n",
       "        [[ 1.72881439e-01,  9.02787268e-01, -1.61000453e-02,\n",
       "          -5.71138442e-01],\n",
       "         [ 1.90937176e-01,  7.07894802e-01, -2.75228135e-02,\n",
       "          -2.83570737e-01]],\n",
       " \n",
       "        [[-5.78483529e-02,  1.44996375e-01,  1.16051868e-01,\n",
       "           9.97428894e-02],\n",
       "         [-5.49484231e-02,  3.38280380e-01,  1.18046731e-01,\n",
       "          -1.54190227e-01]],\n",
       " \n",
       "        [[-2.91833766e-02, -3.17866579e-02,  4.72178794e-02,\n",
       "          -1.27420165e-02],\n",
       "         [-2.98191085e-02,  1.62627444e-01,  4.69630398e-02,\n",
       "          -2.90161252e-01]],\n",
       " \n",
       "        [[-5.68799116e-02, -4.84219044e-02,  1.08928084e-01,\n",
       "           3.56189221e-01],\n",
       "         [-5.78483529e-02,  1.44996375e-01,  1.16051868e-01,\n",
       "           9.97428894e-02]],\n",
       " \n",
       "        [[ 4.06983718e-02,  3.98295492e-01, -1.10560566e-01,\n",
       "          -7.64515400e-01],\n",
       "         [ 4.86642830e-02,  5.94752252e-01, -1.25850871e-01,\n",
       "          -1.08983994e+00]],\n",
       " \n",
       "        [[ 1.20361876e-02, -2.28344530e-01,  3.06314640e-02,\n",
       "           3.47923070e-01],\n",
       "         [ 7.46929646e-03, -4.23888475e-01,  3.75899263e-02,\n",
       "           6.50105596e-01]],\n",
       " \n",
       "        [[-5.87625504e-02, -2.32975841e-01,  8.98764133e-02,\n",
       "           4.15314585e-01],\n",
       "         [-6.34220690e-02, -3.92350182e-02,  9.81827080e-02,\n",
       "           1.52264416e-01]],\n",
       " \n",
       "        [[-5.49484231e-02,  3.38280380e-01,  1.18046731e-01,\n",
       "          -1.54190227e-01],\n",
       "         [-4.81828153e-02,  1.41683415e-01,  1.14962921e-01,\n",
       "           1.73278123e-01]],\n",
       " \n",
       "        [[ 6.94058985e-02,  5.98666847e-01, -3.72531749e-02,\n",
       "          -8.68732035e-01],\n",
       "         [ 8.13792348e-02,  7.94275284e-01, -5.46278171e-02,\n",
       "          -1.17289102e+00]],\n",
       " \n",
       "        [[ 1.17066003e-01,  7.95975745e-01, -1.07729383e-01,\n",
       "          -1.21487713e+00],\n",
       "         [ 1.32985517e-01,  9.92309868e-01, -1.32026926e-01,\n",
       "          -1.53928220e+00]],\n",
       " \n",
       "        [[ 1.72881439e-01,  9.02787268e-01, -1.61000453e-02,\n",
       "          -5.71138442e-01],\n",
       "         [ 1.90937176e-01,  7.07894802e-01, -2.75228135e-02,\n",
       "          -2.83570737e-01]],\n",
       " \n",
       "        [[ 7.86393285e-02,  1.09940398e+00,  4.82503548e-02,\n",
       "          -8.98252904e-01],\n",
       "         [ 1.00627407e-01,  9.03662443e-01,  3.02852988e-02,\n",
       "          -5.90802133e-01]],\n",
       " \n",
       "        [[ 1.78874545e-02, -3.21586914e-02,  2.24515367e-02,\n",
       "           3.16495635e-02],\n",
       "         [ 1.72442812e-02, -2.27595299e-01,  2.30845269e-02,\n",
       "           3.31330776e-01]],\n",
       " \n",
       "        [[ 8.05549920e-02,  4.05641019e-01, -1.87918216e-01,\n",
       "          -9.37430203e-01],\n",
       "         [ 8.86678100e-02,  6.02731526e-01, -2.06666827e-01,\n",
       "          -1.28278482e+00]],\n",
       " \n",
       "        [[ 2.45142430e-01,  1.29467058e+00, -6.26454875e-02,\n",
       "          -1.19420743e+00],\n",
       "         [ 2.71035820e-01,  1.49054539e+00, -8.65296423e-02,\n",
       "          -1.50584900e+00]],\n",
       " \n",
       "        [[ 5.03637036e-03,  3.92695427e-01, -4.61270809e-02,\n",
       "          -6.37422979e-01],\n",
       "         [ 1.28902784e-02,  1.98246032e-01, -5.88755384e-02,\n",
       "          -3.59615684e-01]],\n",
       " \n",
       "        [[ 2.23163038e-01,  1.09896910e+00, -4.48903404e-02,\n",
       "          -8.87757540e-01],\n",
       "         [ 2.45142430e-01,  1.29467058e+00, -6.26454875e-02,\n",
       "          -1.19420743e+00]],\n",
       " \n",
       "        [[-5.59466705e-03, -4.25112605e-01,  5.79818897e-02,\n",
       "           6.77688777e-01],\n",
       "         [-1.40969194e-02, -2.30842113e-01,  7.15356618e-02,\n",
       "           4.03809875e-01]],\n",
       " \n",
       "        [[-5.49484231e-02,  3.38280380e-01,  1.18046731e-01,\n",
       "          -1.54190227e-01],\n",
       "         [-4.81828153e-02,  1.41683415e-01,  1.14962921e-01,\n",
       "           1.73278123e-01]],\n",
       " \n",
       "        [[-1.87137611e-02, -3.68037559e-02,  7.96118602e-02,\n",
       "           1.34510279e-01],\n",
       "         [-1.94498375e-02, -2.32970461e-01,  8.23020637e-02,\n",
       "           4.51209515e-01]],\n",
       " \n",
       "        [[ 1.06814841e-03,  1.37663225e-03, -3.89188640e-02,\n",
       "          -2.78534982e-02],\n",
       "         [ 1.09568099e-03,  1.97034463e-01, -3.94759327e-02,\n",
       "          -3.32557261e-01]],\n",
       " \n",
       "        [[ 2.23163038e-01,  1.09896910e+00, -4.48903404e-02,\n",
       "          -8.87757540e-01],\n",
       "         [ 2.45142430e-01,  1.29467058e+00, -6.26454875e-02,\n",
       "          -1.19420743e+00]],\n",
       " \n",
       "        [[ 5.27316704e-02,  1.29538298e+00,  7.25052953e-02,\n",
       "          -1.21274686e+00],\n",
       "         [ 7.86393285e-02,  1.09940398e+00,  4.82503548e-02,\n",
       "          -8.98252904e-01]],\n",
       " \n",
       "        [[ 3.56637865e-01,  1.68948281e+00, -1.72838688e-01,\n",
       "          -1.90147614e+00],\n",
       "         [ 3.90427530e-01,  1.49660134e+00, -2.10868210e-01,\n",
       "          -1.66702652e+00]],\n",
       " \n",
       "        [[-3.99609096e-03,  7.35725760e-01,  7.47332796e-02,\n",
       "          -8.64170015e-01],\n",
       "         [ 1.07184248e-02,  9.29755151e-01,  5.74498810e-02,\n",
       "          -1.13245058e+00]],\n",
       " \n",
       "        [[-2.48913076e-02,  1.54601589e-01,  9.50375050e-02,\n",
       "          -7.69712701e-02],\n",
       "         [-2.17992757e-02,  3.48241717e-01,  9.34980735e-02,\n",
       "          -3.38221729e-01]],\n",
       " \n",
       "        [[ 1.90937176e-01,  7.07894802e-01, -2.75228135e-02,\n",
       "          -2.83570737e-01],\n",
       "         [ 2.05095083e-01,  9.03398275e-01, -3.31942290e-02,\n",
       "          -5.84805548e-01]],\n",
       " \n",
       "        [[ 5.35338558e-02,  7.93601990e-01, -1.41140511e-02,\n",
       "          -1.15695620e+00],\n",
       "         [ 6.94058985e-02,  5.98666847e-01, -3.72531749e-02,\n",
       "          -8.68732035e-01]],\n",
       " \n",
       "        [[ 2.05095083e-01,  9.03398275e-01, -3.31942290e-02,\n",
       "          -5.84805548e-01],\n",
       "         [ 2.23163038e-01,  1.09896910e+00, -4.48903404e-02,\n",
       "          -8.87757540e-01]],\n",
       " \n",
       "        [[ 1.50922924e-01,  1.09792531e+00,  1.18382135e-03,\n",
       "          -8.64193320e-01],\n",
       "         [ 1.72881439e-01,  9.02787268e-01, -1.61000453e-02,\n",
       "          -5.71138442e-01]],\n",
       " \n",
       "        [[ 2.93135289e-02,  7.33930230e-01,  3.48008685e-02,\n",
       "          -8.22316766e-01],\n",
       "         [ 4.39921319e-02,  5.38349867e-01,  1.83545332e-02,\n",
       "          -5.18894434e-01]],\n",
       " \n",
       "        [[-2.40016598e-02, -3.43123674e-02,  3.62496860e-02,\n",
       "           4.30159159e-02],\n",
       "         [-2.46879067e-02, -2.29934871e-01,  3.71100046e-02,\n",
       "           3.46911967e-01]],\n",
       " \n",
       "        [[ 1.90937176e-01,  7.07894802e-01, -2.75228135e-02,\n",
       "          -2.83570737e-01],\n",
       "         [ 2.05095083e-01,  9.03398275e-01, -3.31942290e-02,\n",
       "          -5.84805548e-01]],\n",
       " \n",
       "        [[ 6.07599318e-02,  3.41698766e-01,  3.49590816e-02,\n",
       "          -1.92469612e-01],\n",
       "         [ 6.75939098e-02,  1.46094605e-01,  3.11096888e-02,\n",
       "           1.11033238e-01]],\n",
       " \n",
       "        [[ 8.86678100e-02,  6.02731526e-01, -2.06666827e-01,\n",
       "          -1.28278482e+00],\n",
       "         [ 1.00722440e-01,  4.10751849e-01, -2.32322514e-01,\n",
       "          -1.06127155e+00]],\n",
       " \n",
       "        [[ 5.78185804e-02,  1.47067532e-01,  3.31677385e-02,\n",
       "           8.95671323e-02],\n",
       "         [ 6.07599318e-02,  3.41698766e-01,  3.49590816e-02,\n",
       "          -1.92469612e-01]],\n",
       " \n",
       "        [[ 1.17066003e-01,  7.95975745e-01, -1.07729383e-01,\n",
       "          -1.21487713e+00],\n",
       "         [ 1.32985517e-01,  9.92309868e-01, -1.32026926e-01,\n",
       "          -1.53928220e+00]],\n",
       " \n",
       "        [[ 2.93135289e-02,  7.33930230e-01,  3.48008685e-02,\n",
       "          -8.22316766e-01],\n",
       "         [ 4.39921319e-02,  5.38349867e-01,  1.83545332e-02,\n",
       "          -5.18894434e-01]],\n",
       " \n",
       "        [[ 1.32863253e-01,  9.02983606e-01,  1.26945497e-02,\n",
       "          -5.75536430e-01],\n",
       "         [ 1.50922924e-01,  1.09792531e+00,  1.18382135e-03,\n",
       "          -8.64193320e-01]],\n",
       " \n",
       "        [[-5.98413721e-02,  1.48073032e-01,  1.08300172e-01,\n",
       "           3.13955918e-02],\n",
       "         [-5.68799116e-02, -4.84219044e-02,  1.08928084e-01,\n",
       "           3.56189221e-01]],\n",
       " \n",
       "        [[ 1.00627407e-01,  9.03662443e-01,  3.02852988e-02,\n",
       "          -5.90802133e-01],\n",
       "         [ 1.18700661e-01,  7.08129823e-01,  1.84692554e-02,\n",
       "          -2.88735241e-01]],\n",
       " \n",
       "        [[-6.42067641e-02, -2.35615730e-01,  1.01227991e-01,\n",
       "           4.74236190e-01],\n",
       "         [-6.89190775e-02, -4.20580991e-02,  1.10712714e-01,\n",
       "           2.15096250e-01]],\n",
       " \n",
       "        [[-2.17992757e-02,  3.48241717e-01,  9.34980735e-02,\n",
       "          -3.38221729e-01],\n",
       "         [-1.48344403e-02,  5.41917443e-01,  8.67336392e-02,\n",
       "          -6.00018084e-01]],\n",
       " \n",
       "        [[-2.40016598e-02, -3.43123674e-02,  3.62496860e-02,\n",
       "           4.30159159e-02],\n",
       "         [-2.46879067e-02, -2.29934871e-01,  3.71100046e-02,\n",
       "           3.46911967e-01]],\n",
       " \n",
       "        [[ 8.05549920e-02,  4.05641019e-01, -1.87918216e-01,\n",
       "          -9.37430203e-01],\n",
       "         [ 8.86678100e-02,  6.02731526e-01, -2.06666827e-01,\n",
       "          -1.28278482e+00]],\n",
       " \n",
       "        [[-6.42067641e-02, -2.35615730e-01,  1.01227991e-01,\n",
       "           4.74236190e-01],\n",
       "         [-6.89190775e-02, -4.20580991e-02,  1.10712714e-01,\n",
       "           2.15096250e-01]],\n",
       " \n",
       "        [[ 1.28902784e-02,  1.98246032e-01, -5.88755384e-02,\n",
       "          -3.59615684e-01],\n",
       "         [ 1.68551989e-02,  4.00827779e-03, -6.60678521e-02,\n",
       "          -8.60632733e-02]],\n",
       " \n",
       "        [[ 5.35338558e-02,  7.93601990e-01, -1.41140511e-02,\n",
       "          -1.15695620e+00],\n",
       "         [ 6.94058985e-02,  5.98666847e-01, -3.72531749e-02,\n",
       "          -8.68732035e-01]],\n",
       " \n",
       "        [[ 6.07599318e-02,  3.41698766e-01,  3.49590816e-02,\n",
       "          -1.92469612e-01],\n",
       "         [ 6.75939098e-02,  1.46094605e-01,  3.11096888e-02,\n",
       "           1.11033238e-01]],\n",
       " \n",
       "        [[-1.94498375e-02, -2.32970461e-01,  8.23020637e-02,\n",
       "           4.51209515e-01],\n",
       "         [-2.41092462e-02, -3.91030535e-02,  9.13262591e-02,\n",
       "           1.85562238e-01]],\n",
       " \n",
       "        [[ 1.18700661e-01,  7.08129823e-01,  1.84692554e-02,\n",
       "          -2.88735241e-01],\n",
       "         [ 1.32863253e-01,  9.02983606e-01,  1.26945497e-02,\n",
       "          -5.75536430e-01]],\n",
       " \n",
       "        [[-5.02233207e-02, -4.26961362e-01,  7.62151629e-02,\n",
       "           6.83062613e-01],\n",
       "         [-5.87625504e-02, -2.32975841e-01,  8.98764133e-02,\n",
       "           4.15314585e-01]],\n",
       " \n",
       "        [[ 6.16186149e-02,  1.47739291e-01,  3.56695172e-03,\n",
       "           7.47037232e-02],\n",
       "         [ 6.45733997e-02, -4.74336073e-02,  5.06102620e-03,\n",
       "           3.68509889e-01]],\n",
       " \n",
       "        [[ 6.45733997e-02, -4.74336073e-02,  5.06102620e-03,\n",
       "           3.68509889e-01],\n",
       "         [ 6.36247322e-02, -2.42627099e-01,  1.24312239e-02,\n",
       "           6.62784338e-01]],\n",
       " \n",
       "        [[-2.72291917e-02,  1.61376625e-01,  4.14989255e-02,\n",
       "          -2.62462020e-01],\n",
       "         [-2.40016598e-02, -3.43123674e-02,  3.62496860e-02,\n",
       "           4.30159159e-02]]], dtype=float32)>, action=<tf.Tensor: shape=(64, 2), dtype=int64, numpy=\n",
       " array([[1, 1],\n",
       "        [0, 0],\n",
       "        [1, 1],\n",
       "        [0, 1],\n",
       "        [0, 0],\n",
       "        [1, 1],\n",
       "        [1, 0],\n",
       "        [0, 1],\n",
       "        [0, 0],\n",
       "        [0, 1],\n",
       "        [1, 0],\n",
       "        [1, 0],\n",
       "        [1, 1],\n",
       "        [1, 0],\n",
       "        [0, 1],\n",
       "        [1, 0],\n",
       "        [0, 1],\n",
       "        [1, 1],\n",
       "        [1, 0],\n",
       "        [0, 1],\n",
       "        [0, 0],\n",
       "        [0, 1],\n",
       "        [1, 0],\n",
       "        [1, 0],\n",
       "        [0, 0],\n",
       "        [1, 1],\n",
       "        [1, 1],\n",
       "        [0, 1],\n",
       "        [0, 1],\n",
       "        [1, 1],\n",
       "        [1, 1],\n",
       "        [0, 0],\n",
       "        [0, 0],\n",
       "        [1, 0],\n",
       "        [1, 1],\n",
       "        [1, 1],\n",
       "        [0, 1],\n",
       "        [1, 1],\n",
       "        [0, 0],\n",
       "        [0, 0],\n",
       "        [0, 0],\n",
       "        [1, 1],\n",
       "        [0, 1],\n",
       "        [0, 0],\n",
       "        [1, 0],\n",
       "        [1, 0],\n",
       "        [0, 0],\n",
       "        [1, 0],\n",
       "        [0, 1],\n",
       "        [0, 1],\n",
       "        [1, 1],\n",
       "        [1, 1],\n",
       "        [0, 0],\n",
       "        [1, 0],\n",
       "        [1, 1],\n",
       "        [0, 1],\n",
       "        [0, 1],\n",
       "        [0, 1],\n",
       "        [1, 1],\n",
       "        [1, 1],\n",
       "        [1, 1],\n",
       "        [0, 0],\n",
       "        [0, 1],\n",
       "        [0, 0]])>, policy_info=(), next_step_type=<tf.Tensor: shape=(64, 2), dtype=int32, numpy=\n",
       " array([[1, 1],\n",
       "        [1, 1],\n",
       "        [1, 1],\n",
       "        [1, 1],\n",
       "        [1, 1],\n",
       "        [1, 1],\n",
       "        [1, 1],\n",
       "        [1, 1],\n",
       "        [1, 1],\n",
       "        [1, 1],\n",
       "        [1, 1],\n",
       "        [1, 1],\n",
       "        [1, 1],\n",
       "        [1, 1],\n",
       "        [1, 1],\n",
       "        [1, 1],\n",
       "        [1, 1],\n",
       "        [1, 1],\n",
       "        [1, 1],\n",
       "        [1, 1],\n",
       "        [1, 1],\n",
       "        [1, 1],\n",
       "        [1, 2],\n",
       "        [1, 1],\n",
       "        [1, 1],\n",
       "        [1, 1],\n",
       "        [1, 1],\n",
       "        [1, 1],\n",
       "        [1, 1],\n",
       "        [1, 1],\n",
       "        [1, 1],\n",
       "        [1, 1],\n",
       "        [2, 0],\n",
       "        [1, 1],\n",
       "        [1, 1],\n",
       "        [1, 1],\n",
       "        [1, 1],\n",
       "        [1, 1],\n",
       "        [1, 1],\n",
       "        [1, 1],\n",
       "        [1, 1],\n",
       "        [1, 1],\n",
       "        [1, 1],\n",
       "        [2, 0],\n",
       "        [1, 1],\n",
       "        [1, 1],\n",
       "        [1, 1],\n",
       "        [1, 1],\n",
       "        [1, 1],\n",
       "        [1, 1],\n",
       "        [1, 1],\n",
       "        [1, 1],\n",
       "        [1, 1],\n",
       "        [1, 2],\n",
       "        [1, 1],\n",
       "        [1, 1],\n",
       "        [1, 1],\n",
       "        [1, 1],\n",
       "        [1, 1],\n",
       "        [1, 1],\n",
       "        [1, 1],\n",
       "        [1, 1],\n",
       "        [1, 1],\n",
       "        [1, 1]], dtype=int32)>, reward=<tf.Tensor: shape=(64, 2), dtype=float32, numpy=\n",
       " array([[1., 1.],\n",
       "        [1., 1.],\n",
       "        [1., 1.],\n",
       "        [1., 1.],\n",
       "        [1., 1.],\n",
       "        [1., 1.],\n",
       "        [1., 1.],\n",
       "        [1., 1.],\n",
       "        [1., 1.],\n",
       "        [1., 1.],\n",
       "        [1., 1.],\n",
       "        [1., 1.],\n",
       "        [1., 1.],\n",
       "        [1., 1.],\n",
       "        [1., 1.],\n",
       "        [1., 1.],\n",
       "        [1., 1.],\n",
       "        [1., 1.],\n",
       "        [1., 1.],\n",
       "        [1., 1.],\n",
       "        [1., 1.],\n",
       "        [1., 1.],\n",
       "        [1., 1.],\n",
       "        [1., 1.],\n",
       "        [1., 1.],\n",
       "        [1., 1.],\n",
       "        [1., 1.],\n",
       "        [1., 1.],\n",
       "        [1., 1.],\n",
       "        [1., 1.],\n",
       "        [1., 1.],\n",
       "        [1., 1.],\n",
       "        [1., 0.],\n",
       "        [1., 1.],\n",
       "        [1., 1.],\n",
       "        [1., 1.],\n",
       "        [1., 1.],\n",
       "        [1., 1.],\n",
       "        [1., 1.],\n",
       "        [1., 1.],\n",
       "        [1., 1.],\n",
       "        [1., 1.],\n",
       "        [1., 1.],\n",
       "        [1., 0.],\n",
       "        [1., 1.],\n",
       "        [1., 1.],\n",
       "        [1., 1.],\n",
       "        [1., 1.],\n",
       "        [1., 1.],\n",
       "        [1., 1.],\n",
       "        [1., 1.],\n",
       "        [1., 1.],\n",
       "        [1., 1.],\n",
       "        [1., 1.],\n",
       "        [1., 1.],\n",
       "        [1., 1.],\n",
       "        [1., 1.],\n",
       "        [1., 1.],\n",
       "        [1., 1.],\n",
       "        [1., 1.],\n",
       "        [1., 1.],\n",
       "        [1., 1.],\n",
       "        [1., 1.],\n",
       "        [1., 1.]], dtype=float32)>, discount=<tf.Tensor: shape=(64, 2), dtype=float32, numpy=\n",
       " array([[1., 1.],\n",
       "        [1., 1.],\n",
       "        [1., 1.],\n",
       "        [1., 1.],\n",
       "        [1., 1.],\n",
       "        [1., 1.],\n",
       "        [1., 1.],\n",
       "        [1., 1.],\n",
       "        [1., 1.],\n",
       "        [1., 1.],\n",
       "        [1., 1.],\n",
       "        [1., 1.],\n",
       "        [1., 1.],\n",
       "        [1., 1.],\n",
       "        [1., 1.],\n",
       "        [1., 1.],\n",
       "        [1., 1.],\n",
       "        [1., 1.],\n",
       "        [1., 1.],\n",
       "        [1., 1.],\n",
       "        [1., 1.],\n",
       "        [1., 1.],\n",
       "        [1., 0.],\n",
       "        [1., 1.],\n",
       "        [1., 1.],\n",
       "        [1., 1.],\n",
       "        [1., 1.],\n",
       "        [1., 1.],\n",
       "        [1., 1.],\n",
       "        [1., 1.],\n",
       "        [1., 1.],\n",
       "        [1., 1.],\n",
       "        [0., 1.],\n",
       "        [1., 1.],\n",
       "        [1., 1.],\n",
       "        [1., 1.],\n",
       "        [1., 1.],\n",
       "        [1., 1.],\n",
       "        [1., 1.],\n",
       "        [1., 1.],\n",
       "        [1., 1.],\n",
       "        [1., 1.],\n",
       "        [1., 1.],\n",
       "        [0., 1.],\n",
       "        [1., 1.],\n",
       "        [1., 1.],\n",
       "        [1., 1.],\n",
       "        [1., 1.],\n",
       "        [1., 1.],\n",
       "        [1., 1.],\n",
       "        [1., 1.],\n",
       "        [1., 1.],\n",
       "        [1., 1.],\n",
       "        [1., 0.],\n",
       "        [1., 1.],\n",
       "        [1., 1.],\n",
       "        [1., 1.],\n",
       "        [1., 1.],\n",
       "        [1., 1.],\n",
       "        [1., 1.],\n",
       "        [1., 1.],\n",
       "        [1., 1.],\n",
       "        [1., 1.],\n",
       "        [1., 1.]], dtype=float32)>),\n",
       " BufferInfo(ids=<tf.Tensor: shape=(64, 2), dtype=int64, numpy=\n",
       " array([[49, 50],\n",
       "        [33, 34],\n",
       "        [49, 50],\n",
       "        [63, 64],\n",
       "        [58, 59],\n",
       "        [85, 86],\n",
       "        [77, 78],\n",
       "        [81, 82],\n",
       "        [32, 33],\n",
       "        [63, 64],\n",
       "        [45, 46],\n",
       "        [28, 29],\n",
       "        [44, 45],\n",
       "        [ 8,  9],\n",
       "        [76, 77],\n",
       "        [37, 38],\n",
       "        [46, 47],\n",
       "        [20, 21],\n",
       "        [23, 24],\n",
       "        [63, 64],\n",
       "        [58, 59],\n",
       "        [73, 74],\n",
       "        [12, 13],\n",
       "        [67, 68],\n",
       "        [ 2,  3],\n",
       "        [66, 67],\n",
       "        [79, 80],\n",
       "        [46, 47],\n",
       "        [81, 82],\n",
       "        [ 0,  1],\n",
       "        [66, 67],\n",
       "        [57, 58],\n",
       "        [71, 72],\n",
       "        [87, 88],\n",
       "        [84, 85],\n",
       "        [64, 65],\n",
       "        [19, 20],\n",
       "        [65, 66],\n",
       "        [62, 63],\n",
       "        [89, 90],\n",
       "        [32, 33],\n",
       "        [64, 65],\n",
       "        [97, 98],\n",
       "        [13, 14],\n",
       "        [96, 97],\n",
       "        [23, 24],\n",
       "        [89, 90],\n",
       "        [61, 62],\n",
       "        [43, 44],\n",
       "        [59, 60],\n",
       "        [39, 40],\n",
       "        [85, 86],\n",
       "        [32, 33],\n",
       "        [12, 13],\n",
       "        [39, 40],\n",
       "        [ 3,  4],\n",
       "        [19, 20],\n",
       "        [97, 98],\n",
       "        [82, 83],\n",
       "        [60, 61],\n",
       "        [36, 37],\n",
       "        [92, 93],\n",
       "        [93, 94],\n",
       "        [31, 32]])>, probabilities=<tf.Tensor: shape=(64,), dtype=float32, numpy=\n",
       " array([0.01010101, 0.01010101, 0.01010101, 0.01010101, 0.01010101,\n",
       "        0.01010101, 0.01010101, 0.01010101, 0.01010101, 0.01010101,\n",
       "        0.01010101, 0.01010101, 0.01010101, 0.01010101, 0.01010101,\n",
       "        0.01010101, 0.01010101, 0.01010101, 0.01010101, 0.01010101,\n",
       "        0.01010101, 0.01010101, 0.01010101, 0.01010101, 0.01010101,\n",
       "        0.01010101, 0.01010101, 0.01010101, 0.01010101, 0.01010101,\n",
       "        0.01010101, 0.01010101, 0.01010101, 0.01010101, 0.01010101,\n",
       "        0.01010101, 0.01010101, 0.01010101, 0.01010101, 0.01010101,\n",
       "        0.01010101, 0.01010101, 0.01010101, 0.01010101, 0.01010101,\n",
       "        0.01010101, 0.01010101, 0.01010101, 0.01010101, 0.01010101,\n",
       "        0.01010101, 0.01010101, 0.01010101, 0.01010101, 0.01010101,\n",
       "        0.01010101, 0.01010101, 0.01010101, 0.01010101, 0.01010101,\n",
       "        0.01010101, 0.01010101, 0.01010101, 0.01010101], dtype=float32)>))"
      ]
     },
     "execution_count": 31,
     "metadata": {},
     "output_type": "execute_result"
    }
   ],
   "source": [
    "# For the curious:\n",
    "# Uncomment to see what the dataset iterator is feeding to the agent.\n",
    "# Compare this representation of replay data \n",
    "# to the collection of individual trajectories shown earlier.\n",
    "\n",
    "iterator.next()"
   ]
  },
  {
   "cell_type": "markdown",
   "metadata": {
    "colab_type": "text",
    "id": "hBc9lj9VWWtZ"
   },
   "source": [
    "## Training the agent\n",
    "\n",
    "Two things must happen during the training loop:\n",
    "\n",
    "-   collect data from the environment\n",
    "-   use that data to train the agent's neural network(s)\n",
    "\n",
    "This example also periodicially evaluates the policy and prints the current score.\n",
    "\n",
    "The following will take ~5 minutes to run."
   ]
  },
  {
   "cell_type": "code",
   "execution_count": 32,
   "metadata": {
    "colab": {},
    "colab_type": "code",
    "id": "0pTbJ3PeyF-u",
    "scrolled": true
   },
   "outputs": [
    {
     "name": "stdout",
     "output_type": "stream",
     "text": [
      "step = 200: loss = 40.711830139160156\n",
      "step = 400: loss = 14.355627059936523\n",
      "step = 600: loss = 13.687816619873047\n",
      "step = 800: loss = 2.0253829956054688\n",
      "step = 1000: loss = 2.917353391647339\n",
      "step = 1000: Average Return = 200.0\n",
      "step = 1200: loss = 25.97850799560547\n",
      "step = 1400: loss = 28.909528732299805\n",
      "step = 1600: loss = 101.60014343261719\n",
      "step = 1800: loss = 31.64738655090332\n",
      "step = 2000: loss = 106.51008605957031\n",
      "step = 2000: Average Return = 22.100000381469727\n",
      "step = 2200: loss = 35.0112190246582\n",
      "step = 2400: loss = 25.803972244262695\n",
      "step = 2600: loss = 22.333398818969727\n",
      "step = 2800: loss = 58.1737174987793\n",
      "step = 3000: loss = 2.5459024906158447\n",
      "step = 3000: Average Return = 52.5\n",
      "step = 3200: loss = 19.298608779907227\n",
      "step = 3400: loss = 4.918617248535156\n",
      "step = 3600: loss = 29.826622009277344\n",
      "step = 3800: loss = 85.90322875976562\n",
      "step = 4000: loss = 18.80788803100586\n",
      "step = 4000: Average Return = 57.599998474121094\n",
      "step = 4200: loss = 53.592323303222656\n",
      "step = 4400: loss = 60.163177490234375\n",
      "step = 4600: loss = 16.763708114624023\n",
      "step = 4800: loss = 34.363121032714844\n",
      "step = 5000: loss = 5.373581886291504\n",
      "step = 5000: Average Return = 136.60000610351562\n",
      "step = 5200: loss = 37.16489028930664\n",
      "step = 5400: loss = 40.061763763427734\n",
      "step = 5600: loss = 20.744564056396484\n",
      "step = 5800: loss = 31.252845764160156\n",
      "step = 6000: loss = 172.5341796875\n",
      "step = 6000: Average Return = 117.5999984741211\n",
      "step = 6200: loss = 4.494002342224121\n",
      "step = 6400: loss = 7.409099578857422\n",
      "step = 6600: loss = 5.671348571777344\n",
      "step = 6800: loss = 71.84371185302734\n",
      "step = 7000: loss = 8.054054260253906\n",
      "step = 7000: Average Return = 187.1999969482422\n",
      "step = 7200: loss = 82.55615234375\n",
      "step = 7400: loss = 99.2152099609375\n",
      "step = 7600: loss = 14.605921745300293\n",
      "step = 7800: loss = 6.141653537750244\n",
      "step = 8000: loss = 7.151463508605957\n",
      "step = 8000: Average Return = 195.0\n",
      "step = 8200: loss = 242.4253692626953\n",
      "step = 8400: loss = 10.91224479675293\n",
      "step = 8600: loss = 30.02115821838379\n",
      "step = 8800: loss = 22.346912384033203\n",
      "step = 9000: loss = 50.532928466796875\n",
      "step = 9000: Average Return = 195.8000030517578\n",
      "step = 9200: loss = 141.07217407226562\n",
      "step = 9400: loss = 105.367431640625\n",
      "step = 9600: loss = 297.4858093261719\n",
      "step = 9800: loss = 366.6394348144531\n",
      "step = 10000: loss = 194.7926025390625\n",
      "step = 10000: Average Return = 197.89999389648438\n",
      "step = 10200: loss = 278.275634765625\n",
      "step = 10400: loss = 332.5054016113281\n",
      "step = 10600: loss = 112.9000015258789\n",
      "step = 10800: loss = 397.38629150390625\n",
      "step = 11000: loss = 14.578350067138672\n",
      "step = 11000: Average Return = 200.0\n",
      "step = 11200: loss = 415.07861328125\n",
      "step = 11400: loss = 88.45679473876953\n",
      "step = 11600: loss = 145.8902130126953\n",
      "step = 11800: loss = 161.10760498046875\n",
      "step = 12000: loss = 178.1361083984375\n",
      "step = 12000: Average Return = 200.0\n",
      "step = 12200: loss = 172.23533630371094\n",
      "step = 12400: loss = 51.41761016845703\n",
      "step = 12600: loss = 16.223390579223633\n",
      "step = 12800: loss = 206.78155517578125\n",
      "step = 13000: loss = 24.476755142211914\n",
      "step = 13000: Average Return = 200.0\n",
      "step = 13200: loss = 398.3236083984375\n",
      "step = 13400: loss = 41.19000244140625\n",
      "step = 13600: loss = 48.31498718261719\n",
      "step = 13800: loss = 69.82792663574219\n",
      "step = 14000: loss = 409.44683837890625\n",
      "step = 14000: Average Return = 200.0\n",
      "step = 14200: loss = 409.66632080078125\n",
      "step = 14400: loss = 959.11962890625\n",
      "step = 14600: loss = 44.874122619628906\n",
      "step = 14800: loss = 32.738502502441406\n",
      "step = 15000: loss = 42.4290771484375\n",
      "step = 15000: Average Return = 200.0\n",
      "step = 15200: loss = 36.09840393066406\n",
      "step = 15400: loss = 668.1898803710938\n",
      "step = 15600: loss = 4174.80126953125\n",
      "step = 15800: loss = 45.29441452026367\n",
      "step = 16000: loss = 837.9266967773438\n",
      "step = 16000: Average Return = 200.0\n",
      "step = 16200: loss = 146.98208618164062\n",
      "step = 16400: loss = 47.59014129638672\n",
      "step = 16600: loss = 641.1906127929688\n",
      "step = 16800: loss = 515.10400390625\n",
      "step = 17000: loss = 64.36126708984375\n",
      "step = 17000: Average Return = 200.0\n",
      "step = 17200: loss = 2422.62353515625\n",
      "step = 17400: loss = 489.0455017089844\n",
      "step = 17600: loss = 63.747474670410156\n",
      "step = 17800: loss = 3509.71435546875\n",
      "step = 18000: loss = 1132.037109375\n",
      "step = 18000: Average Return = 200.0\n",
      "step = 18200: loss = 80.26138305664062\n",
      "step = 18400: loss = 35.12316131591797\n",
      "step = 18600: loss = 63.212154388427734\n",
      "step = 18800: loss = 61.338478088378906\n",
      "step = 19000: loss = 529.038330078125\n",
      "step = 19000: Average Return = 200.0\n",
      "step = 19200: loss = 68.56513977050781\n",
      "step = 19400: loss = 482.9781799316406\n",
      "step = 19600: loss = 71.37442016601562\n",
      "step = 19800: loss = 14044.5673828125\n",
      "step = 20000: loss = 3144.995849609375\n",
      "step = 20000: Average Return = 200.0\n",
      "CPU times: user 2min 17s, sys: 6.41 s, total: 2min 23s\n",
      "Wall time: 1min 49s\n"
     ]
    }
   ],
   "source": [
    "%%time\n",
    "#@test {\"skip\": true}\n",
    "try:\n",
    "  %%time\n",
    "except:\n",
    "  pass\n",
    "\n",
    "# (Optional) Optimize by wrapping some of the code in a graph using TF function.\n",
    "agent.train = common.function(agent.train)\n",
    "\n",
    "# Reset the train step\n",
    "agent.train_step_counter.assign(0)\n",
    "\n",
    "# Evaluate the agent's policy once before training.\n",
    "avg_return = compute_avg_return(eval_env, agent.policy, num_eval_episodes)\n",
    "returns = [avg_return]\n",
    "\n",
    "for _ in range(num_iterations):\n",
    "\n",
    "  # Collect a few steps using collect_policy and save to the replay buffer.\n",
    "  for _ in range(collect_steps_per_iteration):\n",
    "    collect_step(train_env, agent.collect_policy, replay_buffer)\n",
    "\n",
    "  # Sample a batch of data from the buffer and update the agent's network.\n",
    "  experience, unused_info = next(iterator)\n",
    "  train_loss = agent.train(experience).loss\n",
    "\n",
    "  step = agent.train_step_counter.numpy()\n",
    "\n",
    "  if step % log_interval == 0:\n",
    "    print('step = {0}: loss = {1}'.format(step, train_loss))\n",
    "\n",
    "  if step % eval_interval == 0:\n",
    "    avg_return = compute_avg_return(eval_env, agent.policy, num_eval_episodes)\n",
    "    print('step = {0}: Average Return = {1}'.format(step, avg_return))\n",
    "    returns.append(avg_return)"
   ]
  },
  {
   "cell_type": "markdown",
   "metadata": {
    "colab_type": "text",
    "id": "68jNcA_TiJDq"
   },
   "source": [
    "## Visualization\n"
   ]
  },
  {
   "cell_type": "markdown",
   "metadata": {
    "colab_type": "text",
    "id": "aO-LWCdbbOIC"
   },
   "source": [
    "### Plots\n",
    "\n",
    "Use `matplotlib.pyplot` to chart how the policy improved during training.\n",
    "\n",
    "One iteration of `Cartpole-v0` consists of 200 time steps. The environment gives a reward of `+1` for each step the pole stays up, so the maximum return for one episode is 200. The charts shows the return increasing towards that maximum each time it is evaluated during training. (It may be a little unstable and not increase monotonically each time.)"
   ]
  },
  {
   "cell_type": "code",
   "execution_count": 33,
   "metadata": {
    "colab": {},
    "colab_type": "code",
    "id": "NxtL1mbOYCVO"
   },
   "outputs": [
    {
     "data": {
      "text/plain": [
       "(0.08000040054321289, 250.0)"
      ]
     },
     "execution_count": 33,
     "metadata": {},
     "output_type": "execute_result"
    },
    {
     "data": {
      "image/png": "[encoded data removed]",
      "text/plain": [
       "<Figure size 432x288 with 1 Axes>"
      ]
     },
     "metadata": {
      "needs_background": "light"
     },
     "output_type": "display_data"
    }
   ],
   "source": [
    "#@test {\"skip\": true}\n",
    "\n",
    "iterations = range(0, num_iterations + 1, eval_interval)\n",
    "plt.plot(iterations, returns)\n",
    "plt.ylabel('Average Return')\n",
    "plt.xlabel('Iterations')\n",
    "plt.ylim(top=250)"
   ]
  },
  {
   "cell_type": "markdown",
   "metadata": {
    "colab_type": "text",
    "id": "M7-XpPP99Cy7"
   },
   "source": [
    "### Videos"
   ]
  },
  {
   "cell_type": "markdown",
   "metadata": {
    "colab_type": "text",
    "id": "9pGfGxSH32gn"
   },
   "source": [
    "Charts are nice. But more exciting is seeing an agent actually performing a task in an environment. \n",
    "\n",
    "First, create a function to embed videos in the notebook."
   ]
  },
  {
   "cell_type": "code",
   "execution_count": 34,
   "metadata": {
    "colab": {},
    "colab_type": "code",
    "id": "ULaGr8pvOKbl"
   },
   "outputs": [],
   "source": [
    "def embed_mp4(filename):\n",
    "  \"\"\"Embeds an mp4 file in the notebook.\"\"\"\n",
    "  video = open(filename,'rb').read()\n",
    "  b64 = base64.b64encode(video)\n",
    "  tag = '''\n",
    "  <video width=\"640\" height=\"480\" controls>\n",
    "    <source src=\"data:video/mp4;base64,{0}\" type=\"video/mp4\">\n",
    "  Your browser does not support the video tag.\n",
    "  </video>'''.format(b64.decode())\n",
    "\n",
    "  return IPython.display.HTML(tag)"
   ]
  },
  {
   "cell_type": "markdown",
   "metadata": {
    "colab_type": "text",
    "id": "9c_PH-pX4Pr5"
   },
   "source": [
    "Now iterate through a few episodes of the Cartpole game with the agent. The underlying Python environment (the one \"inside\" the TensorFlow environment wrapper) provides a `render()` method, which outputs an image of the environment state. These can be collected into a video."
   ]
  },
  {
   "cell_type": "code",
   "execution_count": 35,
   "metadata": {
    "colab": {},
    "colab_type": "code",
    "id": "owOVWB158NlF"
   },
   "outputs": [
    {
     "name": "stderr",
     "output_type": "stream",
     "text": [
      "WARNING:root:IMAGEIO FFMPEG_WRITER WARNING: input image is not divisible by macro_block_size=16, resizing from (400, 600) to (400, 608) to ensure video compatibility with most codecs and players. To prevent resizing, make your input image divisible by the macro_block_size or set the macro_block_size to None (risking incompatibility). You may also see a FFMPEG warning concerning speedloss due to data not being aligned.\n"
     ]
    },
    {
     "data": {
      "text/html": [
       "\n",
       "  <video width=\"640\" height=\"480\" controls>\n",
       "    <source src=\"data:video/mp4;base64,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\" type=\"video/mp4\">\n",
       "  Your browser does not support the video tag.\n",
       "  </video>"
      ],
      "text/plain": [
       "<IPython.core.display.HTML object>"
      ]
     },
     "execution_count": 35,
     "metadata": {},
     "output_type": "execute_result"
    }
   ],
   "source": [
    "def create_policy_eval_video(policy, filename, num_episodes=5, fps=30):\n",
    "  filename = filename + \".mp4\"\n",
    "  with imageio.get_writer(filename, fps=fps) as video:\n",
    "    for _ in range(num_episodes):\n",
    "      time_step = eval_env.reset()\n",
    "      video.append_data(eval_py_env.render())\n",
    "      while not time_step.is_last():\n",
    "        action_step = policy.action(time_step)\n",
    "        time_step = eval_env.step(action_step.action)\n",
    "        video.append_data(eval_py_env.render())\n",
    "  return embed_mp4(filename)\n",
    "\n",
    "\n",
    "\n",
    "\n",
    "create_policy_eval_video(agent.policy, \"trained-agent\")"
   ]
  },
  {
   "cell_type": "markdown",
   "metadata": {
    "colab_type": "text",
    "id": "povaAOcZygLw"
   },
   "source": [
    "For fun, compare the trained agent (above) to an agent moving randomly. (It does not do as well.)"
   ]
  },
  {
   "cell_type": "code",
   "execution_count": 36,
   "metadata": {
    "colab": {},
    "colab_type": "code",
    "id": "pJZIdC37yNH4"
   },
   "outputs": [
    {
     "name": "stderr",
     "output_type": "stream",
     "text": [
      "WARNING:root:IMAGEIO FFMPEG_WRITER WARNING: input image is not divisible by macro_block_size=16, resizing from (400, 600) to (400, 608) to ensure video compatibility with most codecs and players. To prevent resizing, make your input image divisible by the macro_block_size or set the macro_block_size to None (risking incompatibility). You may also see a FFMPEG warning concerning speedloss due to data not being aligned.\n"
     ]
    },
    {
     "data": {
      "text/html": [
       "\n",
       "  <video width=\"640\" height=\"480\" controls>\n",
       "    <source src=\"data:video/mp4;base64,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\" type=\"video/mp4\">\n",
       "  Your browser does not support the video tag.\n",
       "  </video>"
      ],
      "text/plain": [
       "<IPython.core.display.HTML object>"
      ]
     },
     "execution_count": 36,
     "metadata": {},
     "output_type": "execute_result"
    }
   ],
   "source": [
    "create_policy_eval_video(random_policy, \"random-agent\")"
   ]
  }
 ],
 "metadata": {
  "colab": {
   "collapsed_sections": [],
   "name": "DQN Tutorial.ipynb",
   "private_outputs": true,
   "provenance": [],
   "toc_visible": true
  },
  "kernelspec": {
   "display_name": "Python 3",
   "language": "python",
   "name": "python3"
  },
  "language_info": {
   "codemirror_mode": {
    "name": "ipython",
    "version": 3
   },
   "file_extension": ".py",
   "mimetype": "text/x-python",
   "name": "python",
   "nbconvert_exporter": "python",
   "pygments_lexer": "ipython3",
   "version": "3.6.9"
  },
  "pycharm": {
   "stem_cell": {
    "cell_type": "raw",
    "metadata": {
     "collapsed": false
    },
    "source": []
   }
  }
 },
 "nbformat": 4,
 "nbformat_minor": 1
}
