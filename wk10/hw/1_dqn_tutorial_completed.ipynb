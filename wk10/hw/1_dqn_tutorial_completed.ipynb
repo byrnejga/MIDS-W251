{
 "cells": [
  {
   "cell_type": "markdown",
   "metadata": {
    "colab_type": "text",
    "id": "klGNgWREsvQv"
   },
   "source": [
    "##### Copyright 2018 The TF-Agents Authors."
   ]
  },
  {
   "cell_type": "code",
   "execution_count": 1,
   "metadata": {
    "cellView": "form",
    "colab": {},
    "colab_type": "code",
    "id": "nQnmcm0oI1Q-"
   },
   "outputs": [],
   "source": [
    "#@title Licensed under the Apache License, Version 2.0 (the \"License\");\n",
    "# you may not use this file except in compliance with the License.\n",
    "# You may obtain a copy of the License at\n",
    "#\n",
    "# https://www.apache.org/licenses/LICENSE-2.0\n",
    "#\n",
    "# Unless required by applicable law or agreed to in writing, software\n",
    "# distributed under the License is distributed on an \"AS IS\" BASIS,\n",
    "# WITHOUT WARRANTIES OR CONDITIONS OF ANY KIND, either express or implied.\n",
    "# See the License for the specific language governing permissions and\n",
    "# limitations under the License."
   ]
  },
  {
   "cell_type": "markdown",
   "metadata": {
    "colab_type": "text",
    "id": "pmDI-h7cI0tI"
   },
   "source": [
    "# Train a Deep Q Network with TF-Agents\n",
    "\n",
    "<table class=\"tfo-notebook-buttons\" align=\"left\">\n",
    "  <td>\n",
    "    <a target=\"_blank\" href=\"https://www.tensorflow.org/agents/tutorials/1_dqn_tutorial\">\n",
    "    <img src=\"https://www.tensorflow.org/images/tf_logo_32px.png\" />\n",
    "    View on TensorFlow.org</a>\n",
    "  </td>\n",
    "  <td>\n",
    "    <a target=\"_blank\" href=\"https://colab.research.google.com/github/tensorflow/agents/blob/master/docs/tutorials/1_dqn_tutorial.ipynb\">\n",
    "    <img src=\"https://www.tensorflow.org/images/colab_logo_32px.png\" />\n",
    "    Run in Google Colab</a>\n",
    "  </td>\n",
    "  <td>\n",
    "    <a target=\"_blank\" href=\"https://github.com/tensorflow/agents/blob/master/docs/tutorials/1_dqn_tutorial.ipynb\">\n",
    "    <img src=\"https://www.tensorflow.org/images/GitHub-Mark-32px.png\" />\n",
    "    View source on GitHub</a>\n",
    "  </td>\n",
    "  <td>\n",
    "    <a href=\"https://storage.googleapis.com/tensorflow_docs/agents/docs/tutorials/1_dqn_tutorial.ipynb\"><img src=\"https://www.tensorflow.org/images/download_logo_32px.png\" />Download notebook</a>\n",
    "  </td>\n",
    "</table>"
   ]
  },
  {
   "cell_type": "markdown",
   "metadata": {
    "colab_type": "text",
    "id": "lsaQlK8fFQqH"
   },
   "source": [
    "## Introduction\n"
   ]
  },
  {
   "cell_type": "markdown",
   "metadata": {
    "colab_type": "text",
    "id": "cKOCZlhUgXVK"
   },
   "source": [
    "This example shows how to train a [DQN (Deep Q Networks)](https://storage.googleapis.com/deepmind-media/dqn/DQNNaturePaper.pdf)  agent on the Cartpole environment using the TF-Agents library.\n",
    "\n",
    "![Cartpole environment](https://raw.githubusercontent.com/tensorflow/agents/master/docs/tutorials/images/cartpole.png)\n",
    "\n",
    "It will walk you through all the components in a Reinforcement Learning (RL) pipeline for training, evaluation and data collection.\n",
    "\n",
    "\n",
    "To run this code live, click the 'Run in Google Colab' link above.\n"
   ]
  },
  {
   "cell_type": "markdown",
   "metadata": {
    "colab_type": "text",
    "id": "1u9QVVsShC9X"
   },
   "source": [
    "## Setup"
   ]
  },
  {
   "cell_type": "markdown",
   "metadata": {
    "colab_type": "text",
    "id": "kNrNXKI7bINP"
   },
   "source": [
    "If you haven't installed the following dependencies, run:"
   ]
  },
  {
   "cell_type": "code",
   "execution_count": 2,
   "metadata": {
    "colab": {},
    "colab_type": "code",
    "id": "KEHR2Ui-lo8O"
   },
   "outputs": [
    {
     "name": "stdout",
     "output_type": "stream",
     "text": [
      "\u001b[33mWARNING: You are using pip version 20.1; however, version 20.1.1 is available.\n",
      "You should consider upgrading via the '/usr/bin/python3 -m pip install --upgrade pip' command.\u001b[0m\n",
      "\u001b[33mWARNING: You are using pip version 20.1; however, version 20.1.1 is available.\n",
      "You should consider upgrading via the '/usr/bin/python3 -m pip install --upgrade pip' command.\u001b[0m\n",
      "\u001b[33mWARNING: You are using pip version 20.1; however, version 20.1.1 is available.\n",
      "You should consider upgrading via the '/usr/bin/python3 -m pip install --upgrade pip' command.\u001b[0m\n",
      "\u001b[33mWARNING: You are using pip version 20.1; however, version 20.1.1 is available.\n",
      "You should consider upgrading via the '/usr/bin/python3 -m pip install --upgrade pip' command.\u001b[0m\n",
      "\u001b[33mWARNING: You are using pip version 20.1; however, version 20.1.1 is available.\n",
      "You should consider upgrading via the '/usr/bin/python3 -m pip install --upgrade pip' command.\u001b[0m\n",
      "\u001b[33mWARNING: You are using pip version 20.1; however, version 20.1.1 is available.\n",
      "You should consider upgrading via the '/usr/bin/python3 -m pip install --upgrade pip' command.\u001b[0m\n"
     ]
    }
   ],
   "source": [
    "# !sudo apt-get install -y xvfb ffmpeg\n",
    "!pip install -q 'gym==0.10.11'\n",
    "!pip install -q 'imageio==2.4.0'\n",
    "!pip install -q PILLOW\n",
    "!pip install -q 'pyglet==1.3.2'\n",
    "!pip install -q pyvirtualdisplay\n",
    "!pip install -q tf-agents"
   ]
  },
  {
   "cell_type": "code",
   "execution_count": 3,
   "metadata": {
    "colab": {},
    "colab_type": "code",
    "id": "sMitx5qSgJk1"
   },
   "outputs": [],
   "source": [
    "from __future__ import absolute_import, division, print_function\n",
    "\n",
    "import base64\n",
    "import imageio\n",
    "import IPython\n",
    "import matplotlib\n",
    "import matplotlib.pyplot as plt\n",
    "import numpy as np\n",
    "import PIL.Image\n",
    "import pyvirtualdisplay\n",
    "\n",
    "import tensorflow as tf\n",
    "\n",
    "from tf_agents.agents.dqn import dqn_agent\n",
    "from tf_agents.drivers import dynamic_step_driver\n",
    "from tf_agents.environments import suite_gym\n",
    "from tf_agents.environments import tf_py_environment\n",
    "from tf_agents.eval import metric_utils\n",
    "from tf_agents.metrics import tf_metrics\n",
    "from tf_agents.networks import q_network\n",
    "from tf_agents.policies import random_tf_policy\n",
    "from tf_agents.replay_buffers import tf_uniform_replay_buffer\n",
    "from tf_agents.trajectories import trajectory\n",
    "from tf_agents.utils import common"
   ]
  },
  {
   "cell_type": "code",
   "execution_count": 4,
   "metadata": {
    "colab": {},
    "colab_type": "code",
    "id": "J6HsdS5GbSjd"
   },
   "outputs": [],
   "source": [
    "tf.compat.v1.enable_v2_behavior()\n",
    "\n",
    "# Set up a virtual display for rendering OpenAI gym environments.\n",
    "display = pyvirtualdisplay.Display(visible=0, size=(1400, 900)).start()"
   ]
  },
  {
   "cell_type": "code",
   "execution_count": 5,
   "metadata": {
    "colab": {},
    "colab_type": "code",
    "id": "NspmzG4nP3b9"
   },
   "outputs": [
    {
     "data": {
      "text/plain": [
       "'2.2.0'"
      ]
     },
     "execution_count": 5,
     "metadata": {},
     "output_type": "execute_result"
    }
   ],
   "source": [
    "tf.version.VERSION"
   ]
  },
  {
   "cell_type": "markdown",
   "metadata": {
    "colab_type": "text",
    "id": "LmC0NDhdLIKY"
   },
   "source": [
    "## Hyperparameters"
   ]
  },
  {
   "cell_type": "code",
   "execution_count": 6,
   "metadata": {
    "colab": {},
    "colab_type": "code",
    "id": "HC1kNrOsLSIZ"
   },
   "outputs": [],
   "source": [
    "num_iterations = 20000 # @param {type:\"integer\"}\n",
    "\n",
    "initial_collect_steps = 1000  # @param {type:\"integer\"} \n",
    "collect_steps_per_iteration = 1  # @param {type:\"integer\"}\n",
    "replay_buffer_max_length = 100000  # @param {type:\"integer\"}\n",
    "\n",
    "batch_size = 64  # @param {type:\"integer\"}\n",
    "learning_rate = 1e-3  # @param {type:\"number\"}\n",
    "log_interval = 200  # @param {type:\"integer\"}\n",
    "\n",
    "num_eval_episodes = 10  # @param {type:\"integer\"}\n",
    "eval_interval = 1000  # @param {type:\"integer\"}"
   ]
  },
  {
   "cell_type": "markdown",
   "metadata": {
    "colab_type": "text",
    "id": "VMsJC3DEgI0x"
   },
   "source": [
    "## Environment\n",
    "\n",
    "In Reinforcement Learning (RL), an environment represents the task or problem to be solved. Standard environments can be created in TF-Agents using `tf_agents.environments` suites. TF-Agents has suites for loading environments from sources such as the OpenAI Gym, Atari, and DM Control.\n",
    "\n",
    "Load the CartPole environment from the OpenAI Gym suite. "
   ]
  },
  {
   "cell_type": "code",
   "execution_count": 7,
   "metadata": {
    "colab": {},
    "colab_type": "code",
    "id": "pYEz-S9gEv2-"
   },
   "outputs": [],
   "source": [
    "env_name = 'CartPole-v0'\n",
    "env = suite_gym.load(env_name)"
   ]
  },
  {
   "cell_type": "markdown",
   "metadata": {
    "colab_type": "text",
    "id": "IIHYVBkuvPNw"
   },
   "source": [
    "You can render this environment to see how it looks. A free-swinging pole is attached to a cart.  The goal is to move the cart right or left in order to keep the pole pointing up."
   ]
  },
  {
   "cell_type": "code",
   "execution_count": 8,
   "metadata": {
    "colab": {},
    "colab_type": "code",
    "id": "RlO7WIQHu_7D"
   },
   "outputs": [
    {
     "data": {
      "image/png": "[encoded data removed]",
      "text/plain": [
       "<PIL.Image.Image image mode=RGB size=600x400 at 0x7FD4FC8625F8>"
      ]
     },
     "execution_count": 8,
     "metadata": {},
     "output_type": "execute_result"
    }
   ],
   "source": [
    "#@test {\"skip\": true}\n",
    "env.reset()\n",
    "PIL.Image.fromarray(env.render())"
   ]
  },
  {
   "cell_type": "markdown",
   "metadata": {
    "colab_type": "text",
    "id": "B9_lskPOey18"
   },
   "source": [
    "The `environment.step` method takes an `action` in the environment and returns a `TimeStep` tuple containing the next observation of the environment and the reward for the action.\n",
    "\n",
    "The `time_step_spec()` method returns the specification for the `TimeStep` tuple. Its `observation` attribute shows the shape of observations, the data types, and the ranges of allowed values. The `reward` attribute shows the same details for the reward.\n"
   ]
  },
  {
   "cell_type": "code",
   "execution_count": 9,
   "metadata": {
    "colab": {},
    "colab_type": "code",
    "id": "exDv57iHfwQV"
   },
   "outputs": [
    {
     "name": "stdout",
     "output_type": "stream",
     "text": [
      "Observation Spec:\n",
      "BoundedArraySpec(shape=(4,), dtype=dtype('float32'), name='observation', minimum=[-4.8000002e+00 -3.4028235e+38 -4.1887903e-01 -3.4028235e+38], maximum=[4.8000002e+00 3.4028235e+38 4.1887903e-01 3.4028235e+38])\n"
     ]
    }
   ],
   "source": [
    "print('Observation Spec:')\n",
    "print(env.time_step_spec().observation)"
   ]
  },
  {
   "cell_type": "code",
   "execution_count": 10,
   "metadata": {
    "colab": {},
    "colab_type": "code",
    "id": "UxiSyCbBUQPi"
   },
   "outputs": [
    {
     "name": "stdout",
     "output_type": "stream",
     "text": [
      "Reward Spec:\n",
      "ArraySpec(shape=(), dtype=dtype('float32'), name='reward')\n"
     ]
    }
   ],
   "source": [
    "print('Reward Spec:')\n",
    "print(env.time_step_spec().reward)"
   ]
  },
  {
   "cell_type": "markdown",
   "metadata": {
    "colab_type": "text",
    "id": "b_lHcIcqUaqB"
   },
   "source": [
    "The `action_spec()` method returns the shape, data types, and allowed values of valid actions."
   ]
  },
  {
   "cell_type": "code",
   "execution_count": 11,
   "metadata": {
    "colab": {},
    "colab_type": "code",
    "id": "bttJ4uxZUQBr"
   },
   "outputs": [
    {
     "name": "stdout",
     "output_type": "stream",
     "text": [
      "Action Spec:\n",
      "BoundedArraySpec(shape=(), dtype=dtype('int64'), name='action', minimum=0, maximum=1)\n"
     ]
    }
   ],
   "source": [
    "print('Action Spec:')\n",
    "print(env.action_spec())"
   ]
  },
  {
   "cell_type": "markdown",
   "metadata": {
    "colab_type": "text",
    "id": "eJCgJnx3g0yY"
   },
   "source": [
    "In the Cartpole environment:\n",
    "\n",
    "-   `observation` is an array of 4 floats: \n",
    "    -   the position and velocity of the cart\n",
    "    -   the angular position and velocity of the pole \n",
    "-   `reward` is a scalar float value\n",
    "-   `action` is a scalar integer with only two possible values:\n",
    "    -   `0` — \"move left\"\n",
    "    -   `1` — \"move right\"\n"
   ]
  },
  {
   "cell_type": "code",
   "execution_count": 12,
   "metadata": {
    "colab": {},
    "colab_type": "code",
    "id": "V2UGR5t_iZX-"
   },
   "outputs": [
    {
     "name": "stdout",
     "output_type": "stream",
     "text": [
      "Time step:\n",
      "TimeStep(step_type=array(0, dtype=int32), reward=array(0., dtype=float32), discount=array(1., dtype=float32), observation=array([ 0.01361468,  0.00799129, -0.0208656 , -0.00080887], dtype=float32))\n",
      "Next time step:\n",
      "TimeStep(step_type=array(1, dtype=int32), reward=array(1., dtype=float32), discount=array(1., dtype=float32), observation=array([ 0.01377451,  0.20340617, -0.02088178, -0.3000014 ], dtype=float32))\n"
     ]
    }
   ],
   "source": [
    "time_step = env.reset()\n",
    "print('Time step:')\n",
    "print(time_step)\n",
    "\n",
    "action = np.array(1, dtype=np.int32)\n",
    "\n",
    "next_time_step = env.step(action)\n",
    "print('Next time step:')\n",
    "print(next_time_step)"
   ]
  },
  {
   "cell_type": "markdown",
   "metadata": {
    "colab_type": "text",
    "id": "4JSc9GviWUBK"
   },
   "source": [
    "Usually two environments are instantiated: one for training and one for evaluation. "
   ]
  },
  {
   "cell_type": "code",
   "execution_count": 13,
   "metadata": {
    "colab": {},
    "colab_type": "code",
    "id": "N7brXNIGWXjC"
   },
   "outputs": [],
   "source": [
    "train_py_env = suite_gym.load(env_name)\n",
    "eval_py_env = suite_gym.load(env_name)"
   ]
  },
  {
   "cell_type": "markdown",
   "metadata": {
    "colab_type": "text",
    "id": "zuUqXAVmecTU"
   },
   "source": [
    "The Cartpole environment, like most environments, is written in pure Python. This is converted to TensorFlow using the `TFPyEnvironment` wrapper.\n",
    "\n",
    "The original environment's API uses Numpy arrays. The `TFPyEnvironment` converts these to `Tensors` to make it compatible with Tensorflow agents and policies.\n"
   ]
  },
  {
   "cell_type": "code",
   "execution_count": 14,
   "metadata": {
    "colab": {},
    "colab_type": "code",
    "id": "Xp-Y4mD6eDhF"
   },
   "outputs": [],
   "source": [
    "train_env = tf_py_environment.TFPyEnvironment(train_py_env)\n",
    "eval_env = tf_py_environment.TFPyEnvironment(eval_py_env)"
   ]
  },
  {
   "cell_type": "markdown",
   "metadata": {
    "colab_type": "text",
    "id": "E9lW_OZYFR8A"
   },
   "source": [
    "## Agent\n",
    "\n",
    "The algorithm used to solve an RL problem is represented by an `Agent`. TF-Agents provides standard implementations of a variety of `Agents`, including:\n",
    "\n",
    "-   [DQN](https://storage.googleapis.com/deepmind-media/dqn/DQNNaturePaper.pdf) (used in this tutorial)\n",
    "-   [REINFORCE](http://www-anw.cs.umass.edu/~barto/courses/cs687/williams92simple.pdf)\n",
    "-   [DDPG](https://arxiv.org/pdf/1509.02971.pdf)\n",
    "-   [TD3](https://arxiv.org/pdf/1802.09477.pdf)\n",
    "-   [PPO](https://arxiv.org/abs/1707.06347)\n",
    "-   [SAC](https://arxiv.org/abs/1801.01290).\n",
    "\n",
    "The DQN agent can be used in any environment which has a discrete action space.\n",
    "\n",
    "At the heart of a DQN Agent is a `QNetwork`, a neural network model that can learn to predict `QValues` (expected returns) for all actions, given an observation from the environment.\n",
    "\n",
    "Use `tf_agents.networks.q_network` to create a `QNetwork`, passing in the `observation_spec`, `action_spec`, and a tuple describing the number and size of the model's hidden layers.\n"
   ]
  },
  {
   "cell_type": "code",
   "execution_count": 15,
   "metadata": {
    "colab": {},
    "colab_type": "code",
    "id": "TgkdEPg_muzV"
   },
   "outputs": [],
   "source": [
    "fc_layer_params = (100,)\n",
    "\n",
    "q_net = q_network.QNetwork(\n",
    "    train_env.observation_spec(),\n",
    "    train_env.action_spec(),\n",
    "    fc_layer_params=fc_layer_params)"
   ]
  },
  {
   "cell_type": "markdown",
   "metadata": {
    "colab_type": "text",
    "id": "z62u55hSmviJ"
   },
   "source": [
    "Now use `tf_agents.agents.dqn.dqn_agent` to instantiate a `DqnAgent`. In addition to the `time_step_spec`, `action_spec` and the QNetwork, the agent constructor also requires an optimizer (in this case, `AdamOptimizer`), a loss function, and an integer step counter."
   ]
  },
  {
   "cell_type": "code",
   "execution_count": 16,
   "metadata": {
    "colab": {},
    "colab_type": "code",
    "id": "jbY4yrjTEyc9"
   },
   "outputs": [],
   "source": [
    "optimizer = tf.compat.v1.train.AdamOptimizer(learning_rate=learning_rate)\n",
    "\n",
    "train_step_counter = tf.Variable(0)\n",
    "\n",
    "agent = dqn_agent.DqnAgent(\n",
    "    train_env.time_step_spec(),\n",
    "    train_env.action_spec(),\n",
    "    q_network=q_net,\n",
    "    optimizer=optimizer,\n",
    "    td_errors_loss_fn=common.element_wise_squared_loss,\n",
    "    train_step_counter=train_step_counter)\n",
    "\n",
    "agent.initialize()"
   ]
  },
  {
   "cell_type": "markdown",
   "metadata": {
    "colab_type": "text",
    "id": "I0KLrEPwkn5x"
   },
   "source": [
    "## Policies\n",
    "\n",
    "A policy defines the way an agent acts in an environment. Typically, the goal of reinforcement learning is to train the underlying model until the policy produces the desired outcome.\n",
    "\n",
    "In this tutorial:\n",
    "\n",
    "-   The desired outcome is keeping the pole balanced upright over the cart.\n",
    "-   The policy returns an action (left or right) for each `time_step` observation.\n",
    "\n",
    "Agents contain two policies: \n",
    "\n",
    "-   `agent.policy` — The main policy that is used for evaluation and deployment.\n",
    "-   `agent.collect_policy` — A second policy that is used for data collection.\n"
   ]
  },
  {
   "cell_type": "code",
   "execution_count": 17,
   "metadata": {
    "colab": {},
    "colab_type": "code",
    "id": "BwY7StuMkuV4"
   },
   "outputs": [],
   "source": [
    "eval_policy = agent.policy\n",
    "collect_policy = agent.collect_policy"
   ]
  },
  {
   "cell_type": "markdown",
   "metadata": {
    "colab_type": "text",
    "id": "2Qs1Fl3dV0ae"
   },
   "source": [
    "Policies can be created independently of agents. For example, use `tf_agents.policies.random_tf_policy` to create a policy which will randomly select an action for each `time_step`."
   ]
  },
  {
   "cell_type": "code",
   "execution_count": 18,
   "metadata": {
    "colab": {},
    "colab_type": "code",
    "id": "HE37-UCIrE69"
   },
   "outputs": [],
   "source": [
    "random_policy = random_tf_policy.RandomTFPolicy(train_env.time_step_spec(),\n",
    "                                                train_env.action_spec())"
   ]
  },
  {
   "cell_type": "markdown",
   "metadata": {
    "colab_type": "text",
    "id": "dOlnlRRsUbxP"
   },
   "source": [
    "To get an action from a policy, call the `policy.action(time_step)` method. The `time_step` contains the observation from the environment. This method returns a `PolicyStep`, which is a named tuple with three components:\n",
    "\n",
    "-   `action` — the action to be taken (in this case, `0` or `1`)\n",
    "-   `state` — used for stateful (that is, RNN-based) policies\n",
    "-   `info` — auxiliary data, such as log probabilities of actions"
   ]
  },
  {
   "cell_type": "code",
   "execution_count": 19,
   "metadata": {
    "colab": {},
    "colab_type": "code",
    "id": "5gCcpXswVAxk"
   },
   "outputs": [],
   "source": [
    "example_environment = tf_py_environment.TFPyEnvironment(\n",
    "    suite_gym.load('CartPole-v0'))"
   ]
  },
  {
   "cell_type": "code",
   "execution_count": 20,
   "metadata": {
    "colab": {},
    "colab_type": "code",
    "id": "D4DHZtq3Ndis"
   },
   "outputs": [],
   "source": [
    "time_step = example_environment.reset()"
   ]
  },
  {
   "cell_type": "code",
   "execution_count": 21,
   "metadata": {
    "colab": {},
    "colab_type": "code",
    "id": "PRFqAUzpNaAW"
   },
   "outputs": [
    {
     "data": {
      "text/plain": [
       "PolicyStep(action=<tf.Tensor: shape=(1,), dtype=int64, numpy=array([1])>, state=(), info=())"
      ]
     },
     "execution_count": 21,
     "metadata": {},
     "output_type": "execute_result"
    }
   ],
   "source": [
    "random_policy.action(time_step)"
   ]
  },
  {
   "cell_type": "markdown",
   "metadata": {
    "colab_type": "text",
    "id": "94rCXQtbUbXv"
   },
   "source": [
    "## Metrics and Evaluation\n",
    "\n",
    "The most common metric used to evaluate a policy is the average return. The return is the sum of rewards obtained while running a policy in an environment for an episode. Several episodes are run, creating an average return.\n",
    "\n",
    "The following function computes the average return of a policy, given the policy, environment, and a number of episodes.\n"
   ]
  },
  {
   "cell_type": "code",
   "execution_count": 22,
   "metadata": {
    "colab": {},
    "colab_type": "code",
    "id": "bitzHo5_UbXy"
   },
   "outputs": [],
   "source": [
    "#@test {\"skip\": true}\n",
    "def compute_avg_return(environment, policy, num_episodes=10):\n",
    "\n",
    "  total_return = 0.0\n",
    "  for _ in range(num_episodes):\n",
    "\n",
    "    time_step = environment.reset()\n",
    "    episode_return = 0.0\n",
    "\n",
    "    while not time_step.is_last():\n",
    "      action_step = policy.action(time_step)\n",
    "      time_step = environment.step(action_step.action)\n",
    "      episode_return += time_step.reward\n",
    "    total_return += episode_return\n",
    "\n",
    "  avg_return = total_return / num_episodes\n",
    "  return avg_return.numpy()[0]\n",
    "\n",
    "\n",
    "# See also the metrics module for standard implementations of different metrics.\n",
    "# https://github.com/tensorflow/agents/tree/master/tf_agents/metrics"
   ]
  },
  {
   "cell_type": "markdown",
   "metadata": {
    "colab_type": "text",
    "id": "_snCVvq5Z8lJ"
   },
   "source": [
    "Running this computation on the `random_policy` shows a baseline performance in the environment."
   ]
  },
  {
   "cell_type": "code",
   "execution_count": 23,
   "metadata": {
    "colab": {},
    "colab_type": "code",
    "id": "9bgU6Q6BZ8Bp"
   },
   "outputs": [
    {
     "data": {
      "text/plain": [
       "28.0"
      ]
     },
     "execution_count": 23,
     "metadata": {},
     "output_type": "execute_result"
    }
   ],
   "source": [
    "compute_avg_return(eval_env, random_policy, num_eval_episodes)"
   ]
  },
  {
   "cell_type": "markdown",
   "metadata": {
    "colab_type": "text",
    "id": "NLva6g2jdWgr"
   },
   "source": [
    "## Replay Buffer\n",
    "\n",
    "The replay buffer keeps track of data collected from the environment. This tutorial uses `tf_agents.replay_buffers.tf_uniform_replay_buffer.TFUniformReplayBuffer`, as it is the most common. \n",
    "\n",
    "The constructor requires the specs for the data it will be collecting. This is available from the agent using the `collect_data_spec` method. The batch size and maximum buffer length are also required.\n"
   ]
  },
  {
   "cell_type": "code",
   "execution_count": 24,
   "metadata": {
    "colab": {},
    "colab_type": "code",
    "id": "vX2zGUWJGWAl"
   },
   "outputs": [],
   "source": [
    "replay_buffer = tf_uniform_replay_buffer.TFUniformReplayBuffer(\n",
    "    data_spec=agent.collect_data_spec,\n",
    "    batch_size=train_env.batch_size,\n",
    "    max_length=replay_buffer_max_length)"
   ]
  },
  {
   "cell_type": "markdown",
   "metadata": {
    "colab_type": "text",
    "id": "ZGNTDJpZs4NN"
   },
   "source": [
    "For most agents, `collect_data_spec` is a named tuple called `Trajectory`, containing the specs for observations, actions, rewards, and other items."
   ]
  },
  {
   "cell_type": "code",
   "execution_count": 25,
   "metadata": {
    "colab": {},
    "colab_type": "code",
    "id": "_IZ-3HcqgE1z"
   },
   "outputs": [
    {
     "data": {
      "text/plain": [
       "Trajectory(step_type=TensorSpec(shape=(), dtype=tf.int32, name='step_type'), observation=BoundedTensorSpec(shape=(4,), dtype=tf.float32, name='observation', minimum=array([-4.8000002e+00, -3.4028235e+38, -4.1887903e-01, -3.4028235e+38],\n",
       "      dtype=float32), maximum=array([4.8000002e+00, 3.4028235e+38, 4.1887903e-01, 3.4028235e+38],\n",
       "      dtype=float32)), action=BoundedTensorSpec(shape=(), dtype=tf.int64, name='action', minimum=array(0), maximum=array(1)), policy_info=(), next_step_type=TensorSpec(shape=(), dtype=tf.int32, name='step_type'), reward=TensorSpec(shape=(), dtype=tf.float32, name='reward'), discount=BoundedTensorSpec(shape=(), dtype=tf.float32, name='discount', minimum=array(0., dtype=float32), maximum=array(1., dtype=float32)))"
      ]
     },
     "execution_count": 25,
     "metadata": {},
     "output_type": "execute_result"
    }
   ],
   "source": [
    "agent.collect_data_spec"
   ]
  },
  {
   "cell_type": "code",
   "execution_count": 26,
   "metadata": {
    "colab": {},
    "colab_type": "code",
    "id": "sy6g1tGcfRlw"
   },
   "outputs": [
    {
     "data": {
      "text/plain": [
       "('step_type',\n",
       " 'observation',\n",
       " 'action',\n",
       " 'policy_info',\n",
       " 'next_step_type',\n",
       " 'reward',\n",
       " 'discount')"
      ]
     },
     "execution_count": 26,
     "metadata": {},
     "output_type": "execute_result"
    }
   ],
   "source": [
    "agent.collect_data_spec._fields"
   ]
  },
  {
   "cell_type": "markdown",
   "metadata": {
    "colab_type": "text",
    "id": "rVD5nQ9ZGo8_"
   },
   "source": [
    "## Data Collection\n",
    "\n",
    "Now execute the random policy in the environment for a few steps, recording the data in the replay buffer."
   ]
  },
  {
   "cell_type": "code",
   "execution_count": 27,
   "metadata": {
    "colab": {},
    "colab_type": "code",
    "id": "wr1KSAEGG4h9"
   },
   "outputs": [],
   "source": [
    "#@test {\"skip\": true}\n",
    "def collect_step(environment, policy, buffer):\n",
    "  time_step = environment.current_time_step()\n",
    "  action_step = policy.action(time_step)\n",
    "  next_time_step = environment.step(action_step.action)\n",
    "  traj = trajectory.from_transition(time_step, action_step, next_time_step)\n",
    "\n",
    "  # Add trajectory to the replay buffer\n",
    "  buffer.add_batch(traj)\n",
    "\n",
    "def collect_data(env, policy, buffer, steps):\n",
    "  for _ in range(steps):\n",
    "    collect_step(env, policy, buffer)\n",
    "\n",
    "collect_data(train_env, random_policy, replay_buffer, steps=100)\n",
    "\n",
    "# This loop is so common in RL, that we provide standard implementations. \n",
    "# For more details see the drivers module.\n",
    "# https://www.tensorflow.org/agents/api_docs/python/tf_agents/drivers"
   ]
  },
  {
   "cell_type": "markdown",
   "metadata": {
    "colab_type": "text",
    "id": "84z5pQJdoKxo"
   },
   "source": [
    "The replay buffer is now a collection of Trajectories."
   ]
  },
  {
   "cell_type": "code",
   "execution_count": 28,
   "metadata": {
    "colab": {},
    "colab_type": "code",
    "id": "4wZnLu2ViO4E"
   },
   "outputs": [],
   "source": [
    "# For the curious:\n",
    "# Uncomment to peel one of these off and inspect it.\n",
    "# iter(replay_buffer.as_dataset()).next()"
   ]
  },
  {
   "cell_type": "markdown",
   "metadata": {
    "colab_type": "text",
    "id": "TujU-PMUsKjS"
   },
   "source": [
    "The agent needs access to the replay buffer. This is provided by creating an iterable `tf.data.Dataset` pipeline which will feed data to the agent.\n",
    "\n",
    "Each row of the replay buffer only stores a single observation step. But since the DQN Agent needs both the current and next observation to compute the loss, the dataset pipeline will sample two adjacent rows for each item in the batch (`num_steps=2`).\n",
    "\n",
    "This dataset is also optimized by running parallel calls and prefetching data."
   ]
  },
  {
   "cell_type": "code",
   "execution_count": 29,
   "metadata": {
    "colab": {},
    "colab_type": "code",
    "id": "ba7bilizt_qW"
   },
   "outputs": [
    {
     "data": {
      "text/plain": [
       "<PrefetchDataset shapes: (Trajectory(step_type=(64, 2), observation=(64, 2, 4), action=(64, 2), policy_info=(), next_step_type=(64, 2), reward=(64, 2), discount=(64, 2)), BufferInfo(ids=(64, 2), probabilities=(64,))), types: (Trajectory(step_type=tf.int32, observation=tf.float32, action=tf.int64, policy_info=(), next_step_type=tf.int32, reward=tf.float32, discount=tf.float32), BufferInfo(ids=tf.int64, probabilities=tf.float32))>"
      ]
     },
     "execution_count": 29,
     "metadata": {},
     "output_type": "execute_result"
    }
   ],
   "source": [
    "# Dataset generates trajectories with shape [Bx2x...]\n",
    "dataset = replay_buffer.as_dataset(\n",
    "    num_parallel_calls=3, \n",
    "    sample_batch_size=batch_size, \n",
    "    num_steps=2).prefetch(3)\n",
    "\n",
    "\n",
    "dataset"
   ]
  },
  {
   "cell_type": "code",
   "execution_count": 30,
   "metadata": {
    "colab": {},
    "colab_type": "code",
    "id": "K13AST-2ppOq"
   },
   "outputs": [
    {
     "name": "stdout",
     "output_type": "stream",
     "text": [
      "<tensorflow.python.data.ops.iterator_ops.OwnedIterator object at 0x7fd4f79a1a90>\n"
     ]
    }
   ],
   "source": [
    "iterator = iter(dataset)\n",
    "\n",
    "print(iterator)\n"
   ]
  },
  {
   "cell_type": "code",
   "execution_count": 31,
   "metadata": {
    "colab": {},
    "colab_type": "code",
    "id": "Th5w5Sff0b16",
    "scrolled": false
   },
   "outputs": [],
   "source": [
    "# For the curious:\n",
    "# Uncomment to see what the dataset iterator is feeding to the agent.\n",
    "# Compare this representation of replay data \n",
    "# to the collection of individual trajectories shown earlier.\n",
    "\n",
    "# iterator.next()"
   ]
  },
  {
   "cell_type": "markdown",
   "metadata": {
    "colab_type": "text",
    "id": "hBc9lj9VWWtZ"
   },
   "source": [
    "## Training the agent\n",
    "\n",
    "Two things must happen during the training loop:\n",
    "\n",
    "-   collect data from the environment\n",
    "-   use that data to train the agent's neural network(s)\n",
    "\n",
    "This example also periodicially evaluates the policy and prints the current score.\n",
    "\n",
    "The following will take ~5 minutes to run."
   ]
  },
  {
   "cell_type": "code",
   "execution_count": 32,
   "metadata": {
    "colab": {},
    "colab_type": "code",
    "id": "0pTbJ3PeyF-u",
    "scrolled": false
   },
   "outputs": [
    {
     "name": "stdout",
     "output_type": "stream",
     "text": [
      "step = 200: loss = 18.183427810668945\n",
      "step = 400: loss = 20.10113525390625\n",
      "step = 600: loss = 95.78701782226562\n",
      "step = 800: loss = 55.727561950683594\n",
      "step = 1000: loss = 106.12870788574219\n",
      "step = 1000: Average Return = 126.4000015258789\n",
      "step = 1200: loss = 21.84334945678711\n",
      "step = 1400: loss = 410.84210205078125\n",
      "step = 1600: loss = 249.17379760742188\n",
      "step = 1800: loss = 41.19257354736328\n",
      "step = 2000: loss = 389.9768981933594\n",
      "step = 2000: Average Return = 26.799999237060547\n",
      "step = 2200: loss = 446.0262451171875\n",
      "step = 2400: loss = 946.8724365234375\n",
      "step = 2600: loss = 877.8399658203125\n",
      "step = 2800: loss = 644.7998657226562\n",
      "step = 3000: loss = 706.1531372070312\n",
      "step = 3000: Average Return = 49.20000076293945\n",
      "step = 3200: loss = 12.525507926940918\n",
      "step = 3400: loss = 464.4059143066406\n",
      "step = 3600: loss = 5.357381820678711\n",
      "step = 3800: loss = 615.3232421875\n",
      "step = 4000: loss = 325.0400390625\n",
      "step = 4000: Average Return = 29.5\n",
      "step = 4200: loss = 146.25579833984375\n",
      "step = 4400: loss = 286.7802429199219\n",
      "step = 4600: loss = 126.28768920898438\n",
      "step = 4800: loss = 175.79248046875\n",
      "step = 5000: loss = 174.11795043945312\n",
      "step = 5000: Average Return = 17.600000381469727\n",
      "step = 5200: loss = 222.55335998535156\n",
      "step = 5400: loss = 98.5748519897461\n",
      "step = 5600: loss = 177.05555725097656\n",
      "step = 5800: loss = 28.778980255126953\n",
      "step = 6000: loss = 140.2001495361328\n",
      "step = 6000: Average Return = 18.399999618530273\n",
      "step = 6200: loss = 98.08135223388672\n",
      "step = 6400: loss = 98.18594360351562\n",
      "step = 6600: loss = 24.022510528564453\n",
      "step = 6800: loss = 3.8533403873443604\n",
      "step = 7000: loss = 6.503523349761963\n",
      "step = 7000: Average Return = 35.29999923706055\n",
      "step = 7200: loss = 132.22836303710938\n",
      "step = 7400: loss = 123.63225555419922\n",
      "step = 7600: loss = 71.7424087524414\n",
      "step = 7800: loss = 83.66638946533203\n",
      "step = 8000: loss = 6.60921573638916\n",
      "step = 8000: Average Return = 76.30000305175781\n",
      "step = 8200: loss = 244.34930419921875\n",
      "step = 8400: loss = 3.4773659706115723\n",
      "step = 8600: loss = 136.18234252929688\n",
      "step = 8800: loss = 218.9739990234375\n",
      "step = 9000: loss = 119.47635650634766\n",
      "step = 9000: Average Return = 48.5\n",
      "step = 9200: loss = 194.90443420410156\n",
      "step = 9400: loss = 29.365257263183594\n",
      "step = 9600: loss = 3.884232997894287\n",
      "step = 9800: loss = 89.59723663330078\n",
      "step = 10000: loss = 26.171966552734375\n",
      "step = 10000: Average Return = 85.4000015258789\n",
      "step = 10200: loss = 107.04849243164062\n",
      "step = 10400: loss = 8.32650375366211\n",
      "step = 10600: loss = 247.27761840820312\n",
      "step = 10800: loss = 194.06793212890625\n",
      "step = 11000: loss = 45.450103759765625\n",
      "step = 11000: Average Return = 163.5\n",
      "step = 11200: loss = 4.701201915740967\n",
      "step = 11400: loss = 128.53189086914062\n",
      "step = 11600: loss = 48.04289627075195\n",
      "step = 11800: loss = 177.64175415039062\n",
      "step = 12000: loss = 45.786128997802734\n",
      "step = 12000: Average Return = 138.39999389648438\n",
      "step = 12200: loss = 62.88506317138672\n",
      "step = 12400: loss = 76.51814270019531\n",
      "step = 12600: loss = 3.713501453399658\n",
      "step = 12800: loss = 54.92411422729492\n",
      "step = 13000: loss = 187.16436767578125\n",
      "step = 13000: Average Return = 195.0\n",
      "step = 13200: loss = 148.01995849609375\n",
      "step = 13400: loss = 291.87396240234375\n",
      "step = 13600: loss = 61.578853607177734\n",
      "step = 13800: loss = 212.89926147460938\n",
      "step = 14000: loss = 85.92649841308594\n",
      "step = 14000: Average Return = 200.0\n",
      "step = 14200: loss = 319.5147705078125\n",
      "step = 14400: loss = 171.0979766845703\n",
      "step = 14600: loss = 54.616607666015625\n",
      "step = 14800: loss = 8.96856689453125\n",
      "step = 15000: loss = 91.31310272216797\n",
      "step = 15000: Average Return = 200.0\n",
      "step = 15200: loss = 9.51455020904541\n",
      "step = 15400: loss = 286.4034423828125\n",
      "step = 15600: loss = 94.08842468261719\n",
      "step = 15800: loss = 198.6222686767578\n",
      "step = 16000: loss = 395.42022705078125\n",
      "step = 16000: Average Return = 200.0\n",
      "step = 16200: loss = 285.5784912109375\n",
      "step = 16400: loss = 244.85049438476562\n",
      "step = 16600: loss = 254.67269897460938\n",
      "step = 16800: loss = 438.180908203125\n",
      "step = 17000: loss = 453.2527160644531\n",
      "step = 17000: Average Return = 200.0\n",
      "step = 17200: loss = 191.84231567382812\n",
      "step = 17400: loss = 77.85311889648438\n",
      "step = 17600: loss = 513.2380981445312\n",
      "step = 17800: loss = 30.15374755859375\n",
      "step = 18000: loss = 13.610605239868164\n",
      "step = 18000: Average Return = 200.0\n",
      "step = 18200: loss = 480.4320373535156\n",
      "step = 18400: loss = 9.770709991455078\n",
      "step = 18600: loss = 16.873302459716797\n",
      "step = 18800: loss = 151.6520233154297\n",
      "step = 19000: loss = 735.40771484375\n",
      "step = 19000: Average Return = 200.0\n",
      "step = 19200: loss = 784.4175415039062\n",
      "step = 19400: loss = 708.6592407226562\n",
      "step = 19600: loss = 549.6768188476562\n",
      "step = 19800: loss = 185.04518127441406\n",
      "step = 20000: loss = 8.733135223388672\n",
      "step = 20000: Average Return = 200.0\n",
      "CPU times: user 2min 10s, sys: 6.87 s, total: 2min 17s\n",
      "Wall time: 1min 39s\n"
     ]
    }
   ],
   "source": [
    "%%time\n",
    "#@test {\"skip\": true}\n",
    "try:\n",
    "  %%time\n",
    "except:\n",
    "  pass\n",
    "\n",
    "# (Optional) Optimize by wrapping some of the code in a graph using TF function.\n",
    "agent.train = common.function(agent.train)\n",
    "\n",
    "# Reset the train step\n",
    "agent.train_step_counter.assign(0)\n",
    "\n",
    "# Evaluate the agent's policy once before training.\n",
    "avg_return = compute_avg_return(eval_env, agent.policy, num_eval_episodes)\n",
    "returns = [avg_return]\n",
    "\n",
    "for _ in range(num_iterations):\n",
    "\n",
    "  # Collect a few steps using collect_policy and save to the replay buffer.\n",
    "  for _ in range(collect_steps_per_iteration):\n",
    "    collect_step(train_env, agent.collect_policy, replay_buffer)\n",
    "\n",
    "  # Sample a batch of data from the buffer and update the agent's network.\n",
    "  experience, unused_info = next(iterator)\n",
    "  train_loss = agent.train(experience).loss\n",
    "\n",
    "  step = agent.train_step_counter.numpy()\n",
    "\n",
    "  if step % log_interval == 0:\n",
    "    print('step = {0}: loss = {1}'.format(step, train_loss))\n",
    "\n",
    "  if step % eval_interval == 0:\n",
    "    avg_return = compute_avg_return(eval_env, agent.policy, num_eval_episodes)\n",
    "    print('step = {0}: Average Return = {1}'.format(step, avg_return))\n",
    "    returns.append(avg_return)"
   ]
  },
  {
   "cell_type": "markdown",
   "metadata": {
    "colab_type": "text",
    "id": "68jNcA_TiJDq"
   },
   "source": [
    "## Visualization\n"
   ]
  },
  {
   "cell_type": "markdown",
   "metadata": {
    "colab_type": "text",
    "id": "aO-LWCdbbOIC"
   },
   "source": [
    "### Plots\n",
    "\n",
    "Use `matplotlib.pyplot` to chart how the policy improved during training.\n",
    "\n",
    "One iteration of `Cartpole-v0` consists of 200 time steps. The environment gives a reward of `+1` for each step the pole stays up, so the maximum return for one episode is 200. The charts shows the return increasing towards that maximum each time it is evaluated during training. (It may be a little unstable and not increase monotonically each time.)"
   ]
  },
  {
   "cell_type": "code",
   "execution_count": 33,
   "metadata": {
    "colab": {},
    "colab_type": "code",
    "id": "NxtL1mbOYCVO"
   },
   "outputs": [
    {
     "data": {
      "text/plain": [
       "(1.0250000000000004, 250.0)"
      ]
     },
     "execution_count": 33,
     "metadata": {},
     "output_type": "execute_result"
    },
    {
     "data": {
      "image/png": "[encoded data removed]",
      "text/plain": [
       "<Figure size 432x288 with 1 Axes>"
      ]
     },
     "metadata": {
      "needs_background": "light"
     },
     "output_type": "display_data"
    }
   ],
   "source": [
    "#@test {\"skip\": true}\n",
    "\n",
    "iterations = range(0, num_iterations + 1, eval_interval)\n",
    "plt.plot(iterations, returns)\n",
    "plt.ylabel('Average Return')\n",
    "plt.xlabel('Iterations')\n",
    "plt.ylim(top=250)"
   ]
  },
  {
   "cell_type": "markdown",
   "metadata": {
    "colab_type": "text",
    "id": "M7-XpPP99Cy7"
   },
   "source": [
    "### Videos"
   ]
  },
  {
   "cell_type": "markdown",
   "metadata": {
    "colab_type": "text",
    "id": "9pGfGxSH32gn"
   },
   "source": [
    "Charts are nice. But more exciting is seeing an agent actually performing a task in an environment. \n",
    "\n",
    "First, create a function to embed videos in the notebook."
   ]
  },
  {
   "cell_type": "code",
   "execution_count": 34,
   "metadata": {
    "colab": {},
    "colab_type": "code",
    "id": "ULaGr8pvOKbl"
   },
   "outputs": [],
   "source": [
    "def embed_mp4(filename):\n",
    "  \"\"\"Embeds an mp4 file in the notebook.\"\"\"\n",
    "  video = open(filename,'rb').read()\n",
    "  b64 = base64.b64encode(video)\n",
    "  tag = '''\n",
    "  <video width=\"640\" height=\"480\" controls>\n",
    "    <source src=\"data:video/mp4;base64,{0}\" type=\"video/mp4\">\n",
    "  Your browser does not support the video tag.\n",
    "  </video>'''.format(b64.decode())\n",
    "\n",
    "  return IPython.display.HTML(tag)"
   ]
  },
  {
   "cell_type": "markdown",
   "metadata": {
    "colab_type": "text",
    "id": "9c_PH-pX4Pr5"
   },
   "source": [
    "Now iterate through a few episodes of the Cartpole game with the agent. The underlying Python environment (the one \"inside\" the TensorFlow environment wrapper) provides a `render()` method, which outputs an image of the environment state. These can be collected into a video."
   ]
  },
  {
   "cell_type": "code",
   "execution_count": 35,
   "metadata": {
    "colab": {},
    "colab_type": "code",
    "id": "owOVWB158NlF"
   },
   "outputs": [
    {
     "name": "stderr",
     "output_type": "stream",
     "text": [
      "WARNING:root:IMAGEIO FFMPEG_WRITER WARNING: input image is not divisible by macro_block_size=16, resizing from (400, 600) to (400, 608) to ensure video compatibility with most codecs and players. To prevent resizing, make your input image divisible by the macro_block_size or set the macro_block_size to None (risking incompatibility). You may also see a FFMPEG warning concerning speedloss due to data not being aligned.\n"
     ]
    },
    {
     "data": {
      "text/html": [
       "\n",
       "  <video width=\"640\" height=\"480\" controls>\n",
       "    <source src=\"data:video/mp4;base64,AAAAIGZ0eXBpc29tAAACAGlzb21pc28yYXZjMW1wNDEAAAAIZnJlZQAAxtZtZGF0AAACrwYF//+r3EXpvebZSLeWLNgg2SPu73gyNjQgLSBjb3JlIDE1MiByMjg1NCBlOWE1OTAzIC0gSC4yNjQvTVBFRy00IEFWQyBjb2RlYyAtIENvcHlsZWZ0IDIwMDMtMjAxNyAtIGh0dHA6Ly93d3cudmlkZW9sYW4ub3JnL3gyNjQuaHRtbCAtIG9wdGlvbnM6IGNhYmFjPTEgcmVmPTMgZGVibG9jaz0xOjA6MCBhbmFseXNlPTB4MzoweDExMyBtZT1oZXggc3VibWU9NyBwc3k9MSBwc3lfcmQ9MS4wMDowLjAwIG1peGVkX3JlZj0xIG1lX3JhbmdlPTE2IGNocm9tYV9tZT0xIHRyZWxsaXM9MSA4eDhkY3Q9MSBjcW09MCBkZWFkem9uZT0yMSwxMSBmYXN0X3Bza2lwPTEgY2hyb21hX3FwX29mZnNldD0tMiB0aHJlYWRzPTEyIGxvb2thaGVhZF90aHJlYWRzPTIgc2xpY2VkX3RocmVhZHM9MCBucj0wIGRlY2ltYXRlPTEgaW50ZXJsYWNlZD0wIGJsdXJheV9jb21wYXQ9MCBjb25zdHJhaW5lZF9pbnRyYT0wIGJmcmFtZXM9MyBiX3B5cmFtaWQ9MiBiX2FkYXB0PTEgYl9iaWFzPTAgZGlyZWN0PTEgd2VpZ2h0Yj0xIG9wZW5fZ29wPTAgd2VpZ2h0cD0yIGtleWludD0yNTAga2V5aW50X21pbj0yNSBzY2VuZWN1dD00MCBpbnRyYV9yZWZyZXNoPTAgcmNfbG9va2FoZWFkPTQwIHJjPWNyZiBtYnRyZWU9MSBjcmY9MjUuMCBxY29tcD0wLjYwIHFwbWluPTAgcXBtYXg9NjkgcXBzdGVwPTQgaXBfcmF0aW89MS40MCBhcT0xOjEuMDAAgAAAAdJliIQAK//+9Sf4FNQS/Evha2Ht1LdJMNFwsS2z0Abx6AAAAwAAH/kylHR01q7xQAAAQwAOAH0GUHmImKsVeIzvH+2AyvwE+ivfkB6rS//V4UTAPuseIwZc+ndgcwMawVlEObZU+LqdV5nUtq7VT+AVLj5MBX4orQRjnKwsb/E40ZzAYNNzetHFwZC/Nyfa8Lsg9WJrOHJoktm2nd06IkhWcwQoQ1ZB6ZY1keiowP9qac+nAHg+SvnGbFuPkV2t/8bl13DGa4AeLvuuCXvHE+Koe6NJrYZ/CqxCrZDNhORUn7BaDhwuJ4APUp5QGq5tAsc6gI/j5Z5fDex+t+z1kb2PLI0Ysr6/w2MV96QXvdT0cA8u/7U2KH3bUWWehoUhl10MHRPZWEc4nmPY+uiUx1GNNF1FiApI9y9I3RTurHqgM+zEZD4yd4kI7dCaFcoBggomhq9xwYGphhi48dmuPv9m0vhLsPpz5hoT3hgpqjcXiOxaN0JqchZmBsf/k0CmdUNVQgX3JX+FO5AAsHFO2uhd2ozC51vet8BCOE2S7KQn2LhApchpt9FT9bskvl7O+AV57b9NXcUhi9SLk7XIni/i8R7UWmpiRxngEeAAAAMAAAlJAAAArUGaJGxDf/6MsAAAGo39bGyKaCve0DspQBNhOeaPLxWci+idO17/9tFgkC5MnIstLnsuqejXyKLKb1P6TQAWCyl7KrsfBpM7ZnfHWpwy259JhiuMwEvjTMmNjvRAjLxC+nZN4cW3Y+nJsiL3B0UAJENTA5sTm3MHN1ODEqPmoJWYEAGmm1aJgWgqMSOvyi53weCyKhaMHmrVCP7gAAAFIzLrpSUqmjKhdun4keWYAAAALEGeQniFfwAACG2ltEu5IR+sz+Xps0XQfRt9dvwweDrOpwAAAwAqieyxCA1ZAAAAMAGeYXRCfwAADYTwSYAFoVp+lgKmweC31U8TSxdWX3cKpdXS7xJAAAADAAVxAaoCygAAACABnmNqQn8AAA2FhZfnSuN1CjRp4+p0XR7r17Bc0AEMqQAAAEJBmmhJqEFomUwIb//+jLAAAEX60rBJA0x9rw8Nlq1ItbBDiOrjZuW9z31ystAD/j0YmnMx8GdM7FXGEt6Vsy3l5YEAAAAwQZ6GRREsK/8AABa8Q839tlqyPlnmaAG66kmvfPcFiuginSqqcbS5syp1+q4MAPmBAAAAHAGepXRCfwAADX9G90IPsumOW8yjHgLoC/i78k8AAAAfAZ6nakJ/AAAjvwQnYud+ignNH6VtNkQy0QTo7OIccAAAAHVBmqxJqEFsmUwIb//+jLAAAEYQ/CZdO3Mmp/ABzebmzUPmDw9C5gbKyxydeSombv0HhuJ9hZD8a/xPk3V9WPYJj2aytsjEVg/C8+Q5+Hcz6GSBfC8HwFVZ8NKhvYHJSxw8Ba4cTxn+n6VW7t9O33sPatmXdTgAAAAlQZ7KRRUsK/8AABa5M2lLEKYDnLnpBTyquFc42Zh6+edPLQGMZQAAAB0Bnul0Qn8AACOr+GeGWsX7Z3ujtMJh5P/b1nt6BgAAABgBnutqQn8AACO/BCvBGdQixYPq3YrIWUAAAAAjQZrwSahBbJlMCG///oywAAAahz7AUJ+dTjh4eVMJvTKPB4EAAAAbQZ8ORRUsK/8AABbAmz/LF33yf0Ex0A9GDw7pAAAAFwGfLXRCfwAAI8MXdVM2nZ1Rp1XMmKJXAAAAGAGfL2pCfwAAI78EK8EZ1CLFg+rdishZQAAAABxBmzRJqEFsmUwIb//+jLAAAAMABEEcF0DUDdvwAAAAG0GfUkUVLCv/AAAWwJs/yxd98n9BMdPi+CiVgQAAABcBn3F0Qn8AACPDF3VTNp2dUadVzJiiVgAAABUBn3NqQn8AACO/BCvBGdQixYEF7oAAAAAdQZt4SahBbJlMCG///oywAAADADKOqCAKY4J4MWEAAAAwQZ+WRRUsK/8AAAMALDM2pngCF0SkAxi8aOgebw/lJg6XqqpkGlPWqIKi+z6MwSbMAAAAGQGftXRCfwAAAwBFhi7RU55Mffyv/269BNkAAAAdAZ+3akJ/AAADAEWEQISB6niRN2rsCkC21QZCHBcAAAB0QZu8SahBbJlMCG///oywAABGDl3EAjBekfR2TJ5Klu2pqSUvXLs02a3CRywPbkNUY4ntH8t+rp7l0xG7irnfBpREjoga2lbjy0vzkU84nKZ1Alde/2IaV1CLqnOKM7hmzBBgfFh054RQP70kEGjwSs3ZZ4gAAAAgQZ/aRRUsK/8AABa1K0Miu2jQ7psNN0+eFJKA9eFH6oEAAAAUAZ/5dEJ/AAAjwxd1UzadnVGQL3QAAAAYAZ/7akJ/AAADAAo+eQyKxLSopk1Kbg6pAAAAKkGb/0moQWyZTAhv//6MsAAAAwAUD7Q+WMCcTMl0dAAKhrO88VYv0WkOwQAAACdBnh1FFSwr/wAAAwAGcmgfYXpqic5aA/CNTwAQfFUcXUaeHowWh8wAAAAXAZ4+akJ/AAADAAo6m+mO03UeMmia8+AAAAAjQZojSahBbJlMCG///oywAABECNZwBQDCjwjQSxtgMvoACpkAAABAQZ5BRRUsK/8AABa5OOyqQAcWUS5Wi3XFdM2Xixnt9CHsOeZedqE0DdE3URkWVOF44UIq9GBljL0/IH/lE8XegAAAABoBnmB0Qn8AACOrcQkW0nKZOira7W6Y9QA+LQAAABgBnmJqQn8AACOx/yBpOUEnN79YrPr9mzAAAAAYQZpnSahBbJlMCG///oywAABEFMpTwAEfAAAALUGehUUVLCv/AAAWwJs/y0JuIAAunhpp+7E+tY5Ao0qs1CkuVnJCWDzi/HBtmQAAABkBnqR0Qn8AACOr+GeGWtvasIZclPPMy6tvAAAAGAGepmpCfwAAI7HMKrJVJjboKtz/S6eICQAAAB5BmqtJqEFsmUwIb//+jLAAABnnPsApTbqE9JngAYEAAAAwQZ7JRRUsK/8AABbAlRdO7CmC2EwgCHrKRIo/46qzVn+BGoWQvux+nszCLgADptmAAAAAHQGe6HRCfwAAI6v4Z4ZWpW25sdq1/YLqn2eZoFsxAAAAGAGe6mpCfwAAI7HMKrJVJjboKtz/S6eICAAAACdBmu9JqEFsmUwIb//+jLAAAAMAhBLTkCopXSMwGZ4d3izfXyHgScAAAAAoQZ8NRRUsK/8AABazRy2+1PLgAIpu77wANrEBbCantKqJkAgxivnz4QAAABQBnyx0Qn8AACOr+Ft6yUDr0BzCHwAAABEBny5qQn8AACOxzAlwV4ARsQAAABdBmzNJqEFsmUwIb//+jLAAAAMAAAMDQgAAAEZBn1FFFSwr/wAAFrk4viuqAIkHEfTKHitNBmo9uURP9Z+wAMpDh8N63neP5TFwp7JgVnXOgcO77z3eJ8pr8IcRs+Al5a24AAAALQGfcHRCfwAAI6v3+XT4uoMfkAEVP0vqN5cb+9lIRGRHYoIkxMTCurwU/z658QAAAB0Bn3JqQn8AACOxy1hp8S7JuTnoamCZCtueWJPcqAAAAEJBm3dJqEFsmUwIb//+jLAAAEYRvhu56ANqs8H5gnZTpO6pGtuzMRFwQj5FmgJw/LJSFIssWDDtwlWkcy2ykCQesl4AAAAqQZ+VRRUsK/8AABa1RAeMPHaHjOloUFLoWWeuA1zp1wSy+t28+OfuZjehAAAAHwGftHRCfwAAI6v4Z6zCIcK3Hq0MEoJ/cLgrh4q8OYIAAAAaAZ+2akJ/AAAisjE/EwkJS+Q31qvf7zYMwykAAAAXQZu7SahBbJlMCG///oywAAADAAADA0MAAAAtQZ/ZRRUsK/8AABa+d9hLl5eIWtRwBW+pJeDB6LZ4QZyOXjtpBMg1adDTgq5QAAAAFAGf+HRCfwAAI6v4W3gi0yEZpgwZAAAAEwGf+mpCfwAAI7HMCXBXqCJkgYMAAABGQZv/SahBbJlMCG///oywAABEDmBT4AUAwoS+kBhGhoRLbAn6XwhlmAATciyjMVsEKZDCxnUyR7fc561sa7YDUt4z0vikgQAAAEZBnh1FFSwr/wAAFhfNB3RgFVQABxu2lIDa++YLWd7+tB1SHRC4ecHydhKtleDIYQ0/wOOeLl2L8BC6zWW/pqFPYcbUZrbhAAAAHwGePHRCfwAAIqv4Z/fY9Z+51/NdjUWmDFCg1D4zHJAAAAAgAZ4+akJ/AAAisjJB0qC1I3YGnal2MCuDLa2ksWf6skwAAABnQZojSahBbJlMCG///oywAAADA7/8saCqwgHSJbvXGCCd6ks8oHLQMK901Q0AmF89ozSzdIzKYUonn4le4NTEb+7/7L42/jtw24/bi7hLK1IoOqqUWo9isTnK2C+pMkpSLrRIe9G60QAAAEtBnkFFFSwr/wAAFrNejSwqB1QBEbOC/U1S1dyKDsUmmTicWUwxkZj7Ub82U0ZMc33+lOja/gGvZhBwCnXfHHc7iHDM7olJ4WjaN6AAAAAbAZ5gdEJ/AAAjq98o0DoQXqXFivGbaDcjwGpBAAAALAGeYmpCfwAAI7HMCW+peFeLCpUIoYALZdSiZTQR3NPQhiASrk9tvMla6PgwAAAAOEGaZ0moQWyZTAhn//44QAAADjamKhaELqEKdMFF155G1k78pq+06mY8c9K22KU1Y72iMd4+IBFxAAAALUGehUUVLCv/AAAWwJaN5gG/d7907bOBvSgvcoQHEbjcycDtvqlylGXeRoJLaQAAAB4BnqR0Qn8AACOr+Ft4E+acuLDS0te7K+C/3mqUqMEAAAAhAZ6makJ/AAAjscwJb6l479KWyLh+CqE2na4AFPp9I8O3AAAAM0Gaq0moQWyZTAhX//3hAAADAJd008AgceOPzaN+kc1CjYeUzomj15vw99VZAUHHX6AfMAAAADRBnslFFSwr/wAAFsCWjf3Av3fD7MGJgAj3bX/p95eQXD5W9MIPPHsrGrucYQAhBVUDVjegAAAAIAGe6HRCfwAAI6v4W3gTy5LVt6RHxZqwVAfDpaYwkbCtAAAAJgGe6mpCfwAAI7GSgnUIx+qO4BhDwn7TjVXaiWWQARqaP/PN4xvQAAAALUGa70moQWyZTAhX//3hAAADAJaOFMXGn5EIVDvkL4S9uAAzANzfuXPl9uYt6AAAAB1Bnw1FFSwr/wAAFhfNC8O7+bxqr+AhAb/qJaGuJwAAABEBnyx0Qn8AACKsPFCO3b/OwQAAABMBny5qQn8AACKyNPnYNhH0IvE5AAAAfkGbM0moQWyZTAhv//6MsAAARgMXb0E030ADjGFCXX2rMKALtVBbGs1MOCbD4KvUhgg0wHIhUTi7PjFZX16t3Tkz62mMltcE2G2HTAPTcCTTp+RqcoPRd73Yan3lFFBk+AB5at9FjJ72nRBEJHLtSi2xjBG01aBgra1isFJ7IAAAACZBn1FFFSwr/wAAFrUTi9yBiKKLi9r5v1dI7pUNUtmcPccHKhkswAAAAB8Bn3B0Qn8AACOr+Ft4Ep2JpSBwKHPu74hsA7cDhSAXAAAAEwGfcmpCfwAAIrIyReUWUJlxeJwAAABGQZt2SahBbJlMCG///oywAABGFMCGaDSJgAuo2kURLctsKJxzY5J4Pj7AJdg5j2GkgPte38sI6/jLiNnf19TGxE8qBgv8+AAAADBBn5RFFSwr/wAAFrxHFf7JQt45IIJLQABZ2ojeJHRkQpfxQ+ByegcboLWJeYld20EAAAAhAZ+1akJ/AAAjvwQnEtBhCIzDnxkSF5wrgMgNQ4xmlIZcAAAAIUGbukmoQWyZTAhv//6MsAAARCXh+B7uvOzelIfchQAWcQAAABlBn9hFFSwr/wAAFiVfIM4xyLqR5uOAQCXhAAAAFQGf93RCfwAAIsNG+OFb5ZPcyOAF3AAAABQBn/lqQn8AAA2ElS0MkjOF6kAXsQAAAGJBm/5JqEFsmUwIb//+jLAAAEYDF2+jbsB6AEXr09j+ObSQMsLTPZc3Hh097DFx4zTZmC/TyFadYx8cDyYAEK0Ogic1eNLgsa/8N/xzElOIcPfRNA/ynjWH6J6ilQtJWyheeAAAADBBnhxFFSwr/wAAFrUTot7R0dzQCU4UdoSqZKAG66kmjb+9trCRtblmGUvC2iVmkmEAAAAdAZ47dEJ/AAAjwxdqNxYTEw91k9hhyIaemQcpCPkAAAAdAZ49akJ/AAAisjJGmk5n+vJMM1Ih5PLBtRq3TMAAAABAQZoiSahBbJlMCG///oywAABGFMCGa9aAklgBatJHY11aDqlroL1+fDCFxCot1CTzLedTSuWdhDQA4tTv3u+XCwAAADZBnkBFFSwr/wAAFrxDzbcXcSxLTLz3aeW4lfu8kyQALhmmHyL36cy9OZcOH9/gpO38hi9N3KkAAAAXAZ5/dEJ/AAADAeavjyqaVT1PvCC0mDgAAAAcAZ5hakJ/AAAjvwQnEtAnZ+lgideGu83DKbmxQQAAAE1BmmZJqEFsmUwIb//+jLAAAEYRrBDk6kD4Gdeipz8C6DWVaQ2r8ge2iEls9ETINkpeomhfgTT2gdQlYKmQC2W4f0xBDWQ8patkI6xYsAAAACRBnoRFFSwr/wAAFrUrN2q6eO1xcihh0KjugUQJpbwUGPnpfxcAAAAYAZ6jdEJ/AAAjwxdfLp+ZnXqFMIQ/bk3BAAAAGwGepWpCfwAADOSeShBquIyR2QCkc99AWbfQQQAAAEBBmqpJqEFsmUwIb//+jLAAAEYUwIZpZZ0AHB4SOwdSlNRTPcjHp8CcYHcrYHy3Y6M4Nq35KmfgURaLEMyF2l8xAAAAMUGeyEUVLCv/AAAWs0gIyqAIjZwL/dxTNEbknJYciYPedBggLQUOycLRftTuwAlrfuAAAAAcAZ7ndEJ/AAAjw0AQENEpY0GZKIHGG/uH0MHgYAAAABQBnulqQn8AACO/BCfuCC0w0em44QAAADxBmu5JqEFsmUwIb//+jLAAAEYUwIZn4zEFCk7XHABOJgHx+n8BLRYEW1aW5x52anZZdrqsvRYya2jkPVAAAAAiQZ8MRRUsK/8AABbAmz9OKeT3tgU1proTKhMqy6QpmwXswAAAABYBnyt0Qn8AACPDF2oQ11515YymAvCdAAAAGwGfLWpCfwAAI78EK8hOg/kfyLa63dWRvxoltQAAADdBmzJJqEFsmUwIb//+jLAAAEYPK5ASOKX+27BhlnJdOgX+VPj9EC0gpZ6kPPSctPwPB1YbWmWZAAAAIEGfUEUVLCv/AAAWwJXr7OocpNWUyWytL52PGvILzUcsAAAAHQGfb3RCfwAAI8MXdWiQTZy+p6Y9x/f1oiekYOSYAAAAEgGfcWpCfwAAI78EK8EZ011SQQAAAD9Bm3ZJqEFsmUwIb//+jLAAAEYUwIZtVVRdsmgADajsx2usn859+CDwGnbyN8rmavLjiY6lvAb0YpxSncR6qbMAAAAeQZ+URRUsK/8AABbAmz/LQjLk5IG9tsxEHvQHr8csAAAAEgGfs3RCfwAAI6v4Z4IyVTqkgQAAABoBn7VqQn8AACO/BCvDLNKCdp4KRXkNIhXEfAAAACxBm7pJqEFsmUwIb//+jLAAAEQlwXfYdqvm/1zMI0so6v4ADkGGx4EenPLxAwAAAB9Bn9hFFSwr/wAAFsCbP8tCQ1HOHjSc8RVmTUkKTjKBAAAAHQGf93RCfwAAI8MXdVkmNxZas23+EvzImNxLewQEAAAAGgGf+WpCfwAAI78EK8Ms0oJ2ngpFeQ0iFcR9AAAAL0Gb/kmoQWyZTAhv//6MsAAARhGsEQhqn/nSZY1yjVtvivMMqgCQDLtVo01I8mXwAAAAHkGeHEUVLCv/AAAWtStDJvqfxEYni16Sgan8b7fwsQAAACEBnjt0Qn8AACPDF3VZKD3X8b0uEACEJp6SYUYCfkeTrbMAAAASAZ49akJ/AAADAAkvyAsQYWBAAAAAJ0GaIkmoQWyZTAhv//6MsAAARhTAim0AXdpR6qhf4Sa1Q4nsIgrJeAAAABlBnkBFFSwr/wAAFrw3gUhwh8esnOtKhtQRAAAAEQGef3RCfwAAIsM/tOTPWLOAAAAAFQGeYWpCfwAAI78Lr+pnFvixKnF7oQAAABlBmmZJqEFsmUwIb//+jLAAAEQl4ffYAAd0AAAAMUGehEUVLCv/AAAWJVppQsjaAACMjNsXAcn7eLBrGi/aWGSkF8spVwRL/JZsn+VoJYMAAAAaAZ6jdEJ/AAAirDxtu7CKTKMpqAGvkpoRYVkAAAAdAZ6lakJ/AAADAEVCHzk2IHojSemqxNANtg2XcFkAAACPQZqqSahBbJlMCG///oywAABGDmZ4hbiGsAcvjr9LjnyQ0wX01HtDD3r49wawkQIgs7RTP0ctssTTrOBjWZt9inSJzmHWMsYRL6wxhO/OkCEKHvBjTGjMBktpL/p1UDryPXFjUA0uUsxiBx7kPmigoVwnBVvIoZXF/QOYCMdT9OGdsXVhVbG4El8W96K6yGEAAAAdQZ7IRRUsK/8AABa1K0Miu19Qd2glWFyrmrtmu9AAAAASAZ7ndEJ/AAAjwxd1UVDRJMKCAAAAFwGe6WpCfwAAAwAKPmEgmtcq0AsIVb5VAAAAMUGa7kmoQWyZTAhv//6MsAAARhTAiUwCLJVsFcPV+YTqqP2iyknBVY1rNLlgsin/3esAAAAcQZ8MRRUsK/8AABa8Q8+EdKFp5SrOujp2HQcwQAAAABkBnyt0Qn8AAAMACj9o6K6oLeM6sJeufU1JAAAAFAGfLWpCfwAAI78EK8Byi9SS4XrlAAAAF0GbMkmoQWyZTAhv//6MsAAAAwAAAwNDAAAAMEGfUEUVLCv/AAADABBOmpWUAImM2xcByfve238aL9pYad487sf4IB4QNvdsoEvyoAAAABcBn290Qn8AAAMAGmu6a0kIoP1cdFX9swAAABsBn3FqQn8AAAMAGlTdzk2ItsQVpZoNqw2I7cEAAAAXQZt2SahBbJlMCG///oywAAADAAADA0IAAAAqQZ+URRUsK/8AABa5OLv1aoAgt4LsGOLz29ssEK2TJZoU2ECjMgROzB64AAAAEgGfs3RCfwAAI8MXdVFQ0STCgwAAABMBn7VqQn8AACO/BCvAcoqUdLsGAAAAF0GbukmoQWyZTAhv//6MsAAAAwAAAwNDAAAAGUGf2EUVLCv/AAAWwJs/ywmIYQHr2TBa29EAAAAUAZ/3dEJ/AAAjwxd1UVDRJq6VivQAAAAUAZ/5akJ/AAAjvwQrwHKL1JLheuUAAAAfQZv+SahBbJlMCG///oywAAADAAccUZ4gDP7BJOfTKgAAACpBnhxFFSwr/wAAAwAGcBrVRD4AHJNbBA/oDFhafbQKeLkEBBGXDVb/IEEAAAAWAZ47dEJ/AAADAAo/l8TN4maZiGFYoQAAABYBnj1qQn8AAAMACj5hIJrXKtALEf+LAAAAF0GaIkmoQWyZTAhv//6MsAAAAwAAAwNCAAAAKUGeQEUVLCv/AAAWuTi79WqAILeC7Bji89vbLBCuOX8USKjNmgaCiBHxAAAAEgGef3RCfwAAI8MXdVFQ0STCggAAABMBnmFqQn8AACO/BCvAcoqUdLsHAAAAF0GaZkmoQWyZTAhv//6MsAAAAwAAAwNCAAAAMUGehEUVLCv/AAAWwJs/yxnqITNM26f+LwKwMAFyyE5Wcv1ZqfelIlJFoTBR5tp72zEAAAAYAZ6jdEJ/AAAjwxd1U4rzFqVgmT/8Q5yRAAAAHgGepWpCfwAAI78EK8E5zr6skpDNHU7C1jsS97LZgQAAADZBmqpJqEFsmUwIb//+jLAAAEYRrKrPawDUQD//n+mrKcCQBZmIi30x6GbTR+C1K39beJhvWS8AAAAYQZ7IRRUsK/8AABa8Q8+EK5Ob0e6OtbegAAAAFQGe53RCfwAAI7iv3qoqBYzHsm8r0AAAABQBnulqQn8AACO/BCvAcovUkuF65QAAABdBmu5JqEFsmUwIb//+jLAAAAMAAAMDQgAAAENBnwxFFSwr/wAAFhdUMJIADjvPWiWx2LZAQJV2KOh6Pfoin9h8sR4VSl4b/6uwHPRQb01sja2GoC3J02zzUJYHNuCwAAAAGgGfK3RCfwAAIsM/vf0CWGtY8TEqHFPmcjbRAAAAHwGfLWpCfwAAIr8b3v5QjhRLyrABvbSQ2r5bMmt4m3EAAAAsQZsySahBbJlMCG///oywAABEEeRADlJZOnYEGcevvaX5kAE/YH6a9rZqa8kAAAAmQZ9QRRUsK/8AABa5M684QAIvZwX6mqwQrYxL2YUVaj4QuTkA58AAAAATAZ9vdEJ/AAAjwwOgaHKn/0woIAAAABMBn3FqQn8AACO/BCvAcovUR2DBAAAAF0GbdkmoQWyZTAhv//6MsAAAAwAAAwNCAAAAGEGflEUVLCv/AAAWwJs/ywmIajmihatbegAAABQBn7N0Qn8AACPDF3VRUNEmrpWK9QAAABQBn7VqQn8AACO/BCvAcovUkuF65QAAABdBm7pJqEFsmUwIb//+jLAAAAMAAAMDQwAAACxBn9hFFSwr/wAAFhfNC5pR07MpMx3DPAAmVW8E/ZScScUGu6Qy0rJOg3gJsQAAABkBn/d0Qn8AACLDP9VDhGtjGP1ZBKQvmhyQAAAAHgGf+WpCfwAAIr8b6qFK8sHVxOfGJvWM26+6p+99mQAAACdBm/5JqEFsmUwIb//+jLAAAEQRwKeFGU3gC7YQCYJUpZLWndJCtSAAAAAnQZ4cRRUsK/8AABa5M7QbyQAi+NLoXLlekIVzSVqYjtEk/6pf38ufAAAAEgGeO3RCfwAAI8MXdVFQ0STCgwAAABQBnj1qQn8AACO+6flzVRUHtATsGAAAABhBmiJJqEFsmUwIZ//+OEAAAQVRPJMABmQAAAAbQZ5ARRUsK/8AABbAlSE3ihCtzWMxyhhmtbehAAAAFAGef3RCfwAAI8MDoGhyqD1rRLK9AAAAFAGeYWpCfwAAI78EK8Byi9SS4XrlAAAAakGaZkmoQWyZTAhf//3xAAADAo3zglSEaoOkUA3xwDIB8KISAaT2Xafp6OHNGMlD6JA/HtNljSCxn/Y7FT35xzSxu/+zr24uAPOglQXCJm1Kc//+xvK7p/JzLplUwAP3PYxmTmng9BYN+UAAAAAdQZ6ERRUsK/8AABbAmz/LGfbd0RBVYK+KNZOfMEEAAAAfAZ6jdEJ/AAAjwxd1UVEoQtwREwAGzqE9GGRi8ZzPgQAAABkBnqVqQn8AACO/BCvBOdB1cZ0l6in8RwWBAAAAckGaqkmoQWyZTAhv//6MsAAARhRwsyjiIA5f1F2NkHpurxtvtaI+r18VcmfpydPEZFWq2SIWspR5T8EAAMXL+g6Uj8hFfwIrHrzhbdt6FU5rhMuWukFnOpMw+m0+f0r7OAOBG7ohomMLgbwL3wKstTELCQAAACRBnshFFSwr/wAAFsCbP3Zql3Rv2czpm+E5QFsQCV7o19V7gsAAAAAmAZ7ndEJ/AAAjwtydvpcjvNe1qYgA5f1ZwYypv0A+Uz6+vzZHG9AAAAAbAZ7pakJ/AAAjscwJb6lvshVI+/wGKMg+d5yRAAAASUGa7kmoQWyZTAhv//6MsAAARBRxszQBWqLhHroROCz0ecxcxHV03xmF2iR0iFlDlF8RwoIfOXJ0vNs0K6Vl7vyxoXLth2OZjP0AAAAdQZ8MRRUsK/8AABYlWlmG8u5KHTp3euTr26kiqfAAAAARAZ8rdEJ/AAAirDxRkZz834EAAAAcAZ8takJ/AAADABpkhGkZtYC84VJll7VJ7ZXDuQAAADdBmzJJqEFsmUwIZ//+OEAAAAWM6D+EAILH87j6YPi5gmLZJq1imey8ctqw50zyOTkq62uyBw1JAAAAJkGfUEUVLCv/AAADAHPVE1PwAWd8UgGH5OFN3N5NCNieQ1bSrOk4AAAAJQGfb3RCfwAAI8Db2pIAN1r0fncMe3DgakOQrN4mxfKQQjvC2rAAAAAeAZ9xakJ/AAADALqQFBlThIwAN/ZJ0wWPOHeNsgj5AAAAZkGbdkmoQWyZTAhf//3xAAADAp+Xc7ZQtXgFHK22YdhZc7yinG20Fdt/YEKSKSKk0zZJxe8Z9YPewTMZiD8ecd6CUAGP6oRt7ceTqNj5ydnjfyDrdyCY/rXBZIUXDS5vYVXC4HPpwAAAAC5Bn5RFFSwr/wAAFrwzx9AVGArVo518ACU5NOsXyBnRjaC/nNKqUzJZZr2jiO3AAAAAHgGfs3RCfwAAIqw8n5+9nbhTSygIAIovXXW/4Lgy4QAAABkBn7VqQn8AACOxzCrQ9Eav/5CPCtrM9q2YAAAAT0GbukmoQWyZTAhv//6MsAAARhD9qu6owCaDovpZHbrFddy6gNK5UKkfA/d+x6A15At0EAa20pp9H/58IpWe3fm1l//eNWqz4DD4UTU02Q0AAAAxQZ/YRRUsK/8AABbAmz92a0v1iAEqPYGfkgROIYX9IuOJLI4vPzJQOpQxIgFhJ+AOSQAAAC4Bn/d0Qn8AACOr+Gi6HJAmK8gAcbl29uPCHVnQXCSbOIyWmg/GYNUT5wPw8skwAAAAFAGf+WpCfwAAI7HMCW+pd/zzc5gxAAAAI0Gb/kmoQWyZTAhv//6MsAAARBD/DEAlQH9C6tYaO1EOBw/wAAAAMUGeHEUVLCv/AAAWuTN4Vjy7HtenAAON20o4B09fs2rp3A4Rcw7dlg2c0CC0RWMO5JkAAAAhAZ47dEJ/AAAjq3EJFvzGjNt5dmUah2Day7DuWJGcX+zBAAAAGwGePWpCfwAAI7GSvCnBLbpTQuRSvmfc2BiAgAAAABtBmiJJqEFsmUwIb//+jLAAAEPz900HueAAj4AAAAAjQZ5ARRUsK/8AABbAlpZMhwgzUkpuABLUKFg0uadsLfZgeuEAAAAfAZ5/dEJ/AAAjq/hngnIYDkyoWV9WUQ0kuR9Vhh4NtwAAABIBnmFqQn8AACOxzCqioC3Bdg0AAAAdQZpmSahBbJlMCG///oywAAADADKsgFABuW39BxwAAAAgQZ6ERRUsK/8AABbAmz/LCXwhpJ8kbIAD1Lf8Y/+BLn0AAAASAZ6jdEJ/AAAjq/hngOSDIOFBAAAAFAGepWpCfwAAI7GSgnc0OTQHScHBAAAATkGaqkmoQWyZTAhn//44QAABBZVu1wC0ndnHiiTIlmBr5wpzrHQDbDgYIHlD5YGUAuBMOai2kcH31otuitTeWYpZXKfIgxr7HWQUr/0pQQAAAB5BnshFFSwr/wAAFsCbP8uyzBZjBJRAIM28fF9ym2YAAAASAZ7ndEJ/AAAjq/hngOSDIOFBAAAAIgGe6WpCfwAAI7HMKtEQxvXAARkXp/224/WCOMupshKOfBkAAAA/QZruSahBbJlMCFf//eEAAAMAlyuVM8ANtM0cpvvx1Osn1b39reJTqMDcGxFoICKUsoNiQnK+VMMPfuZ/ikfAAAAAIUGfDEUVLCv/AAAWwJs/1/tvKqkfayWKYRe2eBZkm/QhyQAAABoBnyt0Qn8AACOr+GeQkqR3P87jkH2WC7DkgQAAADIBny1qQn8AACOxzC4quvimK8gAsPQqrEGbTHZjbKkfjuHlBLyHV+ZJhsFqxnTyf3LDtwAAADlBmzJJqEFsmUwIb//+jLAAAEZ+Jj4cJmCZBRKPO0TeSZotxTqhsXeyHf1gVbaKOOk0KXzlxFrqTUkAAAAjQZ9QRRUsK/8AABa1Q1WnJIwAxmWkhKuzMCLmFqcZYofrjQQAAAAyAZ9vdEJ/AAAjq/hbeBK7ajcEP/7ABWQC1mUsd3kUG/zj1aeLamC93BIimjrUGeufxYAAAAAcAZ9xakJ/AAAjx72Ld2UANd9KHFA0XNHlV+b8gQAAAElBm3ZJqEFsmUwIb//+jLAAAEQR5EAVtGWZ60u8ZfYLnJO4h0791qCDJaQwM5jghV1nChGOHoRzwtnv1YlgStR5ZL/SL9UF2MlPAAAAMUGflEUVLCv/AAAV3D8EiACL2at1hsTewiwI10nigTcITOrluMFLTo54BOsFcHL6LwMAAAASAZ+zdEJ/AAAirDxRkZ2ubP4XAAAALAGftWpCfwAAIrIwtsrDgB0i+BZ4kpFIvw8Zv87LJ4gzobUzMOgLUuIG/CbAAAAAJ0GbuUmoQWyZTAhP//yEAAADAASUjIClIT9EwtIo6MxKg1lWBYZNzQAAABlBn9dFFSwn/wAAIsO69q6MeonklVIKpjtvAAAAEQGf+GpCfwAAIr8b2PWy/EPAAAABsWWIggAEP/73Tr8Cm0WXagOSVwr2yqQmWblSawHypgAAAwAAAwAAAwLa9HiTO+TU8TYAAAMBBwAoYVMRISAUsbwqBK14IpLUIvF1H+eV5NYQAT6N1pS6E/kxMf620vQwBX1HgYy9mZL+Tqti+aXdfBA2FlMj1cfHNuVQNRMQq/mpIAVSGLoT7WRT/+62QDhLtVAVGgLRQFhGTCoIKQ6VoA2BwCZWklOJCBPHMSqGptXBxZOF6y+zglG2XjznTnnbSIohbWThhP3cyEtQP0cNeIrcssmO+TduU57gd8YZ6HViCKUqYHCe0Lyw/RWM+vajeBQZjZApNuE0It9deZaCI2OA76X8n+eqRjp8AvFs3l6UkO27uhp/w5tJvehh0wqYSah+yH9NhYTxB1FJhCVR19/iMUWxYfS+EkXuQ09MgwGAZI8b5hlZw/KujRi3L+cxHQIrXaD2DdLfN1jKoTOX3fdv/Y9zLTpog9YUkYwEzqYVEqzQVqGzi/humkkf98mbd7uOaUC1r3xe70Ab/ck2nBWSXq7K9OUhmqCwFh7yDxonA6AQ5QLqOAlgAAADAAADAqsAAAA/QZokbEM//jhAAAADAE1Q3gBaztdpw9bk5zQOcmzFRJsofpJsvlrzormu8y1hXfbw5o4UHITmMlY6Uson4jX+AAAALkGeQniFfwAAFdw86vJAAcVjAv91TJDp5GsUZ9JJBlmM0SOeg13SM/FhBxL/p58AAAAXAZ5hdEJ/AAAimJJkmYthJbeMa0AOQHEAAAASAZ5jakJ/AAAisjCnwp5D1roIAAAAOUGaaEmoQWiZTAhf//3xAAADAo0FsOAQq0G81GgXfQf2R3RE9+QLqnvJIGrYGbjDyRFiukxkaY+FgAAAACJBnoZFESwr/wAAFjCfcdS+VahBo/YAhtQ28Ou3VhB6/NPhAAAAKQGepXRCfwAAIpiSZJmf3mlcX/kkXzPACE3Nepf68ncTZb6G4d00/j8+AAAAGgGep2pCfwAAIsfG2MnHUQGdppZSZxfRQ8ZRAAAATkGarEmoQWyZTAhv//6MsAAAREQ6hIIfEu3lR3PdQExFdNgdk/Kz31cNrAANFlUagj3Ql6Awbcxbu0UeT74y8ldT7RP2oRXUPcCff6BBGAAAACdBnspFFSwr/wAAFhWjBcCH68EYT53gEoLm2goecSnuck0R69P5hOEAAAAoAZ7pdEJ/AAAirDkGFB5db4ALcANc9s2DFAXa5HFEWnDf8mtdGo/sJwAAACkBnutqQn8AACKyKwcVGwZ8IoALoAXSedkxznaPAl1qj5wc0r3jOkFwnQAAAD1BmvBJqEFsmUwIb//+jLAAAAMAMpVmxfiP6xv9ADi9g/VhnzPxfjb9GhMDviGAsIL2/1robHhhKB0C8yXtAAAAHUGfDkUVLCv/AAAWMFoSxYjd4jlCkQhooVFaHThOAAAAGgGfLXRCfwAAIqw8Ww9ztuxN/mDxVgJodeE4AAAAEAGfL2pCfwAAIrIwoyPV4h8AAAArQZs0SahBbJlMCG///oywAAAZ5z7ANHJcDnEOT+jheOAeiZgp51VzXfERMAAAABNBn1JFFSwr/wAAFjCfkDJdTsQ8AAAAEQGfcXRCfwAAIqw8UZGc/N+BAAAAEAGfc2pCfwAAIrIwoyPV4h8AAAAyQZt4SahBbJlMCGf//jhAAAEF/0ZgFd7KZgeWKGFfWJRsUFOsoiOiR30JlQz9B5gMlBEAAAATQZ+WRRUsK/8AABYsTuB64Cah4AAAAA4Bn7V0Qn8AAAMAAAMBqQAAABsBn7dqQn8AACJwCDz5Rj2QTKdAAhV6tIAiZv0AAAAfQZu8SahBbJlMCF///fEAAAMAAENEgKgAvlrmNWxjxgAAAClBn9pFFSwr/wAAAwArJqp3AATCnZ0eIMYMJYiVPRYEIxqw4O7zJwCNPgAAACYBn/l0Qn8AAAMAQyxJzgBYRN76+OjosQQ/7ISo80xg5Ejk1I3c+QAAABkBn/tqQn8AAAMAQ2RWHCb3bcuIiGBmJqxWAAAAXEGb4EmoQWyZTAhv//6MsAAARnpvT4RrQf9NuH8AFRprtySdARKgcJCbYuMpmx+rH3iZ6rlq0amT0e/65y4oo4qiffDxM/oQQblh/05wCysKC5mVP7L8daEOAkL1AAAARkGeHkUVLCv/AAAWFMC5oTVqAA4MAuvEcyMzf4qTdajSo7ez32D8yyQWNHwdVuu9XCHia0C6yzvdZtgUPvW60365+7aHBYEAAAAhAZ49dEJ/AAAirDkh4ABLBxv72ek9ji1fEyvU08KpwZwcAAAAHAGeP2pCfwAAIsfGunCJ9MRAIAodqKNf4A79BYEAAAAwQZokSahBbJlMCG///oywAABEFHTh19rgKCs3UZwt7byAX6bnxbE13UtuXMkoKXELAAAALkGeQkUVLCv/AAAWMJ8+bpl0oAE6n6N/a0orqXVg0fRlVmjseRxtWQMlIl7s1PkAAAAoAZ5hdEJ/AAAirDkGc/jqgBbdXzZnb/xycoFTbv/NYoLSdNPWOexxYQAAABkBnmNqQn8AACKyMNn0sCnwRGKYpPLE+RggAAAAREGaaEmoQWyZTAhv//6MsAAARBHAp6LLFLzbABloNbcG3fvt8mOXbNHrFEnNzhnC2SDSRr/PCUBhJTscLuQy+vKncvmSAAAAHEGehkUVLCv/AAAWJVpZRwAJZcMm0+k1/R3nOYsAAAARAZ6ldEJ/AAAirDxRkZz834AAAAAaAZ6nakJ/AAADABnIHA9a1mXgbxTwesH/ufEAAABxQZqsSahBbJlMCGf//jhAAAEFUTyaI2MwKANJavE8GjRAW52dATOaYUHdttYroVpKnQaWHFFZ/aHLHrlgkhdEj/9LEH8CRFUrMgLX/zH0sCE4Vq3iDUTP0d2kjShVFBUok0p5nf65h+vLgBz6vkjRwWAAAAAgQZ7KRRUsK/8AABYsTuNoDLPW1COQRgC6Jagcl72FU+EAAAAaAZ7pdEJ/AAADABm8K9UAG7VU4EEBPyRtMoEAAAAaAZ7rakJ/AAAisjCor+o7fJfjMcc4Wd0Zpz8AAAA1QZrwSahBbJlMCF///fEAAAMCjU/dAFBs/jHbT24jgG6bv0Lx42d88R2Q1WwJLy/Htxjjpi0AAAAgQZ8ORRUsK/8AABYwn5O2+rJq70yFxKbawF3nG5b2wnAAAAAYAZ8tdEJ/AAAirDxUVRgSrojHKl8RoOisAAAALQGfL2pCfwAAIsfHG21frCAAugBT+ja/EqZ2HxJJDpncIhaeQ27QuAXb1Dw+fQAAAGpBmzRJqEFsmUwIb//+jLAAAEQz7pUQsLRgB0j1wl1nKr4o8qrjzOZ4o1FDOkVicLovXkNEm5jyv+nTd1Pn7sI9gL+DzOaSaDP8TEnRrm7vPfZ8Tikhqr4YA7j4lpOivPxKUHgXmrTk8jpwAAAAJkGfUkUVLCv/AAAWFPEn3pu/HLdrcj6YY8C/mk2+6GwMNmCHBZuAAAAAHAGfcXRCfwAAIrf2BRKSmXLwXFRfFvgniHMTUcsAAAAlAZ9zakJ/AAAisir2Tsl5ryACx/t94Cb9ggvl57lQfCTaIhvKCQAAAEFBm3hJqEFsmUwIb//+jLAAAEQU4sACUNhG8J4iY6OCqMbt9nrdK91RiIT0prHQn03cW/X5sTvdCXXEVU2D3tBNgQAAACtBn5ZFFSwr/wAAFeC6WkbyorH6WqKpB2DTCTJFWRTwgyH2evzZoPueFOOAAAAAIQGftXRCfwAAIj3WDHTWkNo7qpP+k3oMWlNSH/cS4Wh5uAAAABkBn7dqQn8AACKyJwwuHxRKlCpPf27BBBPTAAAAOUGbvEmoQWyZTAhv//6MsAAARD0nGve6b+m4B58CgXLp19lt21da0fdYA5h/VrBtmVHpxbnZCQ11MAAAABtBn9pFFSwr/wAAFiuUmC/MnksTJTzR9WP3oIAAAAAWAZ/5dEJ/AAAirD5shI7AsddpNI9bMQAAACcBn/tqQn8AACKyMKiqgmFT7MFugcSwAQC5B1f9BCwDbJgOsI07RWAAAAAXQZvgSahBbJlMCG///oywAAADAAADA0MAAAAWQZ4eRRUsK/8AABYVvWfDA9fTXU5dSQAAABEBnj10Qn8AACKsPFGRnPzfgAAAABABnj9qQn8AACKyMKMj1eIfAAAAFkGaJEmoQWyZTAhn//44QAAAAwAADKgAAAAeQZ5CRRUsK/8AABYbZql+ADh8wp7J5jAyWTNQgJOBAAAAEgGeYXRCfwAAIj+inzipm61DwQAAABABnmNqQn8AACKyMKMj1eIeAAAAOEGaaEmoQWyZTAhf//3xAAADAo0FmDAFHKv0FQSZJ3AYZ/p6/h8/vtWYNzJDuQxgcl87szBfwkuIAAAAOkGehkUVLCv/AAAWMJ9x0RUYAN0ygA9+EpAbOh2MJJFJnfXwQcIjm4dK9b4rIAVYrJO2IqM8gUKic70AAAAoAZ6ldEJ/AAAiP6KT6+QnEYf9bAAWQmCYFRctv7v6MkMoAGALni6GLAAAACkBnqdqQn8AACLHMr6ewcAFoz3sb+n2CPW7FkkkftU70u5BMxbWO1UNgQAAAGFBmqxJqEFsmUwIb//+jLAAAEQUdOHx6YAaQwrP08mGbIrvkgT7UCZG18z0OvBeDTC7aqqRwT30ya5HGoZPKn6t+pos/32lTt26BkzL1un2LqklEmrlR+jWPP5fOHFIkxpAAAAALEGeykUVLCv/AAADAyRTDhBAC27itG7xVhykhbw/GM9ePwHN1ow0F009v96BAAAAFwGe6XRCfwAABPhc45UnzXJWKACXfqPhAAAAHgGe62pCfwAAAwHlyUaagdqqw/eiGDaMDMmRk71DYQAAABdBmvBJqEFsmUwIb//+jLAAAAMAAAMDQwAAAClBnw5FFSwr/wAAFeIQ9OYoARgOLXwCSFCSX9w8YIrzWhNCcjlX6VDFgAAAABEBny10Qn8AACKsPFGRnPzfgAAAABABny9qQn8AACKyMKMj1eIfAAAAFkGbNEmoQWyZTAhn//44QAAAAwAADKgAAAATQZ9SRRUsK/8AABYwn5AyXU7EPAAAABEBn3F0Qn8AACKsPFGRnPzfgQAAABABn3NqQn8AACKyMKMj1eIfAAAAO0GbeEmoQWyZTAhf//3xAAADAo8BBw4QBsx3aCoAxQzD78KAnghi786Ve+hunAZJdddxW0OndD16QVVBAAAAFEGflkUVLCv/AAAWLE7get+7VB8YAAAADgGftXRCfwAAAwAAAwGpAAAAEgGft2pCfwAAIrIwoyPOBYHxgQAAAIhBm7xJqEFsmUwIb//+jLAAAEQl3iYA/QCaUIirRhTxwn3AvLHeAKx7ib3NWenuG7zvG3PgY92yNBKstM30leTB1NFxkEWl9aygHbe84AGdbsc53DeDJzY1gF/SD7tkUevMoG745v7y1RSVhl+JZOfY0MM4mszqYWLkuc9I01Ps43dOO4Q6Z/zgAAAAOUGf2kUVLCv/AAAWIzDHgCtCVjCO4KQO9Xl64RgZQd2xvzyl5t3FQQTx1v8ovqm80mSR9YKsx7hj4AAAACoBn/l0Qn8AACKsPR5k3dHwALhhCY77oeQhj7RM0UeTSpQDEaqlrIUGwT8AAAAZAZ/7akJ/AAAix8a6dXf3K7XRzIpd75nasAAAABdBm+BJqEFsmUwIb//+jLAAAAMAAAMDQwAAADNBnh5FFSwr/wAAFeF5cTr3kXvvcGv9tb0V5SuRyW7GlGXVoAEzYVkUTQbzovGXxpIbqYEAAAAoAZ49dEJ/AAAirDydgNGqgAtWDnk7uh6AYSJQT19AT2J7R6Ih8xb8oAAAABoBnj9qQn8AACKyMNn0sCns9JFxvJvMNGv8oQAAADNBmiRJqEFsmUwIb//+jLAAAEH6a3i3aAML9HT0s7KKxeTIJ6hroyEO0kVD1AIko2Q8IeAAAAASQZ5CRRUsK/8AAAMAbrd+QBHxAAAADgGeYXRCfwAAAwAAAwGpAAAADgGeY2pCfwAAAwAAAwGpAAAAFkGaaEmoQWyZTAhn//44QAAAAwAADKgAAAAsQZ6GRRUsK/8AABYYZNOn0AIwAqocrY29y40exlqWWo4xnBwYT2YTJ+VzccEAAAARAZ6ldEJ/AAAirDxRkZz834AAAAAQAZ6nakJ/AAAisjCjI9XiHwAAADdBmqxJqEFsmUwIX//98QAAAwAB2cMEr8yOibDBPhMAE7Bw5ilRckcL7QPtvq2mFojbI/6XWmUqAAAAJkGeykUVLCv/AAAWMJ+ZcZQIpy0Sb88TB6pr19AB+FBxstk/qJeBAAAAEQGe6XRCfwAAIqw8UZGc/N+BAAAAKwGe62pCfwAAIrIwtiyHXgtI/lXtJgAfXtfAopZ7lRDD7fU0V1vOqXsuqG0AAABbQZrwSahBbJlMCG///oywAABEEP9IwAsEmWhXLzbzMQ58/qIv8s8B9g6BBhsze8Upa3NpJhn1IUCWfhKh8eg2Ii/dXgQMIBvOqqkPHR/qOSrE12cyOzAhE1nlQQAAAC1Bnw5FFSwr/wAAFeOvpyB4okIsgARk7GYV1M8ZAlZPgtvneQ7lR4WiX+sjjegAAAAiAZ8tdEJ/AAAitpA/yx+gEAE10rsAJBZqfn8JcArjWSbBYAAAABQBny9qQn8AACKyNNnYJXZxLKwDrwAAAEdBmzRJqEFsmUwIb//+jLAAAEQUdMWf7bO8/JFXoqF6RaHVvgh33U//IUOA+ooxGYK5ZHavwvfSnIn0B3pb9wjnL5rKlGR6YAAAADFBn1JFFSwr/wAAFjCcHc/g9FWFGupvqtXERG+UYgAdXd3jC75iwR4IIpdjpuMzR4z4AAAAJwGfcXRCfwAAIqw9HcxzPWE1RrTyAALdze/vZ44WN97J/y7iznio7wAAABgBn3NqQn8AACKxzCqnPV6sIJyUaZgZRisAAAAWQZt4SahBbJlMCGf//jhAAAADAAAMqQAAABdBn5ZFFSwr/wAAFjCbP8sJiT8CjxAOpAAAABEBn7V0Qn8AACKsPFGRnPzfgAAAABEBn7dqQn8AACKxzCqioD53PwAAAD5Bm7xJqEFsmUwIX//98QAAAwKO1ZryqqmDtWAAbBqxlDj2Pca8WC36vhh8zZp7qV4khnHLVMduPCvMVoxnkAAAAB5Bn9pFFSwr/wAAFjCbP8tCMuTkgb29nCz0f1033oAAAAARAZ/5dEJ/AAAirDxRkZz834EAAAAbAZ/7akJ/AAAix7eoayzYwTx1U35Gx9a7Ce4IAAAAVEGb4EmoQWyZTAhf//3xAAADAo9uOt66AQedvigg8UtPOAAJfyIc/Q9i1jDQlS3ctuFC1f9oLl/Okkxuum6z0/YwQGe5jm63M8DDOIS2u5SWwzr70QAAAB9Bnh5FFSwr/wAAFjCbP3ZrWv8YKrQvgUbXX2XOtTu9AAAAGAGePXRCfwAAIqw8Ww9VjYVG+/qXT+L7egAAAB4Bnj9qQn8AACKxzAlv3ljAALhhDwlU+zQ3n73lB8EAAABDQZokSahBbJlMCG///oywAABENKrYKgFoFR72NeioXpFodW+CHfY0q8x5NZ10CrwAAOXKAFrEvCvhS6aeMa9RYDaNlAAAACNBnkJFFSwr/wAAFjBaBYImyXbq73LonKYNpHq/uqGmIt4orQAAACgBnmF0Qn8AACKsPmx+X/WDonkxYAFghEjQxnV4miSs1Y49cdgQd/m9AAAAIQGeY2pCfwAAIpksdPk/MMoaAC3iBTHRRm+CGSoQzDww8AAAABdBmmhJqEFsmUwIb//+jLAAAAMAAAMDQgAAABhBnoZFFSwr/wAAFjCbP8sJiGo548YT+4EAAAASAZ6ldEJ/AAAiq/hngOSDIOFJAAAAEgGep2pCfwAAIrHMKqKgLcF2NQAAAChBmqxJqEFsmUwIZ//+OEAAAQU+t4lTA5BVcXuywADj28ryucrtVk3AAAAAKkGeykUVLCv/AAAWHWfpJQAjECcxSTCKwl3fjjBkDPPHsyThPLCZttU/uQAAABMBnul0Qn8AACK4r96qKgWfnwpJAAAAEAGe62pCfwAAIrIwoyPV4h8AAABQQZrwSahBbJlMCF///fEAAAMCjfLlqKGsm4b+8ABO3b6VBDdzeyy/l7KMf33jY2eA3jtdw2JOY16REtxeO/RBMsrRx/7Yx9AenhU09B8DNysAAAAhQZ8ORRUsK/8AABYwnB3M00CbKdvthLnOhZwEG9idM2PgAAAAEQGfLXRCfwAAIqw8UZGc/N+AAAAAGgGfL2pCfwAAIrHMKx8XXx0BnRmdfmBb8GnTAAAAQEGbNEmoQWyZTAhf//3xAAADAo8nbLI+TLJnL/ei/HttG2ltE/NXAA+RAul8quGwFg/NHhCTBfi3caX6BMQQ1yAAAAAhQZ9SRRUsK/8AABYsQ823FcysmVwRpLHfZFqdh9nP1HOmAAAAHQGfcXRCfwAAAwC1ik1COrJpRtd9gvtY24pVuu/hAAAAIQGfc2pCfwAAIrHMCW+pcNh4lgn4CrNrpoRbkZalk4RCwQAAAN9Bm3hJqEFsmUwIV//94QAABBuGoEP5JAyD9HvjjUTv51vMYouQFeh2tsGnF2UPC5d68Zdq67bsBKmRVBVMh9q87biyrZyrsWQ3JIMh0hsmm8dhVtWXBzW8O//kx1EaKfsg6IC1vTI8eOAcBpEu64yYbE/sj6aAx1Srfv7gdYDaGC40kIImpgdBG5xs+lryBZtw6u8cWEDuk00kGG1QgOF4BMTtBxJWTXiHUUFFpCEMALKGMHruYbrxViTxX+opGA4Xjf2xJ+z+shfDL1zbwHjcGuDJrQRTQtb2/JVMkyzhAAAALkGflkUVLCv/AAAWvDfYNxr0S1rgay68BP4UzOrRHsYCOIN0TWTkBtAv5u5oHmwAAAAbAZ+1dEJ/AAAiq/hnrLl/0X7aLqg1dzYNODpgAAAAMAGft2pCfwAAI78Lo/CPdx8V9WY0k5cGLBX5yAC6iXBwS66Ja0Fg9lNQgiq9CR5TGwAAAHFBm7xJqEFsmUwIZ//+OEAAAQUU7EB99+NW7xePyS/OM7C5m1s4jXyiBETeNtpwijns9vbuE7mnAQ47IgNXhXNR/KqFP6yokT9amI1DbVkDjKlzrVxzA7nJDaoFeGDsctHdHUwP1oBX1EcHpz/1nte9WAAAADdBn9pFFSwr/wAAFiVcI5HmABOp+jAgfmbVLa3fu/l3POrsC1cEx937P9uhevtlEHhDKMbEXFgwAAAAHgGf+XRCfwAAIqw+fjiOpTnLPRSghbKuat0vsQGqMQAAACEBn/tqQn8AAAUeTm/RUoqMcsEXS9zCvJPv5ilf7BfxICAAAAA3QZvgSahBbJlMCF///fEAAAMCnwKe2rp8JjSrZUnIs2k6brCnvCeDrwAgzQwDgLkIDpiwEv8y+QAAACNBnh5FFSwr/wAAFrUrNzOERSXS18u1CkbbgraSEWgOVEsccQAAACwBnj10Qn8AACPDF2n4hdxUwnNy56JgQIojZsAEITQ1Uw6NGNVvfiEI9ZiRyQAAACwBnj9qQn8AAAMAuksYcWRx+fXAACaXNPNtg0tybAgZy4E0ZtvMzsoMA6s8cQAAAGFBmiRJqEFsmUwIb//+jLAAAEYpnCjdwBzD1wgE9HxEpmt+4NLCbVkR/sefwQGb+nNGr48OCF4PMBIpETSeG79rkdimRXyj9ieyCPYNSf6kXc+c+el+HUsowRsU0K80senAAAAANEGeQkUVLCv/AAAWvEPNHjg5xjKGAO1kvnN7PRH0IL5lhjXimFre0SS/W8QLU8qX38e/jukAAAAXAZ5hdEJ/AAADAeb0dv5eq5hTDJOaIdkAAAApAZ5jakJ/AAAjvwQnEsk0laABLHlTGtKTBFsOX28MMkTmx3K7NMdKO6AAAAB2QZpoSahBbJlMCGf//jhAAAENEiAALWdV7g/dTFSJMM4hAyqenlDfA+mTbACjkkPcvKbADMYPZhtlvQZUUbPPiyvL1bumlT9+n1kiN9o+75nb1fh8WLOjjNmEJymN+xGCa1UxgtOrJg9mqL412qhQ6l+R6r+r5AAAADBBnoZFFSwr/wAAFrUrPjSSR39Zix6kE/+GvzsUASABdDxIo5ouWu+vq7mieswMi3EAAAAuAZ6ldEJ/AAAjyGSUgA43YrRelZIe6KRsl442k4n5CsYGpwqceBgc/MjOgOh2YAAAAB0BnqdqQn8AAAMAGm8bhrSwISkNqavDpN8WP44O3QAAAFJBmqxJqEFsmUwIV//94QAABBN0NSAzcnsYWW7TiCPG8XhC+SN9OihhK77zz7aIC9bVE8qvKUugnlQ24tZGsvwsmmqoFnTfRYbnZf+jnximSjwYAAAAPUGeykUVLCv/AAAWtSsyb70q02P1BpD0AQAnWEY/83DvKcNbSqCV/Z3DT7PSkquSMaHCrtaGF2lTcb7vPmEAAAAbAZ7pdEJ/AAAjwxdol0MEvLWT+XewvTRAtBDxAAAAKwGe62pCfwAADYWAP0QAWiw3LSXQuK1MW8ls02lqdboAnNkf0D1FIdllUYEAAAA9QZrwSahBbJlMCGf//jhAAAENT5XhHjbQH/EiWR6s11BLQm2kcrspRq/uWohe5WbSOSW58nqZtpMRv5AnYQAAACpBnw5FFSwr/wAAFr51tB52FIEFyRZgAEn8vp8SOR3jZpqqqZDvbG9MF6wAAAAlAZ8tdEJ/AAAjwzuY2ioJQAqlTEjxExQdG3tJbV+Oz76bluEEHAAAACEBny9qQn8AAAMAuiYBGXAS4KqzBSXczpbKAPNkoEPhW2cAAABdQZszSahBbJlMCF///fEAAAMCn/TcgKny1XJe51XduBkVF2TxPmblc2qdskjJ8HoKFBDs9kS9ptrHWXv57GKMBegoph2aiTZWTI/u3+OSlKXf/+19Zwkgkl9J07+LAAAALEGfUUUVLCv/AAAWwJwdy7J4qashqAEtUjyPJpKNBMcS23VZ/VWFHWMqfbswAAAAGgGfcmpCfwAAI7HMKrJVJjycoYGH/GclAjZvAAAAaEGbd0moQWyZTAhv//6MsAAARg5e/4ApJ64TLLdrHvvui9w5Cy/5W5bexE4ramcrCdSolFiaQOG4IV6o2yxl2rxeGFRJ/uCzm3oSf5TvW1VKCIwT/OPHQbunVHjeeWZIRvTMxotoO4FhAAAANUGflUUVLCv/AAAWqBNTR7qy3hItL49baq7AAfh4BGJ5t0gbhorF+i7O6YZ6w/CNy2jvAltBAAAAKgGftHRCfwAAI7jB9RDiOpdrmABdRLSi7S4xdJ1JKlUJqDGMDyGo6PKbswAAACMBn7ZqQn8AACOyPL+Jd46t+hlts4BzDLGpAo/sN3Ei4wNyQAAAACZBm7tJqEFsmUwIZ//+OEAAAQz6MoAIxjvylfAMb0TX7x91+gALaQAAAD9Bn9lFFSwr/wAAFr52GpADjvPWiWvAK5cS9YHgBQFuwJuNrw4WjM0vpW9CRZ0Mz+itJkt/eVuHhTNjJRNH+2YAAAAvAZ/4dEJ/AAAjmLIoezBdK6dmbUAAJajalH67Cg8l/cFNC5BslI4d6Y4AE9GjCAgAAAAYAZ/6akJ/AAAjscwqslUmNugq3P9Lp4gJAAAAUEGb/0moQWyZTAhX//3hAAADAAfzqs01tUAQiRemmMcvoG4tfutRy/XSyDb143AXUsK++3MRfVhYyEk/VGwMlHh5zFcCtd11gXT8FuQpM9sIAAAAI0GeHUUVLCv/AAAWwJs/y7LK8qqUg4yVXyuk+De51rgWBW3BAAAAFAGePHRCfwAAI6v4Z4KDpytcJH5dAAAAHQGePmpCfwAAI7HMKtEQd5aiEsdjKHlAkDP9qeDAAAAATEGaI0moQWyZTAhn//44QAABDPolQAd5n1Cdm1Z9yy3bcBZy+sd/KoBscufYSt4GRzBUZ7rLF/YVHodND/dpQH2zWeGC8ZjzBFVW3HEAAAA3QZ5BRRUsK/8AABZ0aov2q8+XH7AlHMWoqADtmcVr3u9THP6Zlib8cw8+Wk0PpuHaAkPOClREkwAAACwBnmB0Qn8AACOr+Ft4Ep1X5jEEAESBJjBaZoDuxeuWKVvrvQ8hX32F+Nx0EQAAABsBnmJqQn8AACOyMNtTzaw0AqLtT/OYkgsTYmEAAABgQZpnSahBbJlMCFf//eEAAAMAAw752scAD790eBUzFMIexSgbX/uw22wenW5QhphyGX1Q4wSFCuQ7RUngauewROGf5zEW97AF4z8Xhghnp/qJnpENalum3GMpxNe3qTaAAAAAKUGehUUVLCv/AAAWwL58ARIOOzztsV5ryZA650HRURmitnL9g1nxRqEwAAAAEQGepHRCfwAAI6w8UZGc/NqBAAAAGwGepmpCfwAAI7IwtiymSsR/h+SY42wAYv7ZgAAAAExBmqtJqEFsmUwIZ//+OEAAAQz6Jc4XBAfBxHV/NCBl/RTRVkf7rwOi9S2rLJ9L0BZ67cq/XXwVpYd7sjaD4XLHpk1svP5rIehTN4GLAAAAMUGeyUUVLCv/AAAWwFaRfy2fXuIGShReWACdpw1LxDhvCbIiK23y9/L8P/F7S9O4M2YAAAAcAZ7odEJ/AAAjrDkGFFBLK76jBpZ/l/MPQxf/bQAAABoBnupqQn8AACOyMTq9OAYqxrNqOoOcYrhioQAAAC5Bmu9JqEFsmUwIV//94QAABBS/k0YBqUiqamtk1xr5YgsbXwpW3ZObOhvObxmLAAAAE0GfDUUVLCv/AAAWs0iWBkhOM2sAAAARAZ8sdEJ/AAAjrDxRkZz82oAAAAAhAZ8uakJ/AAAjvxvY9LinkHABEHLt7kjeP3ailW0yRvEHAAAAbUGbM0moQWyZTAhn//44QAABDU+V3eDtg8KUemvSXmvTE0PDvv8LzX+5r9/dvbqsOUV4c8u74khFxV03t+5gMM6k2GJxCb5sxKMebLBNJSntSfTgJKfxHeSTHXCUKNdNbrx8rWL6DzDHLSEK0fEAAAAfQZ9RRRUsK/8AABa8ThruY104RLDpJ/hcVk5vJQDZgAAAABEBn3B0Qn8AACPAuaNpdDQBswAAACoBn3JqQn8AACOuX+8C1UAFvBBVdMuSiVFw7JIg1/SLS4rRKXZDZYd1ioEAAABSQZt3SahBbJlMCF///fEAAAMAAeTpPwAhNRZ+sdrC93axbaZ+ybjPtjnhGtHYG7S5X8G1VZ0/XVgt/rgRpfBrTsU9KRAYc95sFrXQqwLQmoelWQAAACBBn5VFFSwr/wAAFsCfkWu7zqG8HgKwG0nAerEHW7VEqQAAABIBn7R0Qn8AACOsPFGRmOfA9cAAAAAdAZ+2akJ/AAAjsjC2vIqSR+v/4Es8ulUiw5C924AAAABOQZu7SahBbJlMCGf//jhAAAENlTMdqQvVmzA/sf35BJskpeXtcvFoz1OPcDWkAAqm9mPxL+faG58I/4z4UeF9viFTBL2aEKXNjC/zRs4HAAAAIUGf2UUVLCv/AAAWtVkMYRDmFhPLmWoPg3wj73tCT3fswAAAABoBn/h0Qn8AACOp6v72dBwIlbkZfJcJTjjAYAAAACQBn/pqQn8AAA1/0c8f538kao+4AW8D28eW862fRPSJGE8AtIEAAABUQZv/SahBbJlMCF///fEAAAMCn+759ZL2sCBO7l5tJ6o8YQ2MFdZr8wHD5ZrTmBIVKm+XQxsAWpJVsiQ4CWg7Qu9qSeMdeOe5F1tjJDNHB42dazWAAAAAJ0GeHUUVLCv/AAAWvE+KFl6EJbtvazUJUvO3NUOZl45/UPEpVtfswQAAABsBnjx0Qn8AAAUcW3nr6MVO5/lISbx9ajl30W8AAAAvAZ4+akJ/AAAjsjI8nDcxuSW7HkZcrQVVwRBfABpLY/Yv/djiy2UFu6/fXIRPTegAAAAzQZojSahBbJlMCGf//jhAAAEM/16QBWpejJvbU8w19DQt+3WGXWTpWKss4PMox1c1+oZdAAAAIkGeQUUVLCv/AAAWwJ9x0RRrvHVpSM0NuT/sM6/ARX6y/4sAAAAeAZ5gdEJ/AAAjrBj+ce0h0CBnDih43y5dRoIRgDAhAAAALwGeYmpCfwAAIzf1BuC1U4pYmjYALnq4/0K3GW/mxCvgKgozAZSmCmWjbH+hBm/BAAAAIkGaZ0moQWyZTAhf//3xAAADAp+9cUXYn3IG+TiwlLzzmScAAAAWQZ6FRRUsK/8AABa1P2UJG/FDKkObgAAAABMBnqR0Qn8AACOr+Get2lhQ2TwfAAAAEgGepmpCfwAAIr8b2Po4o14YEAAAAIJBmqtJqEFsmUwIZ//+OEAAAQ4I5k1twAI4FEs9p2S7DiJWn6e2Yh7LSRl7nuw1xFwsUt4CAeh05QQO7isMRp5hBu5lCQwBIfiZazC9b5BLfghJevbDpYZY9AY/HbzVkQOFaiNw9HGp8JF/qk3ql/htgJcFOtpa/1IBWas3OMu/3903AAAAMkGeyUUVLCv/AAAWpPrpzenkDtX5NNz9NtZY2LUHZGcVatn6e0AAnTAfzpgWepCxsLVgAAAAFAGe6HRCfwAAI6v4Zn65O2VhoF5BAAAAJQGe6mpCfwAAI7ItchY3ggBKoIHObwC6X8voca5E2Hu9fhAbNUEAAAA9QZrvSahBbJlMCF///fEAAAMCnkqD9OsnmdGVH5viT/qg7mNG/yctz9gpuUcsT76qDvMShe2Vsu07ESZHgQAAABlBnw1FFSwr/wAAF0Ar4JzhC4pH+zmNlCTdAAAAEwGfLHRCfwAAI6w5Bk4qVxVKJ9MAAAATAZ8uakJ/AAAjsjCjGhsN7+hgQAAAAE1BmzNJqEFsmUwIZ//+OEAAART7rl8SFL3nOYCBDCYlokxAmeCHxJbh858K/5vMn9hkHdZEU9A5WqVATfLfdUAaRlNu3R2IjxhdpWiMsQAAACJBn1FFFSwr/wAAF0xFl1mpsUQljaP9se+N0bwPM+L5STGgAAAAEQGfcHRCfwAAI6w8UZGc/NqAAAAAMgGfcmpCfwAAJLHMCW8hbhyIU+QAtlsghIcNlOQsyNsQIMnMOO59H/iDgKccxE+UmNzdAAAAhkGbd0moQWyZTAhf//3xAAADArGXbPZf9SFeAHP7Xk6yA3Y1J8z0iqdx7xJa1oaeBKWX3Zj4pNGKT7Uu0x5Mp1g0ZKj8MDTNu17WM6LaILrhbJd54PH5enX9uXdr9WMrZKwdE/VpoTA/TuJ9keQEj4bayoX6AU8FNTzh0S/xHbvEAXFoD/uZAAAAJkGflUUVLCv/AAAXRStDUXy9FmQxwr34bwS+AFfwal/kGtM/l2IxAAAAGwGftHRCfwAAJKv4Z6y5f9F+2i6oNB8t2FRLZgAAACgBn7ZqQn8AAAMACoJp1yk8SFaEAEUwdQbZVM5mEzeQIQNFx1lqGcuAAAAAJUGbuUmoQWyZTBRMK//94QAAAwABNTVT/rLWH+oAE8EDfVQtgcEAAAAXAZ/YakJ/AAADAAqCX8KX3jOiugNIaoAAAAHyZYiEADf//vau/MsrRwuVLh1Ze7NR8uhJcv2IMH1oOw9AAAADAAAJTjza1k0IyztIAAAFzAELCSh5B5iJirFQJbSbwOdwBw5ZesqqL9WZ6He4L0Dt+CFZySWc7cV4HFas/vcuPVWezAAA11/Y3Vke8TR5cKXMUJwL/u2efQxLV8DrzsM4B5hKgbBDeo9g86ewl1DiDDn+ehv+1HDiTxN5AMck9Uuj9ylk0na6UrPI0Tk+00n4Iw1JYWFGcaRvooA9EVF78ft/URh+pZq3+tt6YuBe2M6lChdV67FAFPEBmnjz/5kBB8jzdlWKcO3KrjeqkhPu/pgBifnWDIAq6P2W7iZgHIcGQs87e7A/uSsH2x41BB0MraMVLJGdoaG6y780SpvddS6VHJic6A5n2xztmviX02fpLjwjGYTdcSnrt22KpRahhufnjhxO2dNJGWCrhnplu/PRaB3MjGlvcdBHh4DTDb1Tk/9NJDY2rkm2TOSnyu3yMm/jQh533M9O/P8ptKO6PXeVjMxCfHd77+DWew/l9u9pJxeqSDvj9c+RdlRAu3o/ERICY/fMch9KJLTsHeIRFsbXcS2vMRDUhPmV5DDQEFhclXwP/g1JA1ptEuWLx0FQwtju54mbD5gjTYRNDMLDHd86AAADAAADAAADAIeAAAAAj0GaJGxDP/44QAABDczIemr3E0K0OMAbNJ9MPj/1+2DXaxcM4jOYnsCZyEZf0IvER0tQJa1DTh/78+fgh9SczT6uNmqedX0UD+jex0pFlLv+AMQxyQ3ioW4Wi0CArLiCz8Kmwgo0r5Mm7OYo4Mm6zgJe6VsK3x+qWQbNem2C66iXKkW4BBLruT/Do/WRFWSnAAAANUGeQniFfwAAF0kznCsVYAReZaLbv66K/uAu0eOChX1SMUYQWPjnX9a1QdlKK3t4lgMvS4WCAAAAIgGeYXRCfwAAJMMXdxP485ckmOz4bSbP9ek9oRgJtRDc68EAAAAUAZ5jakJ/AAAkvwQrwRk7yJjni9MAAAAwQZpoSahBaJlMCF///fEAAAMCsQKlCKkxkqSZ0qFl8k/MnNt0JmZDxjxb1RpD0mH5AAAAHEGehkURLCv/AAAXUJs/dmta/xYX/GPE12AddWcAAAASAZ6ldEJ/AAAkwxd1UVDRJMJuAAAAFgGep2pCfwAAJL8EJxLJabEzrUmQv8EAAABnQZqsSahBbJlMCF///fEAAAMCsZdxeIhoA/a7Vdw+1S6UTS29BCV+sFptGf2JdqrJukWGQrXZYkm1/p8lYbvtr3aUljdWn+vEInMQeBF8W87xo3vDwcrE76chLkrkKc4hurhHwsLltwAAACVBnspFFSwr/wAAF0UrRH0N6LMhglYIzs5+zRKTbHpuaQWI7u4BAAAAHQGe6XRCfwAAJMMXdxP485ckmOz4bR7IOtCuhVqQAAAAFwGe62pCfwAAAwAKhnkMwUD1/vZB5zyxAAAAUEGa8EmoQWyZTAhf//3xAAADArHvAI8DJpP6kLQAvGwAegF9DUKhwVu5PN/iIU2uzY2sW1OPJLIDY3fcSIoBS2DfX9F/GGIMQgyxho0T32owAAAAHkGfDkUVLCv/AAAXTEPNtxXMsbVrfUSuV1F3xUCzgQAAABkBny10Qn8AAAMACoeWeUqam6JENP2HyKm0AAAAFwGfL2pCfwAAJL8EJxLJabEzrU1hyuS9AAAAV0GbNEmoQWyZTAhf//3xAAADArGXcXhtTjyeMBM/OAoxJN8LTEe1UrHSp5+gPQu4o7WPIQ0bzEZD84R3a518tRKmO/fetzcu9gwx+t5ZulsWPFjn4wgqwQAAACZBn1JFFSwr/wAAF0UrRHmQisAfYmVU5Dh4UaPnDdFk5qd3oJ7CTQAAACsBn3F0Qn8AACTDF3Ny4K5wf+BLhABtcQmiu1b/rH30gLMdRLRjv53KW7KBAAAAKgGfc2pCfwAAJMfC1JABuZfuZR50QLFB25tl6VyZo7myrPmIiNvVb/2WKgAAAFRBm3hJqEFsmUwIb//+jLAAAEgC8KAQAn7yiR7p0VVQCGqr/5bLYVgNbkZuxJhTx0pC2kvOfzsf7FN+U7zFCmjTgdiDrfl+ugfsSlyqRjC2cAIRxsAAAAAyQZ+WRRUsK/8AABdOoWgfZoSADhV2Kw9QDH1RPc1svvgltAFQNlWbkIkXhxoc98hY2PkAAAAeAZ+1dEJ/AAAkwxd3E/+6+UmmlTEirIPFPvDZD3AIAAAAFwGft2pCfwAAJL8EJxXCetqF3CFAhv/gAAAAR0GbvEmoQWyZTAhn//44QAABDRTsQCaT4urk4XX//U2qF5L84zrSHigelEaDmvXEISUyJw9ORaeLyZCX0MV9uVrSzAlNvXXJAAAAH0Gf2kUVLCv/AAAWwFaTKYK/7X4mklkGFGv9Fua13AMAAAApAZ/5dEJ/AAAjw0CxMTNXCpgAS1TqrrL57G1iYpL5CbRX1vlts30TvZUAAAARAZ/7akJ/AAAjvxvY9bL8QcAAAABhQZvgSahBbJlMCFf//eEAAAQ0eHrozYDDtYG1J2rvGfgEdwuXSBP9oM5ELyj5GZFeYnWb7aIhnw6IbhGmFaaFMcHiasTBgt81gF28XnKZ37xsYmJctHAAogDqW6WigY4XbgAAACFBnh5FFSwr/wAAF0w+t3zX0Ve2UmgBLOzyESCIyYWnOLEAAAAQAZ49dEJ/AAAjwz+x66PxBwAAAB0Bnj9qQn8AACS/HSy/5cRkjrA3fySVUVA9KetOCAAAAEhBmiRJqEFsmUwIX//98QAAAwKx7vcExprrq3e0QKjzEios1fzSC1Dn4IOkN3jyyIxHwydtVXXsldA3PuBh6udZ7veKocxJIGEAAAAgQZ5CRRUsK/8AABdFN5bfU4CLBYxzGEkskGGMZKS/V/gAAAAhAZ5hdEJ/AAAkwxdjtSgAWomq8lmMGouGP1db2JndNMuJAAAAEgGeY2pCfwAAI7IwoyClmA1BwQAAAE9BmmhJqEFsmUwIZ//+OEAAARVPlMREV+NPS/+2wkA6wOXP6RoACEV1eBXxnmOi5Kb8yyASYZbP4Mq4BOH/j41s5Erwu5G4NqiSjZ6ccbJOAAAAJkGehkUVLCv/AAAXTEPPvmozkNQLD/aVGf1n4cH+SmdesKBdeB6RAAAADgGepXRCfwAAAwAAAwGpAAAAHgGep2pCfwAAJL8ELFzoP5H40vbB9JZjSBLSn4IMLQAAAEVBmqxJqEFsmUwIX//98QAAAwKxvXAfeUUKF6BQtT082+y3magXn6PPUTjrv16PA1xlWMZWIEnsVLxbHEPG3cSGrCPT3XkAAAAbQZ7KRRUsK/8AABdFKzdriUlvBnlTn7cb7+V4AAAAHQGe6XRCfwAAJMFyhABxEHYElYV5CDpkqS+ZHca8AAAAEQGe62pCfwAAAwADzP0uDTrhAAAAbkGa8EmoQWyZTAhn//44QAABFgO23HmAUbJj7A6WZo4EE2PAMVQvHJfCidC7m7luV6Dl8c4nfxEyTLyAJF6UcXcROSDySpQbfzxZ+tv8/yC8C1BSN7o3ZfoRTT9ADz/9s9DLQmYhIrxL+dnoa49cAAAAM0GfDkUVLCv/AAAXTEPNtxXMrJlmK9IHlV85vZ58d28YrCqG0rSJKgewWdJP3/EVoAedMQAAABUBny10Qn8AACS6xpjVhHREftEB1GUAAAAjAZ8vakJ/AAAkvYNjHjn5zdCLC3x64fhKXTQXfiDzWupk7uEAAABCQZs0SahBbJlMCFf//eEAAAMAAHO+KTAJXxNIMNfDfuTiaMZzZ6a7jNm6ZrjFPBcSVh/wZWF8jivyiHms4t2eTi/XAAAAGUGfUkUVLCv/AAAXUFaCCgQZsphzGxRg5UEAAAASAZ9xdEJ/AAAkwxd1UVDRJMJvAAAAEwGfc2pCfwAAJL8EK8Byi9RHXkAAAABaQZt4SahBbJlMCGf//jhAAAEU+jhkBQRBDdubPL4Zrw5ZA9bARBeI9cruE2eQJrbOz+NkBwd9RG4NYtFIC77bVrhD45JAK/k0+h5kqe0q92rNVnaJdmvrnNccAAAAJEGflkUVLCv/AAAXUFaCCMvf39KkEQGO0SGq6Cmb7MNQ+vBqQQAAAB4Bn7V0Qn8AACTDF2ippVTjeIU+p4Vfg67/EAeo68AAAAAoAZ+3akJ/AAAkvwQr+on456e5mAC26u2qb/AtSPmSjH0eE02tQoQBwQAAABtBm7xJqEFsmUwIV//94QAABDaTbAgC+p1I4eEAAAAXQZ/aRRUsK/8AABdQmz/LCYghdn1AOVEAAAASAZ/5dEJ/AAAkwxd1UVDRJMJvAAAAEwGf+2pCfwAAJL8EK8Byi9RHXkAAAABlQZvgSahBbJlMCGf//jhAAAEVx6Svjl4QTL40UNIIm067v4xCI+Mc+OEIitgjeJ2BvKi07uiOYXUJmOf05YY8aqIuQ/ja0jp2nnAW2nurLEYmzCOI8KGQft73qqiWRZTi9ojc6EQAAAAqQZ4eRRUsK/8AABcDIKMqfW/Z82MGrJBFPfNAXhFAka9mobOI8DZ+abtPAAAAIgGePXRCfwAAJLf/Do5nOY0UvQMxw7d7vHgBncIiB3nhQ9wAAAAeAZ4/akJ/AAAkvwQr1l60c9MWryN2b1kNQs7yGS7gAAAAS0GaJEmoQWyZTAhX//3hAAAEN7SkUIwMiRGYTr/hK7ffxokCeuz2ruXsK/Pwbv4ni11OTbOPivthHnw6eTa3l0xrwFOww/ke2PxgwQAAADRBnkJFFSwr/wAAF0xO42e63S4ATFoW+QLSeuLprHKu2iWxHcNab9jpMR+IvUpYUP6HetwQAAAAGQGeYXRCfwAAAwAbC7psH5BGzZymknEoTqUAAAAiAZ5jakJ/AAAkvxvqE79rx6CGWB7bOmrXsdwS85Wlc7LIsQAAAGlBmmhJqEFsmUwIX//98QAAAwKxAsJESvtmSvp3oRZzgD5pqwAtpclDHdGedcqZwGeVODEEetKnFOWECc/YDKA8HVat0hBbLuBzcRWYSltyUyHi62Nc0q7/l5XTX2P0X3kZuaBhXJdmyZQAAAA+QZ6GRRUsK/8AABc4NalKAEYDQZ5BfC3zNGJ1DBFtF4e8pGOIpJ17aYrpC+gJPRMGk+lP0fT/3YiqLZwLl3EAAAAlAZ6ldEJ/AAAkuLNUi10HUENIiFX3zweuNroOcc0DnghbeqSyoAAAADMBnqdqQn8AACS/G+oV8LHEgAFu5yAq4+UZXalk05wF6lf3FRFshNdip2NZElx231n/li0AAABcQZqsSahBbJlMCGf//jhAAAEVvJevXAJzMSDTQH2jD95LmmDQPPsW8JxGLqCZNlCiV+15RWBZ8dOupeaDIigREpNbMk7dvs8fGOMffuk1NVoA1xVYUgbEwSMLJuEAAABOQZ7KRRUsK/8AABc6mNsnABxhht5/davF2VzBpCBW1VMP9HbHyKOrPhIhIt/PcG2iSsHoKph3HBgQccbwNZHpn8Vml6WwHL6RJbpVduCAAAAAHQGe6XRCfwAAJMM/1EO8JDDmrZiCXRdi3HhwKDUgAAAALAGe62pCfwAAJJ4voHpEt1NjfbvojAASoSqR6F3ftRpp3DJU1z8JGQ0ImzUhAAAAVUGa8EmoQWyZTAhf//3xAAADAAVr2It73YohKgf614qHCFlNDDg7YE/YsAFAoGaPNwQgofkTg0EaNqEsNY6VtE3gFZ5bmNGJYn/GOZV23PPSH5n0yKgAAAAgQZ8ORRUsK/8AAAMAEOCnNrtOB9Zjv9pjObqLsZ6eyBEAAAAbAZ8tdEJ/AAADABsEJxWBt5jY4L60qZ5TRg8CAAAAHAGfL2pCfwAAAwAa/204PGJp0DB5bsF338z01IEAAABZQZs0SahBbJlMCGf//jhAAAEU+iXNEpeUhWR0Az0ODL9BQkDNwFfax1e8lIA/1KfucJUeFi/2oluVTZY3DQdet1EVGFFOylRl1uP02ZIB7KQujkGO9Qok3+EAAAA+QZ9SRRUsK/8AABc6mM3T6ADiwr4f+duHDjdmy+lJpAfaULFnOESL2xEqY8J1dbQdJc6TzkJNZsDrk+U+FdMAAAAfAZ9xdEJ/AAAkw0JXwIp6s/JmW8DLi0Gcw3gGynx42QAAACABn3NqQn8AACS/Gd/elN6dWg2ylxtvUbaUEOca6b2sCAAAAG5Bm3hJqEFsmUwIV//94QAABDUXJxo5nIK6je5y2AvhjfXf6I6paex1lZIH9UIo3i5XnA+EPPf6t7oy/rQte+4f/DoKpXojhaQ6LWquTXuGBqUCoyy5lLnYCsGzh6MtkEokdxLQeOWOXGtd7h8TwAAAAB5Bn5ZFFSwr/wAAFzhkY1V4V1br172oIiRQSD3CWpEAAAAZAZ+1dEJ/AAAkuMHtXN6jWjzH7efeHIvl3AAAABUBn7dqQn8AACSeONTnIjmdBA/ft+YAAABBQZu8SahBbJlMCGf//jhAAAEU+PxZFSFy+mjRmHj4D0JxviipBodhTWRNuAdIs0a6l3XoVWuPozNWoh5AqA0LVL0AAAAzQZ/aRRUsK/8AABdQn3NKAAP3MmJPXPatkMEpdbWQKLGxDfpYjcRC5G104KmRvx0nxG8XAAAALwGf+XRCfwAAJLjAS917ABLH8hFxzQPgsflHdQbdZwkGlJPn49tgIpY8K4Dy/O3dAAAAHAGf+2pCfwAAJL2D/+KktSsHIr10MTuenO4HH0wAAABDQZvgSahBbJlMCFf//eEAAAQ0v2UJc07PM2DgiAOoPhFWHU+d4pSib9qdwCq/0ik72lKWnHAzOmLJ3EwGoMOIk6SqjgAAACpBnh5FFSwr/wAAF0aiIAIyLgUdvwUrJt8s8QVZKIzPiIOqf5rprtBf6YEAAAAaAZ49dEJ/AAAkwz+1c5Lpj9JTErGmR7oLQWAAAAAdAZ4/akJ/AAAkvxwIX87c3LMfjK6IZJ2XAQ/vGpAAAABTQZokSahBbJlMCGf//jhAAAEVT5Xd4FiypoXP3MIDOe3020EtQXwny3XOoqKG5EymQ9XXphNHtmaj9O2t1+VrkKXIQIdVZ/170mjkxXZjdOEeK8EAAAAxQZ5CRRUsK/8AABb+Tz5FO10A6UVEQhpBgzL0Y8bN4n6rG/n2/+I5/PRRXFlY0K/UgAAAACMBnmF0Qn8AACTDPgvKYIxvgAWS+GwgPvj2J73hpiJC//YMDwAAABsBnmNqQn8AACSyMKiv7RvhOvufwpdkwcwa31MAAABCQZpmSahBbJlMFEwv//3xAAADAADIyqZxMKgANWqhx/cDoCac3cKj8JziOMTlCLpoSJLfKh7xhAY06HaynxhI/q3gAAAAGQGehWpCfwAAAwAaX7hPOEWiMcTIlTZJmWEAAAEmQZqISeEKUmUwUsL//fEAAAMCtcn1qokgKBje9747ahvXeik/o3iQl++TRoYz39Gs4dQVViYobyDRkHWR4k+qsGbAZspjhAMXTwz5Q7bzdrphMcKMLWJG3wBSsWMdHr3GDo98UhkDJINm15oGPdEPnB34QxfByRGPLkr1vns+VcpdcO+loYpjUqPUBzad5Loke6ZZM0Pe6A2Gv2qWQfZq3XTh3Vo0Dlbc8mtaWnsQFXy84mqJcu5jPR77YsdmtYSBXZmOE9Qr7bC2oTiJrnpv7rMj+HfI2HEe2WAxiGCKMosogKmsESRVie6/7bga3KBHvDrhX9JzJCLSJI6d8OH9E4jtuXkxRK6V8EsZV7iowxLV36d+GS/DInplRQM5Xlxa+rfX0A9CAAAALAGep2pCfwAAJLHK7n1LzVeYY/KfDZbkou49ln8knI1gFN8/tz7Y7UG/AIbRAAAArkGarEnhDomUwIX//fEAAAMCnwUdNl90cgATrHzNZ7oTtB1xiuawZtCGcJlwfzltxHN9B0o74Dg3TPOepEyLy6JLg1cnsQiBEVK8O+kcCZDkeRfxbGAzKljPSiyl9f0GtV3vqfOOWHW+cNKgE0jcjypfhzI/Jb+d0Af3FYmv1SpgnmDfohrby3bO4tx2cDQkRAGQryOitO3pQhVjvq9egCk/X0YJq70cItpaLOOCkQAAAFFBnspFFTwr/wAAFq6a0AK80NiGTUwUyXTBRU2/g55hJLEazi99AHrlCHtcfRkomuABgwpR+zYO3KTpMWQB9va7bXXb4RJibZQiy7RpIuuk8ckAAAArAZ7pdEJ/AAAjuAlH3iiXCIdYkQ2vaVmCScOu/49ptwkOnI3rk6IUIIHvIAAAADQBnutqQn8AACO/BCfuB2iBRhCUGk3m2V84hNB37IMcWjyncoPwUIAFqc81ZAcE1xHIcn9nAAAAXEGa8EmoQWiZTAhf//3xAAADAp7LW8A+c0yGTIr+Hp2thMHYiLS4uP1aTdTaDhIQcfj94G+NVseAfun0ZMXPpfC7Y/9mz9hkJDaZ3V6DoCGG9H0GrddR5Nvo5MQkAAAAS0GfDkURLCv/AAAWtVhPmx2IAA9+JytnGWA9E1fzaxkMXb1wmi5pKDWX+p0765+9EsKqckNbEeTTfCUu0ZdRxfAgfXkoTk+joCOpAQAAACQBny10Qn8AACPDPpPA0WSKcpgBu3722/NTIeF5LWUSYEkEAYsAAAAtAZ8vakJ/AAAFHXuYAW3V3D3CF1l+UPKLKa2r5cPOYOgQFjU7ADQuqzPlgOmBAAAAcUGbNEmoQWyZTAhf//3xAAADAp/vMKb9252hl3+QhFIqaaZrUMTR5BXW5FjIAblls7FHrjjjbui70YYEExjzM91wKEEldA4PT183EGj4wZRyOlsrSc9H0O6eedBmF+BByBUC2gf5+QfJF/7lib4UVHeBAAAAP0GfUkUVLCv/AAAWtSsynJqs0cmQXr4dhAjRSGAYpkg0EEWh5T6vJmQq8cTQdIZ4BzomZEzj/0KvyPO8m90dsQAAACgBn3F0Qn8AACPDF2ipyNd9YFgi7tLXJVowm+y0xDBQMMKkE+vGRlnxAAAALAGfc2pCfwAADX906pGuFSQdG9nyISDPPYACDqg+59r+g8mJv2gTmnZYCOLAAAAAc0GbeEmoQWyZTAhf//3xAAADAp8FG9W+ITT4ScBTFLJZVfbvszaycPdANdKUghPccD16yXYWQP+H3Uk4Qpps7Ie4nHm1O3/ahf5ZHIQn9+HGjYN/AMlJxx5iYZ7Gb8m2t+Xmdp8Fy9UJhZOkMtrSJiHRiKwAAAA/QZ+WRRUsK/8AABa1N6plnYZc0OE4r15bfoCF4ZEB2VXZTsmOby8+pTxwY5qsCgg0CUGFUdlX861Ud07r0A0JAAAALgGftXRCfwAAI8MCIb5nWwk12CUrKo/+AAS1Twqtkgv6zlI0WX3NuT0tg3jrCbgAAAAiAZ+3akJ/AAANf7aMNze23O4IIjeIFoqKP7deoJJFc6KlQAAAAGJBm7xJqEFsmUwIV//94QAABBN4JT2QBePMD61Xao7AssR5F9rddbzASeH25JCD8SbD5KzQ18WqW+XovLijRoA5Gxp5v8HcCmAWEt/rtpXNQWfksG8U8Imtlz4RZESDt1FFtQAAAElBn9pFFSwr/wAAFrUPB4VGHSTQAtW7vG0MmcfV9gfnjruxx0B7Tqas/u659zneRXUMi4n+jcu7ubUBu42dQMIzAmLIa6ny8P3JAAAAJgGf+XRCfwAAI8MXaKmlVP4IBwODi+RDv7D8ddJWuiP5C7Fxgdf5AAAAJQGf+2pCfwAAIrI0+dgoC8UffDiRYOEwZnQnpHlrI48WSO7ACzgAAABkQZv+SahBbJlMFEwv//3xAAADAp/tYw6Gl1bcXGtqzrwp9zEBNPbb8ViiKqlXYL/ZI6L9kBZbAu/eJmtUoTZBJzFIlf+UPxU/TeeOqBfDjTTVF1IOUqDrad2ictqm0Nq7c1lEhAAAACUBnh1qQn8AACO/BCWPVFOgJx3upzbtZQUH2B0k5Nkxu3q64Ak5AAAAdUGaAknhClJlMCF//fEAAAMCo/3SEd4jK0MgLvUbquybm+5s14IMCiVKxcY5ECGqjBV/gmO7v1szprywrJHsL6/vWn7hrN5QW2yYjnl+am13AwhftY5iBhr6Q/SeQ3T+QR90B4FJOdmCS429eKfZhQWgzXlp8AAAADVBniBFNEwr/wAAFiuUkiOIFYetq1qHgUB3Oi9bW8GacIK84f8HrRnWuz8diFezceFNbXp8+AAAACIBnl90Qn8AACK39gZE5QWpuoh93o3uHy5Jlw+phe3qVHz5AAAAJQGeQWpCfwAADS/WNMUJADABIoe+TvIXqX/yOfpJBS0MNadLwsoAAAB9QZpGSahBaJlMCFf//eEAAAQbompyLHXVL1y42cQbbXSDcqiuyL6xNbDRuRXMW7iZf43oF1XYU20zdDodO+Pt8L5rN2l4yntk/Gwj6Shhf93x/5VLrMsJVbaoBhg3uWSNNmit6meeNSFk9q/aj5uF1zm+TuWYP9ue1MEc94EAAAApQZ5kRREsK/8AABYlWFWLFsaqS57tAqkQpXPpndDZR1mYWP+wr9yikNkAAAAdAZ6DdEJ/AAAiwz4OeNig/JALLbdz6QE0XYMV/lAAAAAeAZ6FakJ/AAADAdrNRpiZ3hGp6bgeoXq8DPFMn8+BAAAAVEGaikmoQWyZTAhf//3xAAADAo6sq6ExfUwmwbe5epDk07l2pxf8zK0HLAzLh1NpAFCAP/cfksD4v/md8MCJbo+GOExkRC5MGI4R8Mp6DT5eSt7CoAAAADJBnqhFFSwr/wAAFiMsi8SqgolGlJGv5t5+US8ADT0JoksGLvEJ1CktuvdX9PmrfdY/KwAAABsBnsd0Qn8AACKsOQWuTx9MFY3xq7i3TmYFrbUAAAAeAZ7JakJ/AAAivxrOe94JuwaEQyXwvSh4yA7sYs+AAAAAkUGazkmoQWyZTAhX//3hAAADA/Vg8PkBoyBlAVejuJEuP8d4naDjg2d4Zi6GIUcq4Y3WMJ5WPu0GGVqkUPoxVsO8xHs9UEKJFNVuzvWDMeRDG+yNfb2NSDua7MFCWtY73CKEM2Mb5wrCbc1sDLwRO9qgrM0L3X/SkDwjnXYfl7hoTdAtpmJtrRTBQAQ3MC0gU2gAAAA6QZ7sRRUsK/8AABYlKzJEf+ACZYIY8AOvRBM1ExboOTZQuHQu3FZscdPK3aEjowxQowA8ZINuux0NgQAAAB0Bnwt0Qn8AACLDF2ipxtV0yXZr+bVxWlqbs1F/mAAAACMBnw1qQn8AAA0v1i6qbgqxU0Kj6y+TRoHRQAbXeusEDYGPgQAAAGhBmxJJqEFsmUwIX//98QAAAwKOrMCnelBNgQDWQhDeNMe9LT7h7ALWc5kLWQZeyemmzJRJpJeze4p8R0ZV51irudmp4jdQGKSZrB89XtYc5cMWLhT8T5mOmjG4AoQVrOocksoDkqAeIAAAADdBnzBFFSwr/wAAFiuUVXJoW9kKEOeI+R95r1XwAnboMPWbbEeh8TCsfh5pc50bHI4CdCggCM/LAAAAHwGfT3RCfwAAIrf1tDM0Emc0vREfpklDnkQ87N0ARcEAAAAeAZ9RakJ/AAAivwQnEslpmrlQMhN3OReGlTGoIpRXAAAAQEGbVkmoQWyZTAhX//3hAAADA/ZKCcl7YELAfeCoCgJ+TwmgC7AbTMeZsFdlQW3mWZfb6XxF7NHGpoq7t2Eg8sEAAABDQZ90RRUsK/8AABYXesGDU2ocAAJ22mY5VnzeYjEEowQZIVzJ0rQ/1b1ZxIlq7GQwDL8aOaSOSf5SCMespvRjELzpgAAAACIBn5N0Qn8AACKSu9NSXs0Uy2Gg2X21eUpNrTyMFcX5EBrNAAAAFwGflWpCfwAAIr8aD4UdXkjSzAP/UpE3AAAAV0GbmkmoQWyZTAhX//3hAAADA/ZKCc24CIUI7Z395UrUGh451Z+axgiF+X3B0Vq2yFqJtguniU5WnWCBVepVN3+ebc0OdDiumcQi+ug5kQWo3Gap+hsyLAAAADlBn7hFFSwr/wAAFiuUNyLt7OtIp8BBvGblKOavbMGX+dLBfRQT6nX0YXVIfQ0rCbiQy0dc3KYVcEAAAAAqAZ/XdEJ/AAAit/W0MzQR/c0ACRRSp8suwtue5fSftpdv8g07i4BhkHSbAAAAIAGf2WpCfwAAIr8EJxLJeE6XIyddT/PRNXGYpbfnqsT5AAAARUGb3kmoQWyZTAhf//3xAAADAoz33k2hKBAAlkTzTgi9q3ZUtxyz7eQuJhrG9dme2HCzV+3PLYIYoGkjxyO/sObdu8ig/QAAAFJBn/xFFSwr/wAAFiMruUs1FZuAyN55VHpwHHCYgp5j8kJ0jNw0+zy+wZjqfAO2xLNs21WS1ZRnnX+yrqfulHN0Y9Sq/adH/ySgWYDQpylk48WAAAAAJwGeG3RCfwAAIrz4I3SwZ5Q5trR6if3usAArOCEwmqEaXLhKdmOD0gAAACEBnh1qQn8AACG/H4w3uJ8P8Csk1mPw8oW1dARGh8I+eCEAAABfQZoCSahBbJlMCF///fEAAAMCjOYV86dJHDgAbBG5lAdLl1AriR6wHr6WcZMz2VR544LkMpd4kk1qCp6FMSbMckBNl2DezEfNVcK126ko7bYTK/kFT/spXqdEfr1XRuAAAABWQZ4gRRUsK/8AABYjLCkYLhGvCAEydVVJxfEsVQr8VBsUnIWEeUlObwvwcM6pieVWqHyDpvL7Tj+CeddRgnkOZV+waG0Zix5XfUwzxumV4EHNZpW808oAAAAsAZ5fdEJ/AAAiwxdaSU8/8fFDtGdEABLH676OqznQAnJToYAvd9hn3RRASbEAAAAdAZ5BakJ/AAAivwQmbGg/VMrVBEKkjdFhOQxljFgAAACeQZpGSahBbJlMCF///fEAAAMCjQcUTqyS4A2qfxcJqMYUtIL/lwCk+juFVk6CtkGU3C70aC2jV1qb++/HUp2RvTd4CpRAK2n8szYymFLLH1g5OAGlKlbJ+kX+a8wpBi21vAAiusytD0Rqu3wtKlmSJxvEji1AaTGLiEJ+l///7Q+nTBjXc3555XwtQQDR2hks/+p6z3LjBlX5N/pY4MEAAABMQZ5kRRUsK/8AABYsN4EJJyt6RZ+UBj9LPh9k8y9AA7kUpjhj3zxEM86G2SayeRjin5qAeIEnSAc4aTLcFAQpMisaujlouIhVw7TF5QAAADUBnoN0Qn8AAA0uANIEsKABtO6v7ayzLSJmZpeVk9teBKyfefucPxEiXHreql1oGksV25/fmAAAADkBnoVqQn8AACK5wL+ZC9FCoADeicIJjjcZ3S0BjdsYITNw1sKr8mM0uQpCiZtzLHokLECGxFak7QcAAAB+QZqKSahBbJlMCF///fEAAAMCkc6qg0n4RCObac/kAoUG7nAdm3xacBVyXSV7+TqN70Nm+1n42F2buLZTqipqLNLVfFYZGYysXkIXpkRfjxLGIkz4cRPPoaigcSV2vdX7xQR9fRuLURpTVCNr4ArjIjSdzkn+5FK9tqFcmbQYAAAAQEGeqEUVLCv/AAAWJUMpqPPBXVgpBAcHuSOp+5oPirZ0zlAnlNIxi+IAQY91yY8oibKTCz5ZSx1VBkneejp8OY0AAAAdAZ7HdEJ/AAAiwtacN0NkWjqoeMG3Zgu+nk481NkAAAAlAZ7JakJ/AAAhvx+MN7qbitacST8p8jYKGjZKTXLZfgnWN06J0wAAAF5Bms5JqEFsmUwIX//98QAAAwKRyfXKfPhc4pF9VhqOTpLrMIJFU4diAEChKI7s1zvLdhn2bqCYWDO/8ynZN7ff6Hp3zCYT0ZpyzveE73DiYSOkkEM1B5bFGqxZOJuAAAAAKEGe7EUVLCv/AAAWJQqHxkVVm2lJp5nurZcD7NqH8mId+bJqU4hGZSEAAAAfAZ8LdEJ/AAAiq/hl4C9JAhvUNQNZeKDEYRJNWxSFQAAAABsBnw1qQn8AACG9loSwtYjD6AJaxvLnamt9KCEAAACYQZsSSahBbJlMCFf//eEAAAMD4W/s22SIBaRxuP3Df/2Bm77hfpYnCPn27qtWnR04gmGmzlahZs5Od2Y3l11jfTAf5Xxga/WoDEv0wRvyOojWRsm/qp0iaKM1a5FCgRK1f77AOMQPcmBg06HT5V3tdGFZ1nfgQWF/YHmILLo0CD1F9V5waMIUAGdnebqSm8dA5GfYMxs8XcMAAAArQZ8wRRUsK/8AABWTLIvXIF8ZaRJAIra8eM+DewaIrooMNvkcZf3nIG1VqQAAACEBn090Qn8AACGfmw/sszVhXerTKaci/xK4xPauFyjuaSEAAAAeAZ9RakJ/AAAhvxs+osZLU6Q4DCKE9cG9RJIR1eH3AAAAbkGbVkmoQWyZTAhX//3hAAADA+CCKrjOhcxmfeUDoJK41J5oQD+0OCTW2whU19iMC7rNhzVtR1s3GzFyVo8JMqVCMaFZ9IXWEAMYxiBFeFvsNWe+DYVzG8o2baxAZlDap7/14+wZtC/uL9GmVEu3AAAAQUGfdEUVLCv/AAAVm5Q+Upc8P4pyMchBUKMGHIf0yMwvCwMfyBEc/sOiJt0HFCRsWztEpbwDKmRQ0qG7YfPFX88cAAAAJAGfk3RCfwAAIcLsbHuK4LRiD+5UTimIN4MVHqmK3GZ9rkArUgAAADABn5VqQn8AACGeTEO9xJFzBOR8bjIAEprq3rndC/q5tfuNtx40ZDInPrfQ83E6hJEAAABzQZuaSahBbJlMCFf//eEAAAMD303hjAM3vGwT+GCqgtvIPdQzN2qeMVBzzrPoY2wongMP4BvdJH/hXRYwRoWTXtBr75fWtFjSpop9U560EAuLGxacAX00L39lerrzR2U4XNY1DYNDyBGebwds+SqAUDavkQAAADFBn7hFFSwr/wAAFYtNi6DjnllAzx3GXruE8aAoE+rLn5DnAhQ4N6zWVZaDpOW/eKQIAAAAIgGf13RCfwAAIbf1oRK9+F3wXU4WSSKkX8qDu15KP4I9PjkAAAAjAZ/ZakJ/AAAhvXPqssGDdjHOnvknnUeURjNfwqtt3QWUkYEAAABTQZveSahBbJlMCFf//eEAAAMD4EXRqMBQSuNLYj5PLAFbYULSCB+dBjwmf1upanys6X+OobJ6CAIC0BqlHuN/oeWvlCvGJpoEvef/5+Fcy/MsZbMAAAApQZ/8RRUsK/8AABWblFSxjWMe4dzpchsRURm101TFmuDZ/w/YSE1vkkAAAAAmAZ4bdEJ/AAAgw0cATGoAC6AKrjAA5FdY8sjUw0D2oYagWyKaQmAAAAAuAZ4dakJ/AAAhvwQkOrPABIPH3jFfqh6Lhm/HiyyS421ZALNwBs+AZ3ynnXjSQQAAAE5BmgJJqEFsmUwIV//94QAAAwPfTY4b850IqPMWzUAl17VsKDDxgg+tHt55beX/YJFD7n/fzfx9ZzlS1VnDqeqXpoYDngSc6sTWQUflsYAAAAAsQZ4gRRUsK/8AABWTK/vzX6ZqK1pRAB2uMtitc2BgyHMVapIis4F0nSD7vFgAAAAqAZ5fdEJ/AAAhsKtOagRfS8bkD0eRup7H3pZISxIV9HgAE3Trg0FLkcPbAAAAJwGeQWpCfwAAIbIq7q+kOYAEiiD71nc2oN+X4PHNBPnxP/VWWeKggAAAAGRBmkZJqEFsmUwIV//94QAAAwPfTYxGXfQKQgZyIgFQs13gWzETFjxytzk+ekeOV3czvocenaos+YmwVgr0IIG3SzLqfJUv7NO88w3m9iO8WTxZXZGm9pHZvo903Nba5E5HJ3LZAAAAQ0GeZEUVLCv/AAAVk0K5XwAA4iHsXr5HMWYyaaf4TRgpgPFi3+bZqUajhv4M0Rr1D/VQlU7gmDnF00CGmAz+0PUK2s0AAAA0AZ6DdEJ/AAAhwLjkxcl6fuYAEqFjtsQh6614Ffbacq3aXEHpQOBoWTAM6jH0zkeSbfOHYAAAACUBnoVqQn8AACG/BCcSyWmauFZTHyo+TWd+cMFY8gDf0sVC4OzBAAAAQEGaiUmoQWyZTAhf//3xAAADAnsFDwE6e8iH/PovSVYbO6dAmNOshtPzNy7k9aYDmoiNB8+ctdcPbllV6DtVjEgAAAAkQZ6nRRUsK/8AABWcQ823FcysmUk+B0KKy4PuZTfLZ8qhfDKhAAAAKwGeyGpCfwAAIbHMCW+pb7IVSQt0rAAtD1QGi1eIuNmHem5ycLc7c+wbFJEAAACRQZrNSahBbJlMCF///fEAAAMCf8n1mRuPwEjMAafcwLgLtlOfakyees6z8rmxLmoVR2Rbdh1NoxMkCvNaqTQIUDiwpYH3JYiU1McNIXhetcmk1Gfk8I97oHWXcOS0iHE5MLhA0pcPmOb3PCf80XLpP9dXR5aqBf6toiJBjMT6tJMq2nFIVv3eQqSY4A5Jz0v68AAAAE5BnutFFSwr/wAAFY4LE8vjhdUARMW8rbcM0OVFL8BysMr5cpNvJO5n7Mq6VKO1qQ+u98scxVnylSKtIQQUjivtFF3FU+eX46i8IBMvR3AAAAAlAZ8KdEJ/AAAhq/hbeBKdaCOIEZ65O849C0s4PdRjXJ5VJ7MHcQAAABwBnwxqQn8AACGxzAlvqW+yFUj75H5lCrpsaNrwAAAAhEGbEUmoQWyZTAhf//3xAAADAmpZVkA3i9JAS3DkayaHPLMrfHn/gTVt39eC5qs67CRIg71VtuRmOdaU7VDR+ef2TU/CVuqDrwP82jhhsdXa8NHbwRwg39OhizbdPZYErM9LM6LgtMBi5woWfkqu5x+WQA/vUWIbe/p0Tl11eMtCQEejlwAAADNBny9FFSwr/wAAFQ5cWGGmS+F3MEayAIU64H386FxX4u4iDMav4U/4LV7Ib4lF4oH0yOwAAAAeAZ9OdEJ/AAAgrDkFrk8fPyGcVwWW9igCS8rjLF4RAAAAJQGfUGpCfwAAILIrBwpDTh9U8C1UTxkjDMm1b93UwBRSkY/FWYEAAABdQZtVSahBbJlMCF///fEAAAMCalmbJJQATlvCGrZxpuuyvWswhGJbGEcuVj6xvq689bDAJTm6e3OkWxRECEOVckDFar69BgRV/74sKGLn2m97HM6FrPYmqVJAKL25AAAAPUGfc0UVLCv/AAAU9LwdIpAC10Q7PMz2X9tNgub/ZWpSoU69hs30l3Cy4zg9wlN62q44OZaQtgh0txobyoEAAAAgAZ+SdEJ/AAAgt/YAERZuq/X+o/9iUrFN7p3LpLO6DFgAAAAuAZ+UakJ/AAAgscwJb6lvshVWLOABY548rsLJIApa5y96/ch8Ols4PeQ2MDKmvgAAAFlBm5lJqEFsmUwIX//98QAAAwJqif/gkAmIeZgYB8wSdGr8pwLdNy464I+0irnk3JN5TaKTxn3elZw2QcfFGePUDfLBzo7PzqyPY5nyC4rI4W0fFp0mEgTrvwAAADNBn7dFFSwr/wAAFQuUVLGMwCHAb7X6Ev0f7792WMnrO5rMg5JgHkhC8yvd2TYcS7uyUxYAAAAjAZ/WdEJ/AAAgq/hbeBKdaCJEAGfgeyQi+j1OTnk4z8lwMWAAAAArAZ/YakJ/AAAgvZXjYzbyKTQEdyzSVihp1KNLzRzRjTqBOPY7/KZQ8fxZgQAAAH9Bm91JqEFsmUwIX//98QAAAwJpxIR8A1fHv5VQteALmMb8wzuirRKEBp8WvhxbG1coyz25k/ge8Wp/kkPf0fTP/tTATrzrdATqU7/d0DuWzruRPzYKJymzQQF9gi+mPFk0x8D88QlzngfMPx+gg4vcFuf4+FksvQpbVxlJrrtBAAAAL0Gf+0UVLCv/AAAVEEaKBFxSkrbBhUWXOzPiEhwHxLsNibXqAwd9dLmLfBIiyamBAAAALAGeGnRCfwAAIKUsMN8LzdziKjSsjQAWsPoH0J+689BwiMvWdAQWsE5mXy7gAAAAKAGeHGpCfwAAIMcLQKn/2I5gs1nD/mYyD/jdo4winF2HqB8aUCah4EAAAAA7QZoBSahBbJlMCF///fEAAAMCallUWYdSdmQKUD0YNY3vLID7uj4akMW1dMJk6AmYUB/2PKCRzhSIlPkAAAAzQZ4/RRUsK/8AABULlDcjCckeb0EWcWk8LaDGSmECHEY08928aKYCpJnNdef6Zsy96S8nAAAAIQGeXnRCfwAAILf1tDM0EMTCbQRzGAdFId54H8hfHMCkgAAAACIBnkBqQn8AACCxzAnBZF6rqodaVsy42sJgwuuQeqvF9nTBAAAASkGaRUmoQWyZTAhf//3xAAADAmqJ8resUImSl10DRxgrhXec3QmkNZVJH1AOX2PTwsVloBexil75o1axwk+E7XPgnLRG7cqtSsM4AAAAOUGeY0UVLCv/AAAVAywWsjkh0ZFE0hqnvXRAiS9FGKrGx5KM9NgA5O9MKg6uf9+c0Ren3HsA/Yv6BQAAACEBnoJ0Qn8AACCr+Ft4Ep1oI4gRnrk7sLRv4cLo2sBC11cAAAAoAZ6EakJ/AAAgucFe4hoyk3kcVkl2m6dzoh+008IgSxjoDMVBdyAEfAAAAIZBmolJqEFsmUwIX//98QAAAwJptb0xa6cYHQBcOHKQ9BxGHxxXqcqwXIyjkm0BlFCv0lZPZWmjNOJG59DVOLlYiFvuO4svQKdv9+HzUIsS+Fmbk2p26xRTFzcBTe3ujRAOcaOQJJLHxb2DhkuIS+LgmtO6xe+8OPoB4gS902wMgL5mp7MmbQAAADJBnqdFFSwr/wAAFQucR2i9pCfItQExiaKZA9aAICiK012Vv1VE4Kwkbc9xa9NNYRp6wAAAADABnsZ0Qn8AACCr+Ft4Ep1oI4gRzdF6rAAA41sQs5+pFsFTCdemGN4yDZvPeQdINgkAAAAhAZ7IakJ/AAAgscwJb6lvshVI+/w1IHfoGfTaxK+MvvehAAAAZ0GazUmoQWyZTAhX//3hAAADA8k+qL3jiAE+GbMC1DI70YKN9Xb/vWRagDozcYQ8aNwqEoCVH2h1b9VPurAalXijevoFTiSBygrhHi+VUygxxdio+DeotCxg5z74tn1cQOzVlfXCn1kAAAAvQZ7rRRUsK/8AABUFQymtojqjoYmiYgNNITGxFp3P+qged0wyFWk1tM7DxyAjqYAAAAAcAZ8KdEJ/AAAgquqsN8LzdziKjRRpaqGygIQBlQAAACIBnwxqQn8AAB/GwOYSiR3oMCm27M0S4p27iayLWWqwVS56AAAAVkGbEUmoQWyZTAhP//yEAAAOeFH0QAJmL4KRqRwx/B+HEdy9d8vYJOHmRba6disaBHW3INQrKb3LVaaEpgGrT25uPH+rPwXK7IkSVuTGE0xCwWgCOHxBAAAAMkGfL0UVLCv/AAAUdT9jyRsE8sACWqnJQDVfZ6nebgQDnBt/rdIZFyyfvfmvdJJFInegAAAALgGfTnRCfwAAH7boi04ugsPdV/voWPmeeAFetcqLO4SD2QGsx3pkAAheq/smNmEAAAAeAZ9QakJ/AAAfF/9GXvl8JP1wZUFRF6FYVf3zR13dAAAAikGbUkmoQWyZTAhX//3hAAADA7V6bHtOegCXZKMELvf8vNNQUHTiNLZnrQ/5BJPQmb/ibuOEQ4RPaKE6ETEIDTp5izrJP40Zl3WVYWePV6mbrh3WS0nLPY4QztvDDRPnHSDKfSlh9Ezimu0yCWw/3rFLpqalFRa9IYkWTHk6eSMfFrbRefXHFJ6BzwAAAFVBm3ZJ4QpSZTAhX/3hAAADA7RFczciyhAlj8+h/2zcgRDLGEd2/RNnSYbZ4IyAg7cHWX2VgPnwGgWrnpLXC7MqdDVaLQyYjcH+sgxpTxyxELOHGOajAAAAOUGflEU0TCv/AAAUbTcb/oXBzNSyO3oAE4bHiU+Jzot2FgxdJS4CyqeQq4InsuBHHX5dYH7GsS070AAAADABn7N0Qn8AAB/FvBgsalT4RBLABcTmNO+/01rSkfI4+eZFeGYRSymlS6gtBu/O1YAAAAA6AZ+1akJ/AAAfznvfVHGhCASGTiByHcp+wktrmFZGFbzISeWWwA93+lnJQ2Ywcn4CRVJhge+gWAhxwQAAAD1Bm7lJqEFomUwIT//8hAAADnPmk3SkiROi2wAXPV8Af1+/y+Q4yV5gOb4Vg68M39/8PeK6B5+a8EJLqXPAAAAAJkGf10URLCf/AAAfrbqPsOXjWWCW+c2vuefGEzQLC8YimhDbiBFwAAAAMwGf+GpCfwAAH7mnFZnbj4tPZ+bKUtyTMALR6s0m42y+tJ1ZFcQ7VImfWZ1uAIGQymmXoQAAAbhliIIADf/+9q78yytHC5UuHVl7s1Hy6Ely/YgwfWgAAAMAYJCgAAHM683Liv7/hb4AAAMBqABQQsAjwlQthIR+8Zyz1+ybwSiSQSV5QESyiYKneaTWP2dofCytGlkhGJEtgbJEJTf+KBZvgJgWP4bn013ulIRksAOS/BQLOF6933Dhcc/EUIaXh1afT60VNIm3egJ3gTxAiCmuISZZGj78yCOoZFEiBJTMIxgceZL8Qpsc8tQAVXXmUKlmNYpBQiScsfCJwr6lYNwVUQaU96kynZJxo7758e55Vde9s+PtHfg7ttg9JvMyOd9Pti7fvlbJ+eKb7PXdgeQjKxx0vLm9DlXeNnIbsUY7lKHgDVMZvJ+8T1h6jZtaAb4BZtuCSVnzXpPMHbr5LXug3lNDl8zIMeUCOTQv0wcw93p+Euq8HhRWrR4GvpylgPNYdWit5nxV4wZc5YZce28n9fmL2hdC2fjcXHSv4VJ/pfK/BB9cK42AdCT4nJkgAadvZxiPPRMzcXOaZ52OmrDa+pe7c9gPo1W+VutWfGCkxQuiFMxB37E/xxlZ+dMlKfcrWEyh1QAAAwAAAwABgQAAAIZBmiRsQr/94QAAAwOzuqlEf6/KioI1Z10bEhEWJW/pD1xZw5H/nCCzxRd8AzUkwO95VXpsCJiWpVdBihS+ZSSgyPj+VsSaelWzTYzW6oWXsPcWC8LA4EGARTL5unT2ZFv+3LT2noqHyMsAjmOj5t863z8G4L4madUrPTF9qNAhN3z2A3NfQQAAACtBnkJ4hX8AABRzK7UFuRwv5dDXsb64IIAHrO+CYav1OLzVnDX++/qoOryzAAAAIAGeYXRCfwAAH8jKWRWrJgjSvBT/VRgmN7lHbqgkyKu2AAAAFgGeY2pCfwAADD+2jDcoNcXHpmrQyoEAAABSQZpoSahBaJlMCFf//eEAAAMDtILiua3pIB8SmFIP0Wbkr5TqncOfAlZdFi4vduNWf/+af2cxwVYaCEuXaMcvYslb+5zB8O1DAQjvmJjsvg7O7wAAAClBnoZFESwr/wAAFHKfE1roER0kruD2GLgiDJDoK/QVmJGbYkLUF7OPbAAAABoBnqV0Qn8AAB/IyXc7cE5QUN4wIFQrWPF2wQAAAB8BnqdqQn8AAB+5pwXgPKFKfHsaQXoZyxHEQpUkCEpAAAAAmUGarEmoQWyZTAhX//3hAAADA7SCtOL8BtbWbJioFAR68XOUj2tY2vNq1x2kwH4T1irxas/EQMR9y/Ig4FIWOhYehy3YbRbGmM9wVlFqJBWuHw94JpqIPedw5VfEYoPn3WJIJc/bdxgBNfWyYVXQRs04bGVoeQZsgKTWg9YHJtFF54LHjMyPJc/Ym8NFMFXujdwLKUO/VBQFgQAAACxBnspFFSwr/wAAFHw3gUhJCY5hEomrhTkzIKGcNxGQSAQeBUBKrr0YuQEqQQAAACsBnul0Qn8AAB8Ioeevo2FovI/cLdQokAC6fxDJqio0vf0pIJGUm3l6Lu2AAAAALQGe62pCfwAAH8MResGxJChHbjCRtHT4ag63A6R3huefvuopAlMNvyhd4uQSpQAAAIxBmvBJqEFsmUwIX//98QAAAwJd0TW+muf4CQYDXJrPoB2bTnrSiobpGfWNT6ZrOHvoBoabelDjWUZzqpGGj1vS76+4N8ASTvecbNi5kpVnIlfkuI4NGoijAu8JnZWgmYoBQCwxy9DsesDIB4T6bQOduOqaqVanS33bIv/j7EfffQQQGB8ICIywPiKqMAAAADdBnw5FFSwr/wAAFHU3QURAAsOTy7gTSqLceotRtXPZm9w6CrhVeVlYfIk9YZUu3rpKn3i2UfSbAAAANwGfLXRCfwAAH8iYp6mxJ729et9FdI//nMIhYaC2ABOrmqrnKT7mwOE8Cark6xpgjduxwaJf/HEAAAAVAZ8vakJ/AAAfF/1WxrLAohqXKVllAAAAe0GbNEmoQWyZTAhX//3hAAADA51Nno0qma2ikefx6OCg0sOEvZUQV6VR3WVqupaMS+lcmcPELAvAv0Eu3RuvGUOQKtBl1J50BlnGawYh4DJqCP/nisTBmSp8fPPw+28C4xI9nNN6Gj4Bn8UbhibjnKBj6PalA2mCAUIyoAAAADVBn1JFFSwr/wAAE+Msi8fMCJcm3FDy+YDvhqiPbXEmxqySUwokjgYeRP4QLrk5hYihqHikgQAAACABn3F0Qn8AAB8bGw8Y2QCF9xcT+qT49izclryNcNRguwAAACoBn3NqQn8AAAv0m3Hz5tY87g6wQ9h3/xVTcHunG/XD/zhJ8uRldYJ6SSEAAABeQZt3SahBbJlMCFf//eEAAAMDnU3VeATSUyL09VXPY6Su8eqeJkYtcEtPkrfhPMZbtwH8UZaARbuF30yFzO3GW1w+Zj8A1Wq1qpalLe07tazaRCUzCnDboWPi5LAFkAAAACNBn5VFFSwr/wAAE+xDzbcV0TJloaNHK6eJdgu4uPImpS37gQAAAC4Bn7ZqQn8AAB8WwGimK2jeflHddAzF0X1QAt4lZ8KJ5CA35Q6mkpnXh7YoGz0hAAAAgUGbu0moQWyZTAhX//3hAAADA55F6+hjAFrNma1/ZtVLRbMiD527eHB8Tf/ZZ/lPdRQN7bWehM4rX5RH2YyedNiv4BCwmYu7gRa1BY+Ijjbr386j9EnhEEup3KFQfvXscMGHvuOAX7GaiyuBURm7wm9BrqqjYNfXq193RUyhB8IDmwAAAEhBn9lFFSwr/wAAE+Mwx4AiXlAX+6HuffI6KSooAudmrU4xksXlpLh3N2huNTtPCEeS1oKYKKhAgmzzSsm+8+jGnMawDn/xekEAAAAvAZ/4dEJ/AAAfCKUr6q85toimH5q74CgLSXTDDIFCHFi0Q6sCkubMEsvc7hiAdNAAAAAhAZ/6akJ/AAAe+qX4YL2Vj4qPodMhwquJgu0JnD989VKwAAAAU0Gb/0moQWyZTAhX//3hAAADA56CyYigFC4BUff46vxQkEnjZJd91Idc92nKZU8DL+Dc2Ta7FH16hIBJ0z0ewDuWq3E6tksxb3iOnkefz7ISP7odAAAAJ0GeHUUVLCv/AAAT619i2FDp6IuwLFYZO5kqTX9qriXNSofuW2n3pAAAACIBnjx0Qn8AAB62etd6AXCMI5MX0QgksVM8m2Kl9Ipur8uwAAAAGwGePmpCfwAAHwmmf1bBOfuxWmZxszTLwUZPlQAAAEFBmiNJqEFsmUwIV//94QAAAwOdTY4cA6qKirpw+l1GHHt491t901HLfumMFkAS+IA6hmLSdIkohGOC31oYg9rtBQAAADJBnkFFFSwr/wAAE+MrtQW5HC/l0NfH8EAJo2do1G5NbSyoy4Xx6K4QQCcDuccmcZ4MTQAAACoBnmB0Qn8AAB8nyYAbip+yzPr78C3N9TxuCGHY/oWFdMQRuZKANio0McAAAAAkAZ5iakJ/AAAfE+zGx2Y75rUWxhzmua1qC4be2xXCoqM7ZY+4AAAAO0GaZ0moQWyZTAhX//3hAAADA51NgzTtIPV8R9XYskb3QMm+n5zzOvgAamUC8e0kPCeQbWXlYMkFtLN5AAAAQUGehUUVLCv/AAAT40K5ZVIARbdry7wI54eUoHzcjG/UAkbB4P8SIjNvAtQcxvvZ0xKDz6ARSiAvcdAlRPQJl4DDAAAAKwGepHRCfwAAHx+LWi3ezz5wABLUbOuSR8bQ8sECJMoEae0Jfe+EAcBkGXYAAAAjAZ6makJ/AAAfDJUYXUlqKEZVqCjK6iZ33rr/uIs3kEXGwYcAAABCQZqpSahBbJlMFEwv//3xAAADAknPSQ/DfiMOnOfcC3x7+8N7f+NpND8ZVIxHrXNfTe+VQ+Lk1OfwRQTrzvyUr6NiAAAAKAGeyGpCfwAAHwyVGG5Qm+gBJdsppVgSEOIqzRgj80IcwjzD6+BwXh8AAABhQZrNSeEKUmUwIV/94QAAAwOjv+rPaBIh7jtgVrck7lqhtPACTv77V+U28ymMl1y1/Ft1GGBTM+XPZlGDbaM9wompg5tk4i/qbSS46b28pbpt2IlCqmxeMbRv97GNJte0FQAAAD1BnutFNEwr/wAAE+U+q66sLY8j2othACWTzyu56U03OcFcbpVbsmVIJ5FGWpc5wEDe5yooBQCFIlR5BQVIAAAAJwGfCnRCfwAAHwh9psIYD0ghsQfcPKM2rp1/IbRQXP9YDQcWkRK4sQAAACQBnwxqQn8AAB5ZqAgeC7s+T8LqUuwL0pDGGe6LqPpdGFHJx2gAAABOQZsRSahBaJlMCFf//eEAAAMDhkOaZEhw+geS3Gii0OB6gi4anAU3wJLAC6AlOQUKKFNGVKBqjU3yRQ0eFK6lJmvFCsOlJqPyCJdEcopxAAAAK0GfL0URLCv/AAATYjGB5uHcKK6/CB3FLcIi5jGSlZ+DkM8OT/6wl8Sx/5kAAAAjAZ9OdEJ/AAAeVul7r6bJz0VvJE+lKkx8xPzZV9IyT1WdIYAAAAAaAZ9QakJ/AAAeWagJGgdJ/4rk3uqNjf1b06QAAAAyQZtVSahBbJlMCE///IQAAA3IHxjyFAkTmUgXKfX6Jid6voL3F28kHJauC/1dYWiPIj0AAABUQZ9zRRUsK/8AABNiRsoAAiHQf7Cye9IBj7SpLvDLIWVqzF8evazge6sIFkSC6XLK+mHJOyziQ2OrcPsrGrT+1OFEApqLLRA5e/f1qP0A0k7go7/zAAAALwGfknRCfwAAHlbpB34mmXQ0IIXeQ6RGw/QAfzsOHOwwwlq26nrSvwfaPDx7dd6BAAAAJAGflGpCfwAAHlx8XN4aPVQAroNOl2XIrg5hVJzFFix70IQjPQAAAl9liIQAP//+9vD+BTY7mNCXEc3onTMfvxW4ujQ3vc4AAAMAAAMAAAjQi8FtY7AtjPgAAAWoAOQHiGKGAImKsVAliChxT4HQuQza/zUh3fFHAAc5khzp9JUSmZkfdAceY7V58wG73w3UAtk/R0dFei9tt7zxyyxz1uTiBQAu/gdOldf2SU/ngBNYE+rCAEsA4aihIlEQ1mDh7HXB0EXInWVgMeIVeHjiGd2OVqx8z4ldOv8KQHdxwjpqnPVfdqHPPgEYMTn1EOIncMRfCUDIyJXEp3a/Xmk+jtpSBDHWhttPOabp0HY11TowQKdNrrn8ZW6exl6kmo+RZzARJjWyPUkFyFQQizRjV1d4loM+qU3U/ogqkCx3MHwMsY6FU/r38lMH0iCEYiwydCIEujT1Qs7kvtk4k04HuUz84WR3kgqlKYbPiz0Cm03Cz+OD5zURumKOVClndiILP2FiTruiLMGoRIH7XQpljJgdSHdebVqOabtqLBmVP4d2TEmKOWCH14JyVOfK+ea0p02E9ywk3UH4wWcn6zIjAyj8F9e09mXPQtRAMAnL65Ngl6iP6BIsmlWoo6QJb7jkQAoA/Mh9k9OhKQRaRuuo45aGR6QJ0IAjFNLvXK+3bVXGDQwE/raIwy+VVbJaUDvCTJy5t+k50UFHv3WZC2zrhbzyPOC1hXr9hG+wCVcwqG7173Q62W0Ha6XjkBQKPq22UHSgEUFTilIUmULXXooTwhzJjNV1mz9lrSyuTv2D72xUAm/+zSmqv47w1Spqb12tR7K5+WWgIYLADCXQAAADAAADAAADAGzBAAAAiEGaJGxCv/3hAAAEE343hON0FegniwRq/8fswHvwy2PsaSOhO5S1BlVBWM0XPpJvdkWNyb6pyjBi3j8BYsemsmvy67oKn4pqMXKlxjw3oN1ZxUrFzmDcLUUje05LlrOvxysW0luYlhYTjh1RPUgYblYLQnm4H9fV+FKluroKuvlBJMRf1kjx0ysAAABDQZ5CeIV/AAAWvkuwlhm2y6VgR0OxgfV0a5VHDteRDdMsVy3g+cYz2YctvgAmcmWKemd9gceXMl5X/lW8FDrYFtbRWQAAACUBnmF0Qn8AAA1+ANNqUyttdS3HLzx2MP8fA4qwchGBGPy1uc59AAAAKwGeY2pCfwAAI78EJ2LnYlsmhkuGwB8dKvJIFFRvSViUEBSpmJSe9MLBOOAAAABOQZpoSahBaJlMCFf//eEAAAQUwUJvEyZc8lFoDsT5Gs0jM5gP7FSASAt57JT/i4bGIkDSPMWtNK0ilLtCOIpLuZz5YZnVFtj5BsxKSpHAAAAAMUGehkURLCv/AAAWtStEfXEWtl52kIBmVZjJgcC7AA6vqxbNMlaSDhq4KL4l3E0ss5MAAAAcAZ6ldEJ/AAAFIJCIb8+6P2B0wxIsYXFVLMokYAAAAB4BnqdqQn8AAAUfrgvOXUVV7yUMnyj4Cn9hYFcsFswAAABIQZqsSahBbJlMCF///fEAAAMAX2UQj+jsw17Vd48qUWFoXgUU7AG329hom9mH5HCC0LKIknGx2OLDFFAT39o9Nqq0FvZIJqmBAAAAKkGeykUVLCv/AAADAzljuekENBPnCiQxgBx4Cgujeemr/9Goz7TyhZsDgQAAABwBnul0Qn8AAAUfy+6/hbMO0Ck3HPYoirhp90nBAAAAGAGe62pCfwAABR5Yuy7Lq0JlkV4cl5dWDAAAAFNBmvBJqEFsmUwIb//+jLAAABqv5Y0IWpPAOIUEme2hy6wiO2bNfMQRR8B7LvwMQO2QfoCnfn+2kv4qMQLg+zT7jK+2CgnceL3tiT6eIzEdE1jrxAAAACVBnw5FFSwr/wAACFJwjteAeTrl8DPA7q4X5gGNIxXLBD8Mw/uBAAAAJQGfLXRCfwAABSCIJ3ONSJtQdB/s5V+CwAIPBru0wcsBanm72zAAAAAYAZ8vakJ/AAANhJ2rZgFj5jVKtmDEOI6mAAAAb0GbNEmoQWyZTAhv//6MsAAARg5b1od6wDUrOmCOec3GbTv7evdB2EK2ATDszvYGk57kYRMMeq5jWvxr2uhx8+bF9NWO0FGazAqrwwDAmNMVz+JeFx8V1y1Ssv+0yRoRHXgK3X2ZwnTlquUBiD6XjwAAAC9Bn1JFFSwr/wAAFrxEQxAAsAM/+OUATB8x5cTqyJNDB113NTytnEu50Jv/1KoYIAAAACABn3F0Qn8AACKsQlvLuIO3Og/5p28kuSqfgEjTK9A+3QAAAB4Bn3NqQn8AACPHv4z+fJHbR6sSsKdPSNUC7iwHWUEAAABAQZt4SahBbJlMCGf//jhAAAAOj56PKWKclxKx634UQTwd8YX7GbF2oA1MS5n0h9xTu0m+lz7Yvtl+3BQERWOiwAAAACNBn5ZFFSwr/wAAAwE1gQAb+jt0psjH5xkbgYcUdM7qwmyCwQAAADABn7V0Qn8AACPIa+W39AA201IkgBqcfL8oRh3gl8WKxdZlJK+JWQvb23xD42u9p6wAAAAbAZ+3akJ/AAADALpmmrYyZKBmFKAm/YF9VOqBAAAAZUGbvEmoQWyZTAhf//3xAAADAo1P3QD4nTrCjNkMsKfjptT9HTPQc0M37V6arPJPI2Z7FjsQNunnksnXTLp33kkMLBGQyuzydhs9UDs/ppAdiEYnOImlGWAHebydIC8GvVBnplRzAAAAHUGf2kUVLCv/AAAWJVsC3y52xCVs6dY/ivU/AJ2AAAAAGQGf+XRCfwAAIsNAEdn4yZnTWmOl4eRMoIAAAAAaAZ/7akJ/AAAix8dI1VRUh6cKDJimxo9ehi0AAAB0QZvgSahBbJlMCFf//eEAAAMAlyuJWUAOYbEzkEqhWRWc/+oa8z9BRxasHTlbvAdR+H7PtBHx4Hq2IX6tKgLHgJnt8UHkPQRXtGT4qIjyfCAAV5gj8/QkQLFQOOENfmGrA3/96/uapTAJhGIVuXRFcAj8oiAAAAAwQZ4eRRUsK/8AAAMDOMg7dd4Q+pc2/EWJYAHFP0STD8xiUz5MxEU+jJyM1Wlwf/zZAAAAIQGePXRCfwAABRz7qQ3ACDYwsU43opqsJ/32vMnTHnJswAAAABoBnj9qQn8AAAUdMBP6q6+YDMrKUTZ63yvivQAAACdBmiRJqEFsmUwIb//+jLAAAAoHHYo0v7CF8eiZRahpTORFV4ivwysAAABCQZ5CRRUsK/8AAAMDOMjq5mFtNCPLa8AA21IyFguGziiUpVn3B60pHEliYTl5vvxSZn6MpOiqlxdFaspQPXxFySoxAAAAHQGeYXRCfwAABR0AKZBXRYCW0dju8zSJL7B/Ho03AAAAHwGeY2pCfwAABR+uGCgsAJ2V24CXmAcGwBQACUOry2YAAABPQZpoSahBbJlMCGf//jhAAAENopN2BGHxjqIkPMHxeQJdHYtrOZV9EMNdmZ6tdQosqxBtacRYe5opNukZJfcoHNruTQLLOa9FxCubvpR3cAAAACtBnoZFFSwr/wAAFrxDzcxq4mGNxraCqpfywstPvrO2OAEKYwVpa8+Kf+DBAAAAGgGepXRCfwAADYXdM8hSTOrOleBR9ND5iCWzAAAAFgGep2pCfwAAI78EJ23MR9BpkOtkBgwAAAAXQZqsSahBbJlMCF///fEAAAMAAAMAHpEAAABBQZ7KRRUsK/8AABa5ONXeYvEACMBx0ga8mUlkJrkmTrZfx6mYaIHYeXTViq+o6J6sum1KHsFSHFBgNoGBvkQW2YEAAAAaAZ7pdEJ/AAAjwxd1aIoKA2ML2tydYOd6YVkAAAAgAZ7rakJ/AAAjvwQr1m0vewXDcZXnKNAPaFtI5Bn9QygAAABGQZrwSahBbJlMCG///oywAABGAvbyegQqkuqpDofAI+02HRUcugtu0w3J0UFN6nJPGvhvh7FzhqQI0Ym60Mc84ibAoCiR1wAAAC9Bnw5FFSwr/wAAFsCbP3ZrWv6rnuAD790HC1g+E8xN8tIOh9hqezcdiUm3RHwDkwAAACoBny10Qn8AACO4r916ygAXDBzyd1FuHuhBsYfUyPQcrCAhMELL6p/AgIAAAAArAZ8vakJ/AAAjvwQnEsmTcABbxLf9WP2y8cOhkP9HMOgKPd3zAI0RCynUqAAAAFlBmzRJqEFsmUwIb//+jLAAAEYOZhxj0AUAti61L2HOq2Gqu79GwCnM9Cc3eqP0+n7jg/PYymTu/80HbtgZVHct4OyrqSwFKDNBpNNpGnyCQQZkuwM5jfZMcQAAACBBn1JFFSwr/wAAFrxO+CyQR+RqWnLNyO4tgr6Fwg1xYAAAACABn3F0Qn8AACLDQBMuvUWiP6IUmCWS/CnJopZqTQgztwAAACABn3NqQn8AACO/C6/x8Z66JAymqTCjBkiqvoqgHLOsGQAAADxBm3hJqEFsmUwIb//+jLAAAEQOYDzQByjLRe3huuRV9k/9htr0e1qpudRJetwashtlwxQy0PdgWX+X6pgAAAAZQZ+WRRUsK/8AABa5owLLsKYHcc9GULplwQAAABMBn7V0Qn8AACLDP9UmdmEJwumXAAAAEQGft2pCfwAAAwBFfjWdTC7hAAAAG0GbvEmoQWyZTAhv//6MsAAAAwCII4DSaiAhYQAAADFBn9pFFSwr/wAAFrkztxoQAIwGSiiaIwcpmKpdvSytYM30uAOZgSLR0904SG6nib2zAAAAGQGf+XRCfwAAI8MXdWh0067K2XyWkbOc+2YAAAAnAZ/7akJ/AAAjvwQrwTnPEcW2+2/ABNg9lonw74kq/6gM57B4xttnAAAAHUGb4EmoQWyZTAhv//6MsAAAAwAHSCOgAoMF+mLAAAAAGEGeHkUVLCv/AAAWwJs/ywl8IaP+X/Zc+QAAABIBnj10Qn8AACPDF3VRUNEkwoIAAAATAZ4/akJ/AAAjvwQrwHKL1EdgwQAAABdBmiRJqEFsmUwIb//+jLAAAAMAAAMDQwAAABZBnkJFFSwr/wAAFsCbP8sJiGo5Ac+BAAAAEgGeYXRCfwAAI8MXdVFQ0STCgwAAABMBnmNqQn8AACO/BCvAcovUR2DAAAAASEGaaEmoQWyZTAhv//6MsAAAAwCIDuCBhPL7ylzH7CtkFSCjG/ECJZdpauVzui3mmGmrnxZyH0on4OmgRvbYvk7RxvQO4IrIIAAAAB1BnoZFFSwr/wAAFsCbP8sZ9t3RDRFIn4w3QbJswQAAABQBnqV0Qn8AACPDF3VTNp2dUZAvdAAAABgBnqdqQn8AACO/BCvBOdB1cZ0l6iqwO3AAAAAxQZqsSahBbJlMCGf//jhAAAEFFOxAESFCyeyWIRQI4j50awUb6L89rFYICXG6idiTgQAAAB9BnspFFSwr/wAAFsCbP8uyyvKrIcz6ji18qDl842zBAAAAHAGe6XRCfwAAI8MDoGspvtjCBfqZCLntLfgIvBkAAAAaAZ7rakJ/AAAjvwQryE6D+R/ItrsBTJHs9bMAAABIQZrwSahBbJlMCFf//eEAAAQUwLIwasQ//0tO8lMAE9B4k21BLcdjJs7HbSnvgvsx6dmOp3z25vhbAcBJ7kP+lCeOk0ozfLiwAAAAH0GfDkUVLCv/AAAWwJs/dmta/xwvigM8SkiPf7rcOSEAAAAnAZ8tdEJ/AAAjwxd1j59qO1VVDapeOxxz+OiIAAeje2AjPjONztbMAAAAIAGfL2pCfwAAI8e/i/dFlDMTO3q5i7YAJmmqRWCAcgsHAAAALUGbNEmoQWyZTAhv//6MsAAAChew2+7DMAWLOv3ZjGl2GzbDEbbFMgnsfAgFxQAAACZBn1JFFSwr/wAAFr6jngFAXyMTnKRQsi3s/SliaDVNgAAljHCXbgAAAB8Bn3F0Qn8AACPDF2ipqDdYnHBiQta1reJDRgcXc8GBAAAALAGfc2pCfwAAI78EJigGADgvU++nfXQLKguMbEUnw3pP/+ubhjfQfNYyUpyRAAAAUkGbeEmoQWyZTAhv//6MsAAARhGsEPpApWADg32TpnnDB8DwQcAimUHXM4ejhapf/kc36v4BlqdQTblGNWdWh34hh400/6pf6v7vQemNM+/QsGAAAAAhQZ+WRRUsK/8AABazR7cOD3X7j50XOkHMhM6xPyNOKtmBAAAAKQGftXRCfwAAI8LcvHv1EwXhXkAC4n6YBYiDoLLeU/JoHLgijzGjmVOSAAAAEgGft2pCfwAAI78EJxLQJACNgQAAADlBm7xJqEFsmUwIb//+jLAAAEYU4sAHbggHQo4ktxA/vWmFZcVDc7OuL1kCUd3Ojg/muBP7ESfLVZUAAAAXQZ/aRRUsK/8AABbAmz9OKeE3QfSmeOAAAAATAZ/5dEJ/AAAjwxdp9QvZK6ACygAAABMBn/tqQn8AACO/BCvAcovUR2DBAAAAJkGb4EmoQWyZTAhv//6MsAAAAwAHT9neS6CAKV2FyMfh6sbfQfbQAAAAH0GeHkUVLCv/AAADACwzNIsgff9OdB5Yv98JK5t8n6sAAAAaAZ49dEJ/AAADAEWGLtFTnkx9/IVWnUz/rFAAAAAcAZ4/akJ/AAADAEWEBobONHqn0g4A/PY11Ph24QAAABdBmiRJqEFsmUwIb//+jLAAAAMAAAMDQwAAADBBnkJFFSwr/wAAFrk4u/VqgCESOUVxDY9gY+jZJB9LHBhOOAmPefotK47BW4kA58EAAAASAZ5hdEJ/AAAjwxd1UVDRJMKDAAAAEwGeY2pCfwAAI78EK8Byi9RHYMAAAAAhQZpoSahBbJlMCG///oywAAADAAbTnQITHJoeZbAN+eW0AAAAGEGehkUVLCv/AAAWwJs/ywmIakYYH6PsWQAAABQBnqV0Qn8AACPDF3VRUNEmrpWK9AAAACwBnqdqQn8AACO/BCvBORUtuhPnDO6IABKa6v4V1t9HQNeY+bFqT9LVqpTGKAAAAFFBmqxJqEFsmUwIb//+jLAAAEYR8YAPm2JudVVniEJNU23V6wn21nvRDQvs6FKUKKAFoywIlpcbOOM0kcuZl1P+Ck+3Zhzsg+sIjIgGxKmVjccAAAAwQZ7KRRUsK/8AABa1RAeFL48U8AAiinISWCSAN/tyk8xmPw+jLJ4FAj7EmMwBWJGLAAAAGgGe6XRCfwAAI8MXdVkv07fOVl9HmZsQo59nAAAAHAGe62pCfwAAIr8b3v5M7Xc9tlYTEIxfvax2H9wAAABWQZrwSahBbJlMCGf//jhAAAEFQpsYCGBHMwvgBM0SEo1L0blSJkPQhAB2BygbHnnZsBRUYqrXJCfhgE8EmiTZZ1imPnjNaB1xbNncmYftudcZvP3WqmAAAAAXQZ8ORRUsK/8AABa+o54ggzlfx0F3RasAAAAUAZ8tdEJ/AAAjwxd1UVDRRv6Lk3AAAAAgAZ8vakJ/AAAj1SEALDuyjwQikPd9q9mcjpsI7QtxM8cAAAA7QZs0SahBbJlMCFf//eEAAAMAFYbntgALP3R41HYakIvS2bXvZ5A/E84QddL2CboW/1YjfuybET9CqTEAAAA1QZ9SRRUsK/8AABbAWesBu9gDyAEqPYGfkcYtTXRahzhtXBmLzZ5iHJ839wNBc6oCO68SO3AAAAAUAZ9xdEJ/AAAjwxdoqcWmQkthqCEAAAAxAZ9zakJ/AAAjvwQlkiTI3GkADgvU/SwO1baMkhE4fQ6aYN6oCMFCaCVqtLX5sEiAgQAAACVBm3hJqEFsmUwIb//+jLAAAEYC9ljj0mkgGNmzFDp7x06bcCVgAAAAJkGflkUVLCv/AAAWwJUZnpQZ50ShZVbmTZw/1Ag+y48+eJfJUFJNAAAALAGftXRCfwAAI8MXaKmlVE4cIAHBZt62dx1jDWXf5XozDD27tqc1siqacJkmAAAAKgGft2pCfwAAI77py4VRSgBvUJAA4L1P0sCeorRkkEmydtkD+h6/8v6lswAAABdBm7xJqEFsmUwIb//+jLAAAAMAAAMDQwAAACxBn9pFFSwr/wAAFsCbP8tCRXuAAXFKf6bgwq7+PR4HLHyw7aRdK6K/+Si24AAAABgBn/l0Qn8AACPDF3VZL9O3zlZxqUyJfJMAAAAaAZ/7akJ/AAAjvwQrwys7nAYy6H2EdvMZtmEAAAAXQZvgSahBbJlMCG///oywAAADAAADA0IAAAAWQZ4eRRUsK/8AABbAmz/LCYglI4ID1wAAABIBnj10Qn8AACPDF3VRUNEkwoIAAAATAZ4/akJ/AAAjvwQrwHKL1EdgwQAAABdBmiRJqEFsmUwIb//+jLAAAAMAAAMDQwAAABhBnkJFFSwr/wAAFsCVFyLFKEK55HJgOfEAAAASAZ5hdEJ/AAAjwxd1UVDRJMKDAAAAFAGeY2pCfwAAI77p0NU0OU3+SzxwAAAAN0GaaEmoQWyZTAhv//6MsAAARg5cIqTxvRAG+9Wfnv8UWeTQ/b3DOm++hnq2biiQ9RCGcgqZqoIAAAAVQZ6GRRUsK/8AABa1K0Mg+tMLDQR9AAAAEgGepXRCfwAAI8MXdVFQ0STCggAAAA4BnqdqQn8AAAMAAAMBqQAAAGhBmqxJqEFsmUwIb//+jLAAAEYUwIZtVdyaCgLqwDG8QtFQVqXNeJmxI3eWZlN7hMNZXgEQmOnshJbimEeBw8hwWDqa7Fsbl6UGi+JdU5B1/HPSWjnzxiP0+zZaRium7nq1HzUkkGBhwQAAAB1BnspFFSwr/wAAFrxDz4Uwz+hwHBVmfLRxcbLZgQAAAA4Bnul0Qn8AAAMAAAMBqQAAACoBnutqQn8AACOxpqWikgA2+sUAalZLY52+qO1g5cJ46HAw7okaaXGedswAAABNQZrwSahBbJlMCGf//jhAAAEO/t7xurhP3aKzWgGA6bvr+IFXeb6u1k5ET7FggqinXmDCd9yLQREk5d1ow7eEsUehAxk458zSV4VqGwYAAAAwQZ8ORRUsK/8AABa8E60mIgARezVusLxblugpgjB0pHYkrx8GElSX/0e+q32lcdtxAAAAHAGfLXRCfwAAIsM/1UlnZI9aFdCvbmrLvP2bE/wAAAAWAZ8vakJ/AAAjvwQnFcQpxfD9Ey1GrAAAAExBmzRJqEFsmUwIX//98QAAAwKfyTss3HgAV3neey6vhy+wanvBqnSqslTxNZTnmCobztq6VYpajX8fB/na5fZFhWuxACtQ4Qi3WBWLAAAAIkGfUkUVLCv/AAAWtT9jxUriBr/Fok0GYofQZ8nMVMJXPBgAAAAdAZ9xdEJ/AAAjwxdp9wlpYmACWKfl3q6vBevcAwcAAAAwAZ9zakJ/AAAivxxY96Bz2Sh6AA49PDEwfaQMJydZtnq+xwd1dLyY8Ctn4Ajk9EBBAAAAYUGbeEmoQWyZTAhv//6MsAAARhTAjn/ADb9ShIe9An/+6/5wWA91vduLEKCQ6gZevzKmEZvvo43F97IEG1mttqxVyIZzgK4gc9fBHhhdOFbVJ7waEMSAF4/xSuLnAmDmGCAAAAAwQZ+WRRUsK/8AABa1Q1WnI6qofAUJaBdW2cu1tACg7PrXBMU3WIUR1LQC1PMmTBHxAAAAIQGftXRCfwAAI8MXaKmfi9wQ6/3CAFTwQmE1QpnumZAIuAAAABwBn7dqQn8AACK/HAmQariMkdkApHPfR00kSN6BAAAAPEGbvEmoQWyZTAhv//6MsAAAAwFv9h803CGlBdZq300VGrn02UAX2ug6McAH3X3sweOWg2FYgvAr0tDKgQAAACFBn9pFFSwr/wAAFjCfmfFMFbwtBSLetfftyw8A9p3QjAgAAAAtAZ/5dEJ/AAAiw0AS4OiVCeYAHHrSbz8+zW50kNCYS+b47aOCdw/jRZqOYHJAAAAAGQGf+2pCfwAAIr8b2rt/wd1I/HTygkSSxMEAAAAvQZvgSahBbJlMCG///oywAAADABQPqb9bHQHXHNWdtSgACpXtw9mqCLbsG9pYL4AAAAAcQZ4eRRUsK/8AABYwn5CKrDBLfhmu+lYbhZwO4QAAACwBnj10Qn8AACLDP7VzdGxnMkvrqAEe6FeW3FUL5J3omPrCI3S+fGpws85yQAAAABMBnj9qQn8AACK/G9j1s0BY5fVBAAAAHkGaJEmoQWyZTAhv//6MsAAAGec+wBuCfDUqAeABgQAAABNBnkJFFSwr/wAAFjCfkDJdTsQ9AAAAEAGeYXRCfwAAIsM/seuj8Q8AAAARAZ5jakJ/AAAivxvY9bL8Q8AAAAAXQZpoSahBbJlMCG///oywAAADAAADA0IAAAAcQZ6GRRUsK/8AAAMABnAa1TkTVyxNUsmQpONJswAAABYBnqV0Qn8AAAMACj+XxM3iZpmIYVigAAAAFwGep2pCfwAAAwAKPlylc93LMAj7U9TuAAAAO0GarEmoQWyZTAhv//6MsAAAREyZb5RAJoXNl4aMmiIXV2BDUe2po15y+2fzv//fsRjlgz8CjNlogqFJAAAAO0GeykUVLCv/AAAWGDWvJAAceyChVPmPhXTkfeMQhlhk3Df3v9oQndA5KFuDekIwGhav3bYCiqAOpU+BAAAAGQGe6XRCfwAAIsM/tXfhyhw7wDttWeF7/PkAAAApAZ7rakJ/AAAjx7+M8MXkagAtwBdj6ylHOnRTUEY933PE1u6C6FBf/nwAAAA0QZrwSahBbJlMCGf//jhAAAEFQpsYBqzFY0X2qtWn0EVNmZx0zABkt2I6mtQ9f7VsRPlZiwAAABZBnw5FFSwr/wAAFr6jniCDON1AwHrhAAAAEAGfLXRCfwAAIsM/seuj8Q8AAAASAZ8vakJ/AAAivxvY+zHrSXPgAAAAPkGbNEmoQWyZTAhX//3hAAADAAf3zZDqOSAD266cLclz3mG+fT+D943AmAxXLx4PMWZpISmIHx6iptjQ9O+nAAAAHkGfUkUVLCv/AAAWwJ+Zafz+HTMvoFCqtAfQhBgSCwAAABoBn3F0Qn8AAAMAtfoYOef0+ZKH/JG63hJ8ZQAAABUBn3NqQn8AAAMB26DL0O875mYn0+8AAAA7QZt4SahBbJlMCG///oywAABGfghF+rOAHSPXCZp6sh1jn/9BMddxjU/r9XykqYSTvVkOh+sO8rPGTCgAAABIQZ+WRRUsK/8AABYYZNPWoADgvXmeDoOy+kNRHwF0jOpMSf9SuO3NiuhykVOHmuhbUfwzzVfU3hYfHMlfDdXvVR8/uloM5nPhAAAAHQGftXRCfwAAIsM+Dnh7ps8hGFao4aY2MyDyQGLAAAAAKAGft2pCfwAAIr8cVWtdABc9XwJ3tB7YSkyc0kF/rmu2ibBTsY0R3CcAAAAfQZu8SahBbJlMCG///oywAABEFHTiXD+jfV6RmQB8wQAAACFBn9pFFSwr/wAAFjCfk5y3STzYyr26X/NxsiyQnWhPjKAAAAAbAZ/5dEJ/AAAiuMH1EO8fohq9kvwMj4/RR/nwAAAAJwGf+2pCfwAAIr8b6hY4yB8AC1EZVCG+DJxTFmr47ppFI/xOMJLjKQAAABdBm+BJqEFsmUwIb//+jLAAAAMAAAMDQgAAABRBnh5FFSwr/wAAFjCfkDIWEtQZvwAAABABnj10Qn8AACLDP7Hro/EPAAAAEQGeP2pCfwAAIr8b2PWy/EPBAAAAQEGaJEmoQWyZTAhn//44QAABBUKGAARiQgPgmxZlhjSCHG1q584ux21IRDKMwXgG5I519ydXWl8AoBuYplrLIg0AAAAeQZ5CRRUsK/8AABYlWllHAAllwybT2G3ZTsKfCcJxAAAAEAGeYXRCfwAAIsM/seuj8Q8AAAAaAZ5jakJ/AAADABnJP3Yegd3nauuyeRYA6nwAAAAlQZpoSahBbJlMCE///IQAAA+ByjkqNoC3ID2sAK695DLSyrrvQAAAABxBnoZFFSwr/wAAFixO42gMsPzGOChTpB6qH7hPAAAAHAGepXRCfwAAAwAZvCvebomw+XB6dCEEIu39z4AAAAARAZ6nakJ/AAAivxvY9bL8Q8AAADIFbW9vdgAAAGxtdmhkAAAAAAAAAAAAAAAAAAAD6AAAgtwAAQAAAQAAAAAAAAAAAAAAAAEAAAAAAAAAAAAAAAAAAAABAAAAAAAAAAAAAAAAAABAAAAAAAAAAAAAAAAAAAAAAAAAAAAAAAAAAAAAAAAAAgAAMS90cmFrAAAAXHRraGQAAAADAAAAAAAAAAAAAAABAAAAAAAAgtwAAAAAAAAAAAAAAAAAAAAAAAEAAAAAAAAAAAAAAAAAAAABAAAAAAAAAAAAAAAAAABAAAAAAmAAAAGQAAAAAAAkZWR0cwAAABxlbHN0AAAAAAAAAAEAAILcAAAEAAABAAAAADCnbWRpYQAAACBtZGhkAAAAAAAAAAAAAAAAAAA8AAAH2gBVxAAAAAAALWhkbHIAAAAAAAAAAHZpZGUAAAAAAAAAAAAAAABWaWRlb0hhbmRsZXIAAAAwUm1pbmYAAAAUdm1oZAAAAAEAAAAAAAAAAAAAACRkaW5mAAAAHGRyZWYAAAAAAAAAAQAAAAx1cmwgAAAAAQAAMBJzdGJsAAAAlnN0c2QAAAAAAAAAAQAAAIZhdmMxAAAAAAAAAAEAAAAAAAAAAAAAAAAAAAAAAmABkABIAAAASAAAAAAAAAABAAAAAAAAAAAAAAAAAAAAAAAAAAAAAAAAAAAAAAAAAAAAGP//AAAAMGF2Y0MBZAAe/+EAGGdkAB6s2UCYM6EAAAMAAQAAAwA8DxYtlgEABWjr5yyLAAAAGHN0dHMAAAAAAAAAAQAAA+0AAAIAAAAAJHN0c3MAAAAAAAAABQAAAAEAAAD7AAAB9QAAAu8AAAMlAAAfQGN0dHMAAAAAAAAD5gAAAAEAAAQAAAAAAQAACgAAAAABAAAEAAAAAAEAAAAAAAAAAQAAAgAAAAABAAAKAAAAAAEAAAQAAAAAAQAAAAAAAAABAAACAAAAAAEAAAoAAAAAAQAABAAAAAABAAAAAAAAAAEAAAIAAAAAAQAACgAAAAABAAAEAAAAAAEAAAAAAAAAAQAAAgAAAAABAAAKAAAAAAEAAAQAAAAAAQAAAAAAAAABAAACAAAAAAEAAAoAAAAAAQAABAAAAAABAAAAAAAAAAEAAAIAAAAAAQAACgAAAAABAAAEAAAAAAEAAAAAAAAAAQAAAgAAAAABAAAIAAAAAAIAAAIAAAAAAQAACgAAAAABAAAEAAAAAAEAAAAAAAAAAQAAAgAAAAABAAAKAAAAAAEAAAQAAAAAAQAAAAAAAAABAAACAAAAAAEAAAoAAAAAAQAABAAAAAABAAAAAAAAAAEAAAIAAAAAAQAACgAAAAABAAAEAAAAAAEAAAAAAAAAAQAAAgAAAAABAAAKAAAAAAEAAAQAAAAAAQAAAAAAAAABAAACAAAAAAEAAAoAAAAAAQAABAAAAAABAAAAAAAAAAEAAAIAAAAAAQAACgAAAAABAAAEAAAAAAEAAAAAAAAAAQAAAgAAAAABAAAKAAAAAAEAAAQAAAAAAQAAAAAAAAABAAACAAAAAAEAAAoAAAAAAQAABAAAAAABAAAAAAAAAAEAAAIAAAAAAQAACgAAAAABAAAEAAAAAAEAAAAAAAAAAQAAAgAAAAABAAAKAAAAAAEAAAQAAAAAAQAAAAAAAAABAAACAAAAAAEAAAoAAAAAAQAABAAAAAABAAAAAAAAAAEAAAIAAAAAAQAACgAAAAABAAAEAAAAAAEAAAAAAAAAAQAAAgAAAAABAAAIAAAAAAIAAAIAAAAAAQAACgAAAAABAAAEAAAAAAEAAAAAAAAAAQAAAgAAAAABAAAKAAAAAAEAAAQAAAAAAQAAAAAAAAABAAACAAAAAAEAAAoAAAAAAQAABAAAAAABAAAAAAAAAAEAAAIAAAAAAQAACgAAAAABAAAEAAAAAAEAAAAAAAAAAQAAAgAAAAABAAAKAAAAAAEAAAQAAAAAAQAAAAAAAAABAAACAAAAAAEAAAoAAAAAAQAABAAAAAABAAAAAAAAAAEAAAIAAAAAAQAACgAAAAABAAAEAAAAAAEAAAAAAAAAAQAAAgAAAAABAAAKAAAAAAEAAAQAAAAAAQAAAAAAAAABAAACAAAAAAEAAAoAAAAAAQAABAAAAAABAAAAAAAAAAEAAAIAAAAAAQAACgAAAAABAAAEAAAAAAEAAAAAAAAAAQAAAgAAAAABAAAKAAAAAAEAAAQAAAAAAQAAAAAAAAABAAACAAAAAAEAAAoAAAAAAQAABAAAAAABAAAAAAAAAAEAAAIAAAAAAQAACgAAAAABAAAEAAAAAAEAAAAAAAAAAQAAAgAAAAABAAAKAAAAAAEAAAQAAAAAAQAAAAAAAAABAAACAAAAAAEAAAoAAAAAAQAABAAAAAABAAAAAAAAAAEAAAIAAAAAAQAACgAAAAABAAAEAAAAAAEAAAAAAAAAAQAAAgAAAAABAAAKAAAAAAEAAAQAAAAAAQAAAAAAAAABAAACAAAAAAEAAAoAAAAAAQAABAAAAAABAAAAAAAAAAEAAAIAAAAAAQAACgAAAAABAAAEAAAAAAEAAAAAAAAAAQAAAgAAAAABAAAKAAAAAAEAAAQAAAAAAQAAAAAAAAABAAACAAAAAAEAAAoAAAAAAQAABAAAAAABAAAAAAAAAAEAAAIAAAAAAQAACgAAAAABAAAEAAAAAAEAAAAAAAAAAQAAAgAAAAABAAAKAAAAAAEAAAQAAAAAAQAAAAAAAAABAAACAAAAAAEAAAoAAAAAAQAABAAAAAABAAAAAAAAAAEAAAIAAAAAAQAACgAAAAABAAAEAAAAAAEAAAAAAAAAAQAAAgAAAAABAAAKAAAAAAEAAAQAAAAAAQAAAAAAAAABAAACAAAAAAEAAAoAAAAAAQAABAAAAAABAAAAAAAAAAEAAAIAAAAAAQAACgAAAAABAAAEAAAAAAEAAAAAAAAAAQAAAgAAAAABAAAKAAAAAAEAAAQAAAAAAQAAAAAAAAABAAACAAAAAAEAAAoAAAAAAQAABAAAAAABAAAAAAAAAAEAAAIAAAAAAQAACgAAAAABAAAEAAAAAAEAAAAAAAAAAQAAAgAAAAABAAAKAAAAAAEAAAQAAAAAAQAAAAAAAAABAAACAAAAAAEAAAoAAAAAAQAABAAAAAABAAAAAAAAAAEAAAIAAAAAAQAACgAAAAABAAAEAAAAAAEAAAAAAAAAAQAAAgAAAAABAAAKAAAAAAEAAAQAAAAAAQAAAAAAAAABAAACAAAAAAEAAAoAAAAAAQAABAAAAAABAAAAAAAAAAEAAAIAAAAAAQAACgAAAAABAAAEAAAAAAEAAAAAAAAAAQAAAgAAAAABAAAKAAAAAAEAAAQAAAAAAQAAAAAAAAABAAACAAAAAAEAAAoAAAAAAQAABAAAAAABAAAAAAAAAAEAAAIAAAAAAQAACgAAAAABAAAEAAAAAAEAAAAAAAAAAQAAAgAAAAABAAAIAAAAAAIAAAIAAAAAAQAABAAAAAABAAAKAAAAAAEAAAQAAAAAAQAAAAAAAAABAAACAAAAAAEAAAoAAAAAAQAABAAAAAABAAAAAAAAAAEAAAIAAAAAAQAACgAAAAABAAAEAAAAAAEAAAAAAAAAAQAAAgAAAAABAAAKAAAAAAEAAAQAAAAAAQAAAAAAAAABAAACAAAAAAEAAAoAAAAAAQAABAAAAAABAAAAAAAAAAEAAAIAAAAAAQAACgAAAAABAAAEAAAAAAEAAAAAAAAAAQAAAgAAAAABAAAKAAAAAAEAAAQAAAAAAQAAAAAAAAABAAACAAAAAAEAAAoAAAAAAQAABAAAAAABAAAAAAAAAAEAAAIAAAAAAQAACgAAAAABAAAEAAAAAAEAAAAAAAAAAQAAAgAAAAABAAAKAAAAAAEAAAQAAAAAAQAAAAAAAAABAAACAAAAAAEAAAoAAAAAAQAABAAAAAABAAAAAAAAAAEAAAIAAAAAAQAACgAAAAABAAAEAAAAAAEAAAAAAAAAAQAAAgAAAAABAAAKAAAAAAEAAAQAAAAAAQAAAAAAAAABAAACAAAAAAEAAAoAAAAAAQAABAAAAAABAAAAAAAAAAEAAAIAAAAAAQAACgAAAAABAAAEAAAAAAEAAAAAAAAAAQAAAgAAAAABAAAKAAAAAAEAAAQAAAAAAQAAAAAAAAABAAACAAAAAAEAAAoAAAAAAQAABAAAAAABAAAAAAAAAAEAAAIAAAAAAQAACgAAAAABAAAEAAAAAAEAAAAAAAAAAQAAAgAAAAABAAAKAAAAAAEAAAQAAAAAAQAAAAAAAAABAAACAAAAAAEAAAoAAAAAAQAABAAAAAABAAAAAAAAAAEAAAIAAAAAAQAACgAAAAABAAAEAAAAAAEAAAAAAAAAAQAAAgAAAAABAAAKAAAAAAEAAAQAAAAAAQAAAAAAAAABAAACAAAAAAEAAAoAAAAAAQAABAAAAAABAAAAAAAAAAEAAAIAAAAAAQAACgAAAAABAAAEAAAAAAEAAAAAAAAAAQAAAgAAAAABAAAKAAAAAAEAAAQAAAAAAQAAAAAAAAABAAACAAAAAAEAAAoAAAAAAQAABAAAAAABAAAAAAAAAAEAAAIAAAAAAQAACgAAAAABAAAEAAAAAAEAAAAAAAAAAQAAAgAAAAABAAAKAAAAAAEAAAQAAAAAAQAAAAAAAAABAAACAAAAAAEAAAoAAAAAAQAABAAAAAABAAAAAAAAAAEAAAIAAAAAAQAACgAAAAABAAAEAAAAAAEAAAAAAAAAAQAAAgAAAAABAAAKAAAAAAEAAAQAAAAAAQAAAAAAAAABAAACAAAAAAEAAAoAAAAAAQAABAAAAAABAAAAAAAAAAEAAAIAAAAAAQAACgAAAAABAAAEAAAAAAEAAAAAAAAAAQAAAgAAAAABAAAKAAAAAAEAAAQAAAAAAQAAAAAAAAABAAACAAAAAAEAAAoAAAAAAQAABAAAAAABAAAAAAAAAAEAAAIAAAAAAQAACgAAAAABAAAEAAAAAAEAAAAAAAAAAQAAAgAAAAABAAAKAAAAAAEAAAQAAAAAAQAAAAAAAAABAAACAAAAAAEAAAoAAAAAAQAABAAAAAABAAAAAAAAAAEAAAIAAAAAAQAACgAAAAABAAAEAAAAAAEAAAAAAAAAAQAAAgAAAAABAAAKAAAAAAEAAAQAAAAAAQAAAAAAAAABAAACAAAAAAEAAAoAAAAAAQAABAAAAAABAAAAAAAAAAEAAAIAAAAAAQAACgAAAAABAAAEAAAAAAEAAAAAAAAAAQAAAgAAAAABAAAKAAAAAAEAAAQAAAAAAQAAAAAAAAABAAACAAAAAAEAAAoAAAAAAQAABAAAAAABAAAAAAAAAAEAAAIAAAAAAQAACAAAAAACAAACAAAAAAEAAAoAAAAAAQAABAAAAAABAAAAAAAAAAEAAAIAAAAAAQAACgAAAAABAAAEAAAAAAEAAAAAAAAAAQAAAgAAAAABAAAKAAAAAAEAAAQAAAAAAQAAAAAAAAABAAACAAAAAAEAAAoAAAAAAQAABAAAAAABAAAAAAAAAAEAAAIAAAAAAQAACgAAAAABAAAEAAAAAAEAAAAAAAAAAQAAAgAAAAABAAAKAAAAAAEAAAQAAAAAAQAAAAAAAAABAAACAAAAAAEAAAoAAAAAAQAABAAAAAABAAAAAAAAAAEAAAIAAAAAAQAACgAAAAABAAAEAAAAAAEAAAAAAAAAAQAAAgAAAAABAAAKAAAAAAEAAAQAAAAAAQAAAAAAAAABAAACAAAAAAEAAAoAAAAAAQAABAAAAAABAAAAAAAAAAEAAAIAAAAAAQAACgAAAAABAAAEAAAAAAEAAAAAAAAAAQAAAgAAAAABAAAKAAAAAAEAAAQAAAAAAQAAAAAAAAABAAACAAAAAAEAAAoAAAAAAQAABAAAAAABAAAAAAAAAAEAAAIAAAAAAQAACgAAAAABAAAEAAAAAAEAAAAAAAAAAQAAAgAAAAABAAAKAAAAAAEAAAQAAAAAAQAAAAAAAAABAAACAAAAAAEAAAoAAAAAAQAABAAAAAABAAAAAAAAAAEAAAIAAAAAAQAACgAAAAABAAAEAAAAAAEAAAAAAAAAAQAAAgAAAAABAAAGAAAAAAEAAAIAAAAAAQAABAAAAAABAAAKAAAAAAEAAAQAAAAAAQAAAAAAAAABAAACAAAAAAEAAAoAAAAAAQAABAAAAAABAAAAAAAAAAEAAAIAAAAAAQAACgAAAAABAAAEAAAAAAEAAAAAAAAAAQAAAgAAAAABAAAKAAAAAAEAAAQAAAAAAQAAAAAAAAABAAACAAAAAAEAAAoAAAAAAQAABAAAAAABAAAAAAAAAAEAAAIAAAAAAQAACgAAAAABAAAEAAAAAAEAAAAAAAAAAQAAAgAAAAABAAAKAAAAAAEAAAQAAAAAAQAAAAAAAAABAAACAAAAAAEAAAoAAAAAAQAABAAAAAABAAAAAAAAAAEAAAIAAAAAAQAACgAAAAABAAAEAAAAAAEAAAAAAAAAAQAAAgAAAAABAAAKAAAAAAEAAAQAAAAAAQAAAAAAAAABAAACAAAAAAEAAAoAAAAAAQAABAAAAAABAAAAAAAAAAEAAAIAAAAAAQAACgAAAAABAAAEAAAAAAEAAAAAAAAAAQAAAgAAAAABAAAKAAAAAAEAAAQAAAAAAQAAAAAAAAABAAACAAAAAAEAAAoAAAAAAQAABAAAAAABAAAAAAAAAAEAAAIAAAAAAQAACgAAAAABAAAEAAAAAAEAAAAAAAAAAQAAAgAAAAABAAAKAAAAAAEAAAQAAAAAAQAAAAAAAAABAAACAAAAAAEAAAoAAAAAAQAABAAAAAABAAAAAAAAAAEAAAIAAAAAAQAACgAAAAABAAAEAAAAAAEAAAAAAAAAAQAAAgAAAAABAAAKAAAAAAEAAAQAAAAAAQAAAAAAAAABAAACAAAAAAEAAAoAAAAAAQAABAAAAAABAAAAAAAAAAEAAAIAAAAAAQAACgAAAAABAAAEAAAAAAEAAAAAAAAAAQAAAgAAAAABAAAKAAAAAAEAAAQAAAAAAQAAAAAAAAABAAACAAAAAAEAAAoAAAAAAQAABAAAAAABAAAAAAAAAAEAAAIAAAAAAQAACgAAAAABAAAEAAAAAAEAAAAAAAAAAQAAAgAAAAABAAAKAAAAAAEAAAQAAAAAAQAAAAAAAAABAAACAAAAAAEAAAYAAAAAAQAAAgAAAAABAAAGAAAAAAEAAAIAAAAAAQAACgAAAAABAAAEAAAAAAEAAAAAAAAAAQAAAgAAAAABAAAKAAAAAAEAAAQAAAAAAQAAAAAAAAABAAACAAAAAAEAAAoAAAAAAQAABAAAAAABAAAAAAAAAAEAAAIAAAAAAQAACgAAAAABAAAEAAAAAAEAAAAAAAAAAQAAAgAAAAABAAAKAAAAAAEAAAQAAAAAAQAAAAAAAAABAAACAAAAAAEAAAYAAAAAAQAAAgAAAAABAAAKAAAAAAEAAAQAAAAAAQAAAAAAAAABAAACAAAAAAEAAAoAAAAAAQAABAAAAAABAAAAAAAAAAEAAAIAAAAAAQAACgAAAAABAAAEAAAAAAEAAAAAAAAAAQAAAgAAAAABAAAKAAAAAAEAAAQAAAAAAQAAAAAAAAABAAACAAAAAAEAAAoAAAAAAQAABAAAAAABAAAAAAAAAAEAAAIAAAAAAQAACgAAAAABAAAEAAAAAAEAAAAAAAAAAQAAAgAAAAABAAAKAAAAAAEAAAQAAAAAAQAAAAAAAAABAAACAAAAAAEAAAoAAAAAAQAABAAAAAABAAAAAAAAAAEAAAIAAAAAAQAACgAAAAABAAAEAAAAAAEAAAAAAAAAAQAAAgAAAAABAAAKAAAAAAEAAAQAAAAAAQAAAAAAAAABAAACAAAAAAEAAAoAAAAAAQAABAAAAAABAAAAAAAAAAEAAAIAAAAAAQAACgAAAAABAAAEAAAAAAEAAAAAAAAAAQAAAgAAAAABAAAKAAAAAAEAAAQAAAAAAQAAAAAAAAABAAACAAAAAAEAAAoAAAAAAQAABAAAAAABAAAAAAAAAAEAAAIAAAAAAQAACgAAAAABAAAEAAAAAAEAAAAAAAAAAQAAAgAAAAABAAAKAAAAAAEAAAQAAAAAAQAAAAAAAAABAAACAAAAAAEAAAoAAAAAAQAABAAAAAABAAAAAAAAAAEAAAIAAAAAAQAACgAAAAABAAAEAAAAAAEAAAAAAAAAAQAAAgAAAAABAAAIAAAAAAIAAAIAAAAAAQAACgAAAAABAAAEAAAAAAEAAAAAAAAAAQAAAgAAAAABAAAKAAAAAAEAAAQAAAAAAQAAAAAAAAABAAACAAAAAAEAAAoAAAAAAQAABAAAAAABAAAAAAAAAAEAAAIAAAAAAQAACgAAAAABAAAEAAAAAAEAAAAAAAAAAQAAAgAAAAABAAAKAAAAAAEAAAQAAAAAAQAAAAAAAAABAAACAAAAAAEAAAoAAAAAAQAABAAAAAABAAAAAAAAAAEAAAIAAAAAAQAACgAAAAABAAAEAAAAAAEAAAAAAAAAAQAAAgAAAAABAAAKAAAAAAEAAAQAAAAAAQAAAAAAAAABAAACAAAAAAEAAAoAAAAAAQAABAAAAAABAAAAAAAAAAEAAAIAAAAAAQAACgAAAAABAAAEAAAAAAEAAAAAAAAAAQAAAgAAAAABAAAEAAAAAAEAAAoAAAAAAQAABAAAAAABAAAAAAAAAAEAAAIAAAAAAQAACAAAAAACAAACAAAAAAEAAAQAAAAAAQAACgAAAAABAAAEAAAAAAEAAAAAAAAAAQAAAgAAAAABAAAKAAAAAAEAAAQAAAAAAQAAAAAAAAABAAACAAAAAAEAAAoAAAAAAQAABAAAAAABAAAAAAAAAAEAAAIAAAAAAQAACgAAAAABAAAEAAAAAAEAAAAAAAAAAQAAAgAAAAABAAAKAAAAAAEAAAQAAAAAAQAAAAAAAAABAAACAAAAAAEAAAgAAAAAAgAAAgAAAAABAAAKAAAAAAEAAAQAAAAAAQAAAAAAAAABAAACAAAAAAEAAAoAAAAAAQAABAAAAAABAAAAAAAAAAEAAAIAAAAAAQAACgAAAAABAAAEAAAAAAEAAAAAAAAAAQAAAgAAAAABAAAKAAAAAAEAAAQAAAAAAQAAAAAAAAABAAACAAAAAAEAAAYAAAAAAQAAAgAAAAABAAAKAAAAAAEAAAQAAAAAAQAAAAAAAAABAAACAAAAAAEAAAoAAAAAAQAABAAAAAABAAAAAAAAAAEAAAIAAAAAAQAACgAAAAABAAAEAAAAAAEAAAAAAAAAAQAAAgAAAAABAAAEAAAAAAEAAAoAAAAAAQAABAAAAAABAAAAAAAAAAEAAAIAAAAAAQAACgAAAAABAAAEAAAAAAEAAAAAAAAAAQAAAgAAAAABAAAKAAAAAAEAAAQAAAAAAQAAAAAAAAABAAACAAAAAAEAAAoAAAAAAQAABAAAAAABAAAAAAAAAAEAAAIAAAAAAQAACgAAAAABAAAEAAAAAAEAAAAAAAAAAQAAAgAAAAABAAAKAAAAAAEAAAQAAAAAAQAAAAAAAAABAAACAAAAAAEAAAoAAAAAAQAABAAAAAABAAAAAAAAAAEAAAIAAAAAAQAACgAAAAABAAAEAAAAAAEAAAAAAAAAAQAAAgAAAAABAAAKAAAAAAEAAAQAAAAAAQAAAAAAAAABAAACAAAAAAEAAAoAAAAAAQAABAAAAAABAAAAAAAAAAEAAAIAAAAAAQAACgAAAAABAAAEAAAAAAEAAAAAAAAAAQAAAgAAAAABAAAKAAAAAAEAAAQAAAAAAQAAAAAAAAABAAACAAAAAAEAAAoAAAAAAQAABAAAAAABAAAAAAAAAAEAAAIAAAAAAQAACgAAAAABAAAEAAAAAAEAAAAAAAAAAQAAAgAAAAABAAAKAAAAAAEAAAQAAAAAAQAAAAAAAAABAAACAAAAAAEAAAoAAAAAAQAABAAAAAABAAAAAAAAAAEAAAIAAAAAAQAACgAAAAABAAAEAAAAAAEAAAAAAAAAAQAAAgAAAAABAAAKAAAAAAEAAAQAAAAAAQAAAAAAAAABAAACAAAAAAEAAAoAAAAAAQAABAAAAAABAAAAAAAAAAEAAAIAAAAAAQAACgAAAAABAAAEAAAAAAEAAAAAAAAAAQAAAgAAAAABAAAKAAAAAAEAAAQAAAAAAQAAAAAAAAABAAACAAAAAAEAAAoAAAAAAQAABAAAAAABAAAAAAAAAAEAAAIAAAAAAQAACgAAAAABAAAEAAAAAAEAAAAAAAAAAQAAAgAAAAABAAAKAAAAAAEAAAQAAAAAAQAAAAAAAAABAAACAAAAAAEAAAoAAAAAAQAABAAAAAABAAAAAAAAAAEAAAIAAAAAAQAACgAAAAABAAAEAAAAAAEAAAAAAAAAAQAAAgAAAAABAAAKAAAAAAEAAAQAAAAAAQAAAAAAAAABAAACAAAAAAEAAAoAAAAAAQAABAAAAAABAAAAAAAAAAEAAAIAAAAAAQAACgAAAAABAAAEAAAAAAEAAAAAAAAAAQAAAgAAAAABAAAKAAAAAAEAAAQAAAAAAQAAAAAAAAABAAACAAAAAAEAAAoAAAAAAQAABAAAAAABAAAAAAAAAAEAAAIAAAAAAQAACgAAAAABAAAEAAAAAAEAAAAAAAAAAQAAAgAAAAABAAAKAAAAAAEAAAQAAAAAAQAAAAAAAAABAAACAAAAAAEAAAoAAAAAAQAABAAAAAABAAAAAAAAAAEAAAIAAAAAAQAACgAAAAABAAAEAAAAAAEAAAAAAAAAAQAAAgAAAAABAAAKAAAAAAEAAAQAAAAAAQAAAAAAAAABAAACAAAAAAEAAAoAAAAAAQAABAAAAAABAAAAAAAAAAEAAAIAAAAAAQAACgAAAAABAAAEAAAAAAEAAAAAAAAAAQAAAgAAAAABAAAKAAAAAAEAAAQAAAAAAQAAAAAAAAABAAACAAAAAAEAAAoAAAAAAQAABAAAAAABAAAAAAAAAAEAAAIAAAAAAQAACgAAAAABAAAEAAAAAAEAAAAAAAAAAQAAAgAAAAABAAAKAAAAAAEAAAQAAAAAAQAAAAAAAAABAAACAAAAAAEAAAoAAAAAAQAABAAAAAABAAAAAAAAAAEAAAIAAAAAAQAACgAAAAABAAAEAAAAAAEAAAAAAAAAAQAAAgAAAAABAAAKAAAAAAEAAAQAAAAAAQAAAAAAAAABAAACAAAAAAEAAAoAAAAAAQAABAAAAAABAAAAAAAAAAEAAAIAAAAAAQAACgAAAAABAAAEAAAAAAEAAAAAAAAAAQAAAgAAAAABAAAKAAAAAAEAAAQAAAAAAQAAAAAAAAABAAACAAAAAAEAAAoAAAAAAQAABAAAAAABAAAAAAAAAAEAAAIAAAAAAQAACgAAAAABAAAEAAAAAAEAAAAAAAAAAQAAAgAAAAAcc3RzYwAAAAAAAAABAAAAAQAAA+0AAAABAAAPyHN0c3oAAAAAAAAAAAAAA+0AAASJAAAAsQAAADAAAAA0AAAAJAAAAEYAAAA0AAAAIAAAACMAAAB5AAAAKQAAACEAAAAcAAAAJwAAAB8AAAAbAAAAHAAAACAAAAAfAAAAGwAAABkAAAAhAAAANAAAAB0AAAAhAAAAeAAAACQAAAAYAAAAHAAAAC4AAAArAAAAGwAAACcAAABEAAAAHgAAABwAAAAcAAAAMQAAAB0AAAAcAAAAIgAAADQAAAAhAAAAHAAAACsAAAAsAAAAGAAAABUAAAAbAAAASgAAADEAAAAhAAAARgAAAC4AAAAjAAAAHgAAABsAAAAxAAAAGAAAABcAAABKAAAASgAAACMAAAAkAAAAawAAAE8AAAAfAAAAMAAAADwAAAAxAAAAIgAAACUAAAA3AAAAOAAAACQAAAAqAAAAMQAAACEAAAAVAAAAFwAAAIIAAAAqAAAAIwAAABcAAABKAAAANAAAACUAAAAlAAAAHQAAABkAAAAYAAAAZgAAADQAAAAhAAAAIQAAAEQAAAA6AAAAGwAAACAAAABRAAAAKAAAABwAAAAfAAAARAAAADUAAAAgAAAAGAAAAEAAAAAmAAAAGgAAAB8AAAA7AAAAJAAAACEAAAAWAAAAQwAAACIAAAAWAAAAHgAAADAAAAAjAAAAIQAAAB4AAAAzAAAAIgAAACUAAAAWAAAAKwAAAB0AAAAVAAAAGQAAAB0AAAA1AAAAHgAAACEAAACTAAAAIQAAABYAAAAbAAAANQAAACAAAAAdAAAAGAAAABsAAAA0AAAAGwAAAB8AAAAbAAAALgAAABYAAAAXAAAAGwAAAB0AAAAYAAAAGAAAACMAAAAuAAAAGgAAABoAAAAbAAAALQAAABYAAAAXAAAAGwAAADUAAAAcAAAAIgAAADoAAAAcAAAAGQAAABgAAAAbAAAARwAAAB4AAAAjAAAAMAAAACoAAAAXAAAAFwAAABsAAAAcAAAAGAAAABgAAAAbAAAAMAAAAB0AAAAiAAAAKwAAACsAAAAWAAAAGAAAABwAAAAfAAAAGAAAABgAAABuAAAAIQAAACMAAAAdAAAAdgAAACgAAAAqAAAAHwAAAE0AAAAhAAAAFQAAACAAAAA7AAAAKgAAACkAAAAiAAAAagAAADIAAAAiAAAAHQAAAFMAAAA1AAAAMgAAABgAAAAnAAAANQAAACUAAAAfAAAAHwAAACcAAAAjAAAAFgAAACEAAAAkAAAAFgAAABgAAABSAAAAIgAAABYAAAAmAAAAQwAAACUAAAAeAAAANgAAAD0AAAAnAAAANgAAACAAAABNAAAANQAAABYAAAAwAAAAKwAAAB0AAAAVAAABtQAAAEMAAAAyAAAAGwAAABYAAAA9AAAAJgAAAC0AAAAeAAAAUgAAACsAAAAsAAAALQAAAEEAAAAhAAAAHgAAABQAAAAvAAAAFwAAABUAAAAUAAAANgAAABcAAAASAAAAHwAAACMAAAAtAAAAKgAAAB0AAABgAAAASgAAACUAAAAgAAAANAAAADIAAAAsAAAAHQAAAEgAAAAgAAAAFQAAAB4AAAB1AAAAJAAAAB4AAAAeAAAAOQAAACQAAAAcAAAAMQAAAG4AAAAqAAAAIAAAACkAAABFAAAALwAAACUAAAAdAAAAPQAAAB8AAAAaAAAAKwAAABsAAAAaAAAAFQAAABQAAAAaAAAAIgAAABYAAAAUAAAAPAAAAD4AAAAsAAAALQAAAGUAAAAwAAAAGwAAACIAAAAbAAAALQAAABUAAAAUAAAAGgAAABcAAAAVAAAAFAAAAD8AAAAYAAAAEgAAABYAAACMAAAAPQAAAC4AAAAdAAAAGwAAADcAAAAsAAAAHgAAADcAAAAWAAAAEgAAABIAAAAaAAAAMAAAABUAAAAUAAAAOwAAACoAAAAVAAAALwAAAF8AAAAxAAAAJgAAABgAAABLAAAANQAAACsAAAAcAAAAGgAAABsAAAAVAAAAFQAAAEIAAAAiAAAAFQAAAB8AAABYAAAAIwAAABwAAAAiAAAARwAAACcAAAAsAAAAJQAAABsAAAAcAAAAFgAAABYAAAAsAAAALgAAABcAAAAUAAAAVAAAACUAAAAVAAAAHgAAAEQAAAAlAAAAIQAAACUAAADjAAAAMgAAAB8AAAA0AAAAdQAAADsAAAAiAAAAJQAAADsAAAAnAAAAMAAAADAAAABlAAAAOAAAABsAAAAtAAAAegAAADQAAAAyAAAAIQAAAFYAAABBAAAAHwAAAC8AAABBAAAALgAAACkAAAAlAAAAYQAAADAAAAAeAAAAbAAAADkAAAAuAAAAJwAAACoAAABDAAAAMwAAABwAAABUAAAAJwAAABgAAAAhAAAAUAAAADsAAAAwAAAAHwAAAGQAAAAtAAAAFQAAAB8AAABQAAAANQAAACAAAAAeAAAAMgAAABcAAAAVAAAAJQAAAHEAAAAjAAAAFQAAAC4AAABWAAAAJAAAABYAAAAhAAAAUgAAACUAAAAeAAAAKAAAAFgAAAArAAAAHwAAADMAAAA3AAAAJgAAACIAAAAzAAAAJgAAABoAAAAXAAAAFgAAAIYAAAA2AAAAGAAAACkAAABBAAAAHQAAABcAAAAXAAAAUQAAACYAAAAVAAAANgAAAIoAAAAqAAAAHwAAACwAAAApAAAAGwAAAfYAAACTAAAAOQAAACYAAAAYAAAANAAAACAAAAAWAAAAGgAAAGsAAAApAAAAIQAAABsAAABUAAAAIgAAAB0AAAAbAAAAWwAAACoAAAAvAAAALgAAAFgAAAA2AAAAIgAAABsAAABLAAAAIwAAAC0AAAAVAAAAZQAAACUAAAAUAAAAIQAAAEwAAAAkAAAAJQAAABYAAABTAAAAKgAAABIAAAAiAAAASQAAAB8AAAAhAAAAFQAAAHIAAAA3AAAAGQAAACcAAABGAAAAHQAAABYAAAAXAAAAXgAAACgAAAAiAAAALAAAAB8AAAAbAAAAFgAAABcAAABpAAAALgAAACYAAAAiAAAATwAAADgAAAAdAAAAJgAAAG0AAABCAAAAKQAAADcAAABgAAAAUgAAACEAAAAwAAAAWQAAACQAAAAfAAAAIAAAAF0AAABCAAAAIwAAACQAAAByAAAAIgAAAB0AAAAZAAAARQAAADcAAAAzAAAAIAAAAEcAAAAuAAAAHgAAACEAAABXAAAANQAAACcAAAAfAAAARgAAAB0AAAEqAAAAMAAAALIAAABVAAAALwAAADgAAABgAAAATwAAACgAAAAxAAAAdQAAAEMAAAAsAAAAMAAAAHcAAABDAAAAMgAAACYAAABmAAAATQAAACoAAAApAAAAaAAAACkAAAB5AAAAOQAAACYAAAApAAAAgQAAAC0AAAAhAAAAIgAAAFgAAAA2AAAAHwAAACIAAACVAAAAPgAAACEAAAAnAAAAbAAAADsAAAAjAAAAIgAAAEQAAABHAAAAJgAAABsAAABbAAAAPQAAAC4AAAAkAAAASQAAAFYAAAArAAAAJQAAAGMAAABaAAAAMAAAACEAAACiAAAAUAAAADkAAAA9AAAAggAAAEQAAAAhAAAAKQAAAGIAAAAsAAAAIwAAAB8AAACcAAAALwAAACUAAAAiAAAAcgAAAEUAAAAoAAAANAAAAHcAAAA1AAAAJgAAACcAAABXAAAALQAAACoAAAAyAAAAUgAAADAAAAAuAAAAKwAAAGgAAABHAAAAOAAAACkAAABEAAAAKAAAAC8AAACVAAAAUgAAACkAAAAgAAAAiAAAADcAAAAiAAAAKQAAAGEAAABBAAAAJAAAADIAAABdAAAANwAAACcAAAAvAAAAgwAAADMAAAAwAAAALAAAAD8AAAA3AAAAJQAAACYAAABOAAAAPQAAACUAAAAsAAAAigAAADYAAAA0AAAAJQAAAGsAAAAzAAAAIAAAACYAAABaAAAANgAAADIAAAAiAAAAjgAAAFkAAAA9AAAANAAAAD4AAABBAAAAKgAAADcAAAG8AAAAigAAAC8AAAAkAAAAGgAAAFYAAAAtAAAAHgAAACMAAACdAAAAMAAAAC8AAAAxAAAAkAAAADsAAAA7AAAAGQAAAH8AAAA5AAAAJAAAAC4AAABiAAAAJwAAADIAAACFAAAATAAAADMAAAAlAAAAVwAAACsAAAAmAAAAHwAAAEUAAAA2AAAALgAAACgAAAA/AAAARQAAAC8AAAAnAAAARgAAACwAAABlAAAAQQAAACsAAAAoAAAAUgAAAC8AAAAnAAAAHgAAADYAAABYAAAAMwAAACgAAAJjAAAAjAAAAEcAAAApAAAALwAAAFIAAAA1AAAAIAAAACIAAABMAAAALgAAACAAAAAcAAAAVwAAACkAAAApAAAAHAAAAHMAAAAzAAAAJAAAACIAAABEAAAAJwAAADQAAAAfAAAAaQAAACEAAAAdAAAAHgAAAHgAAAA0AAAAJQAAAB4AAAArAAAARgAAACEAAAAjAAAAUwAAAC8AAAAeAAAAGgAAABsAAABFAAAAHgAAACQAAABKAAAAMwAAAC4AAAAvAAAAXQAAACQAAAAkAAAAJAAAAEAAAAAdAAAAFwAAABUAAAAfAAAANQAAAB0AAAArAAAAIQAAABwAAAAWAAAAFwAAABsAAAAaAAAAFgAAABcAAABMAAAAIQAAABgAAAAcAAAANQAAACMAAAAgAAAAHgAAAEwAAAAjAAAAKwAAACQAAAAxAAAAKgAAACMAAAAwAAAAVgAAACUAAAAtAAAAFgAAAD0AAAAbAAAAFwAAABcAAAAqAAAAIwAAAB4AAAAgAAAAGwAAADQAAAAWAAAAFwAAACUAAAAcAAAAGAAAADAAAABVAAAANAAAAB4AAAAgAAAAWgAAABsAAAAYAAAAJAAAAD8AAAA5AAAAGAAAADUAAAApAAAAKgAAADAAAAAuAAAAGwAAADAAAAAcAAAAHgAAABsAAAAaAAAAFgAAABcAAAAbAAAAHAAAABYAAAAYAAAAOwAAABkAAAAWAAAAEgAAAGwAAAAhAAAAEgAAAC4AAABRAAAANAAAACAAAAAaAAAAUAAAACYAAAAhAAAANAAAAGUAAAA0AAAAJQAAACAAAABAAAAAJQAAADEAAAAdAAAAMwAAACAAAAAwAAAAFwAAACIAAAAXAAAAFAAAABUAAAAbAAAAIAAAABoAAAAbAAAAPwAAAD8AAAAdAAAALQAAADgAAAAaAAAAFAAAABYAAABCAAAAIgAAAB4AAAAZAAAAPwAAAEwAAAAhAAAALAAAACMAAAAlAAAAHwAAACsAAAAbAAAAGAAAABQAAAAVAAAARAAAACIAAAAUAAAAHgAAACkAAAAgAAAAIAAAABUAAAAUc3RjbwAAAAAAAAABAAAAMAAAAGJ1ZHRhAAAAWm1ldGEAAAAAAAAAIWhkbHIAAAAAAAAAAG1kaXJhcHBsAAAAAAAAAAAAAAAALWlsc3QAAAAlqXRvbwAAAB1kYXRhAAAAAQAAAABMYXZmNTcuODMuMTAw\" type=\"video/mp4\">\n",
       "  Your browser does not support the video tag.\n",
       "  </video>"
      ],
      "text/plain": [
       "<IPython.core.display.HTML object>"
      ]
     },
     "execution_count": 35,
     "metadata": {},
     "output_type": "execute_result"
    }
   ],
   "source": [
    "def create_policy_eval_video(policy, filename, num_episodes=5, fps=30):\n",
    "  filename = filename + \".mp4\"\n",
    "  with imageio.get_writer(filename, fps=fps) as video:\n",
    "    for _ in range(num_episodes):\n",
    "      time_step = eval_env.reset()\n",
    "      video.append_data(eval_py_env.render())\n",
    "      while not time_step.is_last():\n",
    "        action_step = policy.action(time_step)\n",
    "        time_step = eval_env.step(action_step.action)\n",
    "        video.append_data(eval_py_env.render())\n",
    "  return embed_mp4(filename)\n",
    "\n",
    "\n",
    "\n",
    "\n",
    "create_policy_eval_video(agent.policy, \"trained-agent\")"
   ]
  },
  {
   "cell_type": "markdown",
   "metadata": {
    "colab_type": "text",
    "id": "povaAOcZygLw"
   },
   "source": [
    "For fun, compare the trained agent (above) to an agent moving randomly. (It does not do as well.)"
   ]
  },
  {
   "cell_type": "code",
   "execution_count": 36,
   "metadata": {
    "colab": {},
    "colab_type": "code",
    "id": "pJZIdC37yNH4"
   },
   "outputs": [
    {
     "name": "stderr",
     "output_type": "stream",
     "text": [
      "WARNING:root:IMAGEIO FFMPEG_WRITER WARNING: input image is not divisible by macro_block_size=16, resizing from (400, 600) to (400, 608) to ensure video compatibility with most codecs and players. To prevent resizing, make your input image divisible by the macro_block_size or set the macro_block_size to None (risking incompatibility). You may also see a FFMPEG warning concerning speedloss due to data not being aligned.\n"
     ]
    },
    {
     "data": {
      "text/html": [
       "\n",
       "  <video width=\"640\" height=\"480\" controls>\n",
       "    <source src=\"data:video/mp4;base64,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\" type=\"video/mp4\">\n",
       "  Your browser does not support the video tag.\n",
       "  </video>"
      ],
      "text/plain": [
       "<IPython.core.display.HTML object>"
      ]
     },
     "execution_count": 36,
     "metadata": {},
     "output_type": "execute_result"
    }
   ],
   "source": [
    "create_policy_eval_video(random_policy, \"random-agent\")"
   ]
  }
 ],
 "metadata": {
  "colab": {
   "collapsed_sections": [],
   "name": "DQN Tutorial.ipynb",
   "private_outputs": true,
   "provenance": [],
   "toc_visible": true
  },
  "kernelspec": {
   "display_name": "Python 3",
   "language": "python",
   "name": "python3"
  },
  "language_info": {
   "codemirror_mode": {
    "name": "ipython",
    "version": 3
   },
   "file_extension": ".py",
   "mimetype": "text/x-python",
   "name": "python",
   "nbconvert_exporter": "python",
   "pygments_lexer": "ipython3",
   "version": "3.6.9"
  },
  "pycharm": {
   "stem_cell": {
    "cell_type": "raw",
    "metadata": {
     "collapsed": false
    },
    "source": []
   }
  }
 },
 "nbformat": 4,
 "nbformat_minor": 1
}
